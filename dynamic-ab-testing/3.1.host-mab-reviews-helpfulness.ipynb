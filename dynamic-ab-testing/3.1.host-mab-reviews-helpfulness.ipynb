{
 "cells": [
  {
   "cell_type": "markdown",
   "id": "937c420a",
   "metadata": {},
   "source": [
    "# [모듈 3.1] 앤드 포인트 배포\n",
    "\n",
    "\n",
    "---"
   ]
  },
  {
   "cell_type": "markdown",
   "id": "d0ebcbca",
   "metadata": {},
   "source": [
    "# 1. 환경 셋업"
   ]
  },
  {
   "cell_type": "code",
   "execution_count": 1,
   "id": "6b75f6da",
   "metadata": {},
   "outputs": [],
   "source": [
    "%load_ext autoreload\n",
    "%autoreload 2"
   ]
  },
  {
   "cell_type": "code",
   "execution_count": 2,
   "id": "09735277",
   "metadata": {},
   "outputs": [
    {
     "name": "stdout",
     "output_type": "stream",
     "text": [
      "Stored variables and their in-db values:\n",
      "challenger_model_artifact                    -> 's3://sagemaker-us-east-1-189546603447/mab-reviews\n",
      "challenger_train_job                         -> 'blazingtext-220414-0947-008-c4672311'\n",
      "champion_model_artifact                      -> 's3://sagemaker-us-east-1-189546603447/mab-reviews\n",
      "champion_train_job                           -> 'blazingtext-2022-04-14-09-41-42-181'\n",
      "endpoint_name                                -> 'MAP-Inference-Endpoint-2022-04-15-10-03-57'\n",
      "model_train_inference_docker                 -> '811284229777.dkr.ecr.us-east-1.amazonaws.com/blaz\n",
      "model_train_inference_docker_uri             -> '811284229777.dkr.ecr.us-east-1.amazonaws.com/blaz\n"
     ]
    }
   ],
   "source": [
    "%store -r\n",
    "%store"
   ]
  },
  {
   "cell_type": "code",
   "execution_count": 7,
   "id": "0a6cb920",
   "metadata": {},
   "outputs": [
    {
     "name": "stdout",
     "output_type": "stream",
     "text": [
      "champion_model_name:  Champion-2022-04-17-07-42-30\n",
      "challenger_model_name:  Challenger-2022-04-17-07-42-30\n"
     ]
    }
   ],
   "source": [
    "from datetime import datetime\n",
    "from sagemaker import get_execution_role, session\n",
    "import boto3\n",
    "\n",
    "role = get_execution_role()\n",
    "sm_session = session.Session(boto3.Session())\n",
    "sm_runtime = boto3.Session().client(\"sagemaker-runtime\")\n",
    "\n"
   ]
  },
  {
   "cell_type": "markdown",
   "id": "24f5dbbb",
   "metadata": {},
   "source": [
    "# 1. 세이지 메이커 모델 생성"
   ]
  },
  {
   "cell_type": "markdown",
   "id": "9bdbeef9",
   "metadata": {},
   "source": [
    "세이지 메이커 모델 생성을 위한 추론용 도컬 이미지, 모델 아티펙트 경로 확인"
   ]
  },
  {
   "cell_type": "code",
   "execution_count": 3,
   "id": "67210ed3",
   "metadata": {},
   "outputs": [
    {
     "name": "stdout",
     "output_type": "stream",
     "text": [
      "model_train_inference_docker_uri: \n",
      " 811284229777.dkr.ecr.us-east-1.amazonaws.com/blazingtext:1\n",
      "\n",
      "champion_model_artifact: \n",
      " s3://sagemaker-us-east-1-189546603447/mab-reviews-helpfulness/output/blazingtext-2022-04-17-07-08-39-410/output/model.tar.gz\n",
      "\n",
      "challenger_model_artifact: \n",
      " s3://sagemaker-us-east-1-189546603447/mab-reviews-helpfulness/output/blazingtext-220414-0947-008-c4672311/output/model.tar.gz\n"
     ]
    }
   ],
   "source": [
    "print(\"model_train_inference_docker_uri: \\n\", model_train_inference_docker_uri)\n",
    "print(\"\\nchampion_model_artifact: \\n\", champion_model_artifact)\n",
    "print(\"\\nchallenger_model_artifact: \\n\", challenger_model_artifact)\n"
   ]
  },
  {
   "cell_type": "markdown",
   "id": "4ad84da9",
   "metadata": {},
   "source": [
    "세이지 메이커 모델 생성"
   ]
  },
  {
   "cell_type": "code",
   "execution_count": 9,
   "id": "9e4248be",
   "metadata": {},
   "outputs": [
    {
     "name": "stdout",
     "output_type": "stream",
     "text": [
      "champion_model_name:  Champion-2022-04-17-07-47-51\n",
      "challenger_model_name:  Challenger-2022-04-17-07-47-51\n"
     ]
    },
    {
     "data": {
      "text/plain": [
       "'Challenger-2022-04-17-07-47-51'"
      ]
     },
     "execution_count": 9,
     "metadata": {},
     "output_type": "execute_result"
    }
   ],
   "source": [
    "champion_model_name = f\"Champion-{datetime.now():%Y-%m-%d-%H-%M-%S}\"\n",
    "challenger_model_name = f\"Challenger-{datetime.now():%Y-%m-%d-%H-%M-%S}\"\n",
    "\n",
    "print(\"champion_model_name: \", champion_model_name)\n",
    "print(\"challenger_model_name: \", challenger_model_name)\n",
    "\n",
    "\n",
    "sm_session.create_model(\n",
    "    name=champion_model_name, \n",
    "    role=role, \n",
    "    container_defs={\"Image\": model_train_inference_docker_uri, \n",
    "                    \"ModelDataUrl\": champion_model_artifact}\n",
    ")\n",
    "\n",
    "sm_session.create_model(\n",
    "    name=challenger_model_name, \n",
    "    role=role, \n",
    "    container_defs={\"Image\": model_train_inference_docker_uri, \n",
    "                    \"ModelDataUrl\": challenger_model_artifact}\n",
    ")"
   ]
  },
  {
   "cell_type": "markdown",
   "id": "26d44131",
   "metadata": {
    "papermill": {
     "duration": 0.029456,
     "end_time": "2021-06-03T00:10:05.207592",
     "exception": false,
     "start_time": "2021-06-03T00:10:05.178136",
     "status": "completed"
    },
    "tags": []
   },
   "source": [
    "# 2. 변형 생성\n",
    "\n",
    "이제 각각 고유한 모델이 있는 두 가지 변형을 생성합니다(이는 인스턴스 유형 및 개수도 다를 수 있음).\n",
    "\n",
    "두 변형에 대해 initial_weight를 \"1\"로 설정했습니다. 즉, 요청의 50%가 Variant1로 이동하고 나머지 50%가 Variant2로 이동됨을 의미합니다. (두 변형에 대한 가중치의 합은 2이고 각 변형에는 1의 가중치 할당이 있습니다. 이는 각 변형이 총 트래픽의 1/2 또는 50%를 수신함을 의미합니다.)\n",
    "\n",
    "- 변형1 의 이름은 \"Champion\", 변형2 의 이름은 \"Challenger\" 입니다."
   ]
  },
  {
   "cell_type": "code",
   "execution_count": 10,
   "id": "4c1c8fa7",
   "metadata": {},
   "outputs": [
    {
     "data": {
      "text/plain": [
       "({'ModelName': 'Champion-2022-04-17-07-47-51',\n",
       "  'VariantName': 'Champion',\n",
       "  'InitialVariantWeight': 1,\n",
       "  'InitialInstanceCount': 1,\n",
       "  'InstanceType': 'ml.c5.4xlarge'},\n",
       " {'ModelName': 'Challenger-2022-04-17-07-47-51',\n",
       "  'VariantName': 'Challenger',\n",
       "  'InitialVariantWeight': 1,\n",
       "  'InitialInstanceCount': 1,\n",
       "  'InstanceType': 'ml.c5.4xlarge'})"
      ]
     },
     "execution_count": 10,
     "metadata": {},
     "output_type": "execute_result"
    }
   ],
   "source": [
    "from sagemaker.session import production_variant\n",
    "\n",
    "instance_type = \"ml.c5.4xlarge\"\n",
    "\n",
    "variant1 = production_variant(\n",
    "    model_name=champion_model_name,\n",
    "    instance_type= instance_type,\n",
    "    initial_instance_count=1,\n",
    "    variant_name=\"Champion\",\n",
    "    initial_weight=1,\n",
    ")\n",
    "variant2 = production_variant(\n",
    "    model_name=challenger_model_name,\n",
    "    instance_type= instance_type,\n",
    "    initial_instance_count=1,\n",
    "    variant_name=\"Challenger\",\n",
    "    initial_weight=1,\n",
    ")\n",
    "\n",
    "(variant1, variant2)"
   ]
  },
  {
   "cell_type": "markdown",
   "id": "0d284ddb",
   "metadata": {
    "papermill": {
     "duration": 0.029624,
     "end_time": "2021-06-03T00:10:05.333520",
     "exception": false,
     "start_time": "2021-06-03T00:10:05.303896",
     "status": "completed"
    },
    "tags": []
   },
   "source": [
    "# 3. 엔드포인트 배포\n",
    "\n",
    "두 가지 변형을 SageMaker 싱글 엔드포인트에 배포"
   ]
  },
  {
   "cell_type": "code",
   "execution_count": 11,
   "id": "c066c3e2",
   "metadata": {},
   "outputs": [
    {
     "name": "stdout",
     "output_type": "stream",
     "text": [
      "EndpointName=MAP-Inference-Endpoint-2022-04-17-07-55-05\n",
      "-------------!CPU times: user 179 ms, sys: 10.8 ms, total: 190 ms\n",
      "Wall time: 6min 31s\n"
     ]
    },
    {
     "data": {
      "text/plain": [
       "'MAP-Inference-Endpoint-2022-04-17-07-55-05'"
      ]
     },
     "execution_count": 11,
     "metadata": {},
     "output_type": "execute_result"
    }
   ],
   "source": [
    "%%time \n",
    "\n",
    "endpoint_name = f\"MAP-Inference-Endpoint-{datetime.now():%Y-%m-%d-%H-%M-%S}\"\n",
    "print(f\"EndpointName={endpoint_name}\")\n",
    "\n",
    "sm_session.endpoint_from_production_variants(\n",
    "    name=endpoint_name, production_variants=[variant1, variant2]\n",
    ")"
   ]
  },
  {
   "cell_type": "markdown",
   "id": "2491b9d8",
   "metadata": {},
   "source": [
    "# 4. 앤드포인트 이름 저장"
   ]
  },
  {
   "cell_type": "code",
   "execution_count": 12,
   "id": "e4cb005a",
   "metadata": {},
   "outputs": [
    {
     "name": "stdout",
     "output_type": "stream",
     "text": [
      "Stored 'endpoint_name' (str)\n"
     ]
    }
   ],
   "source": [
    "%store endpoint_name"
   ]
  },
  {
   "cell_type": "code",
   "execution_count": null,
   "id": "068c6975",
   "metadata": {},
   "outputs": [],
   "source": []
  },
  {
   "cell_type": "code",
   "execution_count": null,
   "id": "2195f70f",
   "metadata": {},
   "outputs": [],
   "source": []
  }
 ],
 "metadata": {
  "kernelspec": {
   "display_name": "conda_python3",
   "language": "python",
   "name": "conda_python3"
  },
  "language_info": {
   "codemirror_mode": {
    "name": "ipython",
    "version": 3
   },
   "file_extension": ".py",
   "mimetype": "text/x-python",
   "name": "python",
   "nbconvert_exporter": "python",
   "pygments_lexer": "ipython3",
   "version": "3.8.12"
  }
 },
 "nbformat": 4,
 "nbformat_minor": 5
}
