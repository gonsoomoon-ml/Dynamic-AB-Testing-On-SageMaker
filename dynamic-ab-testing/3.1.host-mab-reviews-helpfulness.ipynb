{
 "cells": [
  {
   "cell_type": "markdown",
   "id": "d87aa3ab",
   "metadata": {},
   "source": [
    "# [모듈 3.1] 앤드 포인트 배포\n",
    "\n",
    "이 노트북은 아래와 같은 단계로 구성이 되어 있습니다.\n",
    "\n",
    "1. 환경 셋업\n",
    "2. 세이지 메이커 모델 생성\n",
    "3. 변형 생성\n",
    "4. 엔드포인트 생성\n",
    "5. 앤드포인트 이름 저장\n",
    "\n",
    "---"
   ]
  },
  {
   "cell_type": "markdown",
   "id": "065ab771",
   "metadata": {},
   "source": [
    "# 1. 환경 셋업"
   ]
  },
  {
   "cell_type": "code",
   "execution_count": 1,
   "id": "411e7bff",
   "metadata": {},
   "outputs": [],
   "source": [
    "%load_ext autoreload\n",
    "%autoreload 2"
   ]
  },
  {
   "cell_type": "code",
   "execution_count": 2,
   "id": "6fbee2a9",
   "metadata": {},
   "outputs": [
    {
     "name": "stdout",
     "output_type": "stream",
     "text": [
      "Stored variables and their in-db values:\n",
      "challenger_model_artifact                    -> 's3://sagemaker-us-east-1-189546603447/mab-reviews\n",
      "challenger_train_job                         -> 'blazingtext-220414-0947-008-c4672311'\n",
      "champion_model_artifact                      -> 's3://sagemaker-us-east-1-189546603447/mab-reviews\n",
      "champion_train_job                           -> 'blazingtext-2022-04-14-09-41-42-181'\n",
      "endpoint_name                                -> 'sagemaker-xgboost-2022-04-17-23-46-33-139'\n",
      "model_train_inference_docker                 -> '811284229777.dkr.ecr.us-east-1.amazonaws.com/blaz\n",
      "model_train_inference_docker_uri             -> '811284229777.dkr.ecr.us-east-1.amazonaws.com/blaz\n",
      "s3_path                                      -> 's3://sagemaker-us-east-1-189546603447/sm-special-\n",
      "test_df                                      ->      vehicle_claim  total_claim_amount  customer_a\n"
     ]
    }
   ],
   "source": [
    "%store -r\n",
    "%store"
   ]
  },
  {
   "cell_type": "code",
   "execution_count": 3,
   "id": "e8b1cdb8",
   "metadata": {},
   "outputs": [],
   "source": [
    "from datetime import datetime\n",
    "from sagemaker import get_execution_role, session\n",
    "import boto3\n",
    "\n",
    "role = get_execution_role()\n",
    "sm_session = session.Session(boto3.Session())\n",
    "sm_runtime = boto3.Session().client(\"sagemaker-runtime\")\n",
    "\n"
   ]
  },
  {
   "cell_type": "markdown",
   "id": "30ce2cca",
   "metadata": {},
   "source": [
    "# 2. 세이지 메이커 모델 생성"
   ]
  },
  {
   "cell_type": "markdown",
   "id": "d5a81dbf",
   "metadata": {},
   "source": [
    "세이지 메이커 모델 생성을 위한 추론용 도컬 이미지, 모델 아티펙트 경로 확인"
   ]
  },
  {
   "cell_type": "code",
   "execution_count": 4,
   "id": "4030e7c1",
   "metadata": {},
   "outputs": [
    {
     "name": "stdout",
     "output_type": "stream",
     "text": [
      "model_train_inference_docker_uri: \n",
      " 811284229777.dkr.ecr.us-east-1.amazonaws.com/blazingtext:1\n",
      "\n",
      "champion_model_artifact: \n",
      " s3://sagemaker-us-east-1-189546603447/mab-reviews-helpfulness/output/blazingtext-2022-04-21-03-32-22-409/output/model.tar.gz\n",
      "\n",
      "challenger_model_artifact: \n",
      " s3://sagemaker-us-east-1-189546603447/mab-reviews-helpfulness/output/blazingtext-220421-0335-011-94d79685/output/model.tar.gz\n"
     ]
    }
   ],
   "source": [
    "print(\"model_train_inference_docker_uri: \\n\", model_train_inference_docker_uri)\n",
    "print(\"\\nchampion_model_artifact: \\n\", champion_model_artifact)\n",
    "print(\"\\nchallenger_model_artifact: \\n\", challenger_model_artifact)\n"
   ]
  },
  {
   "cell_type": "markdown",
   "id": "3cb29771",
   "metadata": {},
   "source": [
    "세이지 메이커 모델 생성"
   ]
  },
  {
   "cell_type": "code",
   "execution_count": 5,
   "id": "4cbfe1db",
   "metadata": {},
   "outputs": [
    {
     "name": "stdout",
     "output_type": "stream",
     "text": [
      "champion_model_name:  Champion-2022-04-21-03-57-09\n",
      "challenger_model_name:  Challenger-2022-04-21-03-57-09\n"
     ]
    },
    {
     "data": {
      "text/plain": [
       "'Challenger-2022-04-21-03-57-09'"
      ]
     },
     "execution_count": 5,
     "metadata": {},
     "output_type": "execute_result"
    }
   ],
   "source": [
    "champion_model_name = f\"Champion-{datetime.now():%Y-%m-%d-%H-%M-%S}\"\n",
    "challenger_model_name = f\"Challenger-{datetime.now():%Y-%m-%d-%H-%M-%S}\"\n",
    "\n",
    "print(\"champion_model_name: \", champion_model_name)\n",
    "print(\"challenger_model_name: \", challenger_model_name)\n",
    "\n",
    "\n",
    "sm_session.create_model(\n",
    "    name=champion_model_name, \n",
    "    role=role, \n",
    "    container_defs={\"Image\": model_train_inference_docker_uri, \n",
    "                    \"ModelDataUrl\": champion_model_artifact}\n",
    ")\n",
    "\n",
    "sm_session.create_model(\n",
    "    name=challenger_model_name, \n",
    "    role=role, \n",
    "    container_defs={\"Image\": model_train_inference_docker_uri, \n",
    "                    \"ModelDataUrl\": challenger_model_artifact}\n",
    ")"
   ]
  },
  {
   "cell_type": "markdown",
   "id": "f92d45fa",
   "metadata": {
    "papermill": {
     "duration": 0.029456,
     "end_time": "2021-06-03T00:10:05.207592",
     "exception": false,
     "start_time": "2021-06-03T00:10:05.178136",
     "status": "completed"
    },
    "tags": []
   },
   "source": [
    "# 3. 변형 생성\n",
    "\n",
    "이제 각각 고유한 모델이 있는 두 가지 변형을 생성합니다(이는 인스턴스 유형 및 개수도 다를 수 있음).\n",
    "\n",
    "두 변형에 대해 initial_weight를 \"1\"로 설정했습니다. 즉, 요청의 50%가 Variant1로 이동하고 나머지 50%가 Variant2로 이동됨을 의미합니다. (두 변형에 대한 가중치의 합은 2이고 각 변형에는 1의 가중치 할당이 있습니다. 이는 각 변형이 총 트래픽의 1/2 또는 50%를 수신함을 의미합니다.)\n",
    "\n",
    "- 변형1 의 이름은 \"Champion\", 변형2 의 이름은 \"Challenger\" 입니다."
   ]
  },
  {
   "cell_type": "code",
   "execution_count": 6,
   "id": "88738220",
   "metadata": {},
   "outputs": [
    {
     "data": {
      "text/plain": [
       "({'ModelName': 'Champion-2022-04-21-03-57-09',\n",
       "  'VariantName': 'Champion',\n",
       "  'InitialVariantWeight': 1,\n",
       "  'InitialInstanceCount': 1,\n",
       "  'InstanceType': 'ml.c5.4xlarge'},\n",
       " {'ModelName': 'Challenger-2022-04-21-03-57-09',\n",
       "  'VariantName': 'Challenger',\n",
       "  'InitialVariantWeight': 1,\n",
       "  'InitialInstanceCount': 1,\n",
       "  'InstanceType': 'ml.c5.4xlarge'})"
      ]
     },
     "execution_count": 6,
     "metadata": {},
     "output_type": "execute_result"
    }
   ],
   "source": [
    "from sagemaker.session import production_variant\n",
    "\n",
    "instance_type = \"ml.c5.4xlarge\"\n",
    "\n",
    "variant1 = production_variant(\n",
    "    model_name=champion_model_name,\n",
    "    instance_type= instance_type,\n",
    "    initial_instance_count=1,\n",
    "    variant_name=\"Champion\",\n",
    "    initial_weight=1,\n",
    ")\n",
    "variant2 = production_variant(\n",
    "    model_name=challenger_model_name,\n",
    "    instance_type= instance_type,\n",
    "    initial_instance_count=1,\n",
    "    variant_name=\"Challenger\",\n",
    "    initial_weight=1,\n",
    ")\n",
    "\n",
    "(variant1, variant2)"
   ]
  },
  {
   "cell_type": "markdown",
   "id": "206ee441",
   "metadata": {
    "papermill": {
     "duration": 0.029624,
     "end_time": "2021-06-03T00:10:05.333520",
     "exception": false,
     "start_time": "2021-06-03T00:10:05.303896",
     "status": "completed"
    },
    "tags": []
   },
   "source": [
    "# 4. 엔드포인트 생성\n",
    "\n",
    "두 가지 변형을 SageMaker 싱글 엔드포인트에 배포"
   ]
  },
  {
   "cell_type": "code",
   "execution_count": 7,
   "id": "8bec32fb",
   "metadata": {},
   "outputs": [
    {
     "name": "stdout",
     "output_type": "stream",
     "text": [
      "EndpointName=MAP-Inference-Endpoint-2022-04-21-03-57-12\n",
      "-----------!CPU times: user 144 ms, sys: 13.1 ms, total: 157 ms\n",
      "Wall time: 5min 31s\n"
     ]
    },
    {
     "data": {
      "text/plain": [
       "'MAP-Inference-Endpoint-2022-04-21-03-57-12'"
      ]
     },
     "execution_count": 7,
     "metadata": {},
     "output_type": "execute_result"
    }
   ],
   "source": [
    "%%time \n",
    "\n",
    "endpoint_name = f\"MAP-Inference-Endpoint-{datetime.now():%Y-%m-%d-%H-%M-%S}\"\n",
    "print(f\"EndpointName={endpoint_name}\")\n",
    "\n",
    "sm_session.endpoint_from_production_variants(\n",
    "    name=endpoint_name, production_variants=[variant1, variant2]\n",
    ")"
   ]
  },
  {
   "cell_type": "markdown",
   "id": "56f315d4",
   "metadata": {},
   "source": [
    "# 5. 앤드포인트 이름 저장"
   ]
  },
  {
   "cell_type": "code",
   "execution_count": 8,
   "id": "54fdf371",
   "metadata": {},
   "outputs": [
    {
     "name": "stdout",
     "output_type": "stream",
     "text": [
      "Stored 'endpoint_name' (str)\n"
     ]
    }
   ],
   "source": [
    "%store endpoint_name"
   ]
  },
  {
   "cell_type": "code",
   "execution_count": null,
   "id": "c37fff25",
   "metadata": {},
   "outputs": [],
   "source": []
  },
  {
   "cell_type": "code",
   "execution_count": null,
   "id": "68d50f7e",
   "metadata": {},
   "outputs": [],
   "source": []
  }
 ],
 "metadata": {
  "kernelspec": {
   "display_name": "conda_python3",
   "language": "python",
   "name": "conda_python3"
  },
  "language_info": {
   "codemirror_mode": {
    "name": "ipython",
    "version": 3
   },
   "file_extension": ".py",
   "mimetype": "text/x-python",
   "name": "python",
   "nbconvert_exporter": "python",
   "pygments_lexer": "ipython3",
   "version": "3.8.12"
  }
 },
 "nbformat": 4,
 "nbformat_minor": 5
}
