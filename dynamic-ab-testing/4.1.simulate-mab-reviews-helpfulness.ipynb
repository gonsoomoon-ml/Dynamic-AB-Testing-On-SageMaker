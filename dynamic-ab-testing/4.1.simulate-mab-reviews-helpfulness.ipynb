{
 "cells": [
  {
   "cell_type": "markdown",
   "id": "76b795de",
   "metadata": {},
   "source": [
    "# [모듈 3.1] MAB A/B Testing 시뮬레이션\n",
    "- MAB (Multi-Armed Bandits)\n",
    "\n",
    "---"
   ]
  },
  {
   "cell_type": "markdown",
   "id": "0141d19f",
   "metadata": {},
   "source": [
    "# 1. 환경 셋업"
   ]
  },
  {
   "cell_type": "code",
   "execution_count": 55,
   "id": "2fb63047",
   "metadata": {},
   "outputs": [
    {
     "name": "stdout",
     "output_type": "stream",
     "text": [
      "The autoreload extension is already loaded. To reload it, use:\n",
      "  %reload_ext autoreload\n"
     ]
    }
   ],
   "source": [
    "%load_ext autoreload\n",
    "%autoreload 2"
   ]
  },
  {
   "cell_type": "code",
   "execution_count": 56,
   "id": "6c6c9183",
   "metadata": {},
   "outputs": [
    {
     "name": "stdout",
     "output_type": "stream",
     "text": [
      "Stored variables and their in-db values:\n",
      "challenger_model_artifact                    -> 's3://sagemaker-us-east-1-189546603447/mab-reviews\n",
      "challenger_train_job                         -> 'blazingtext-220414-0947-008-c4672311'\n",
      "champion_model_artifact                      -> 's3://sagemaker-us-east-1-189546603447/mab-reviews\n",
      "champion_train_job                           -> 'blazingtext-2022-04-14-09-41-42-181'\n",
      "endpoint_name                                -> 'MAP-Inference-Endpoint-2022-04-17-07-55-05'\n",
      "model_train_inference_docker                 -> '811284229777.dkr.ecr.us-east-1.amazonaws.com/blaz\n",
      "model_train_inference_docker_uri             -> '811284229777.dkr.ecr.us-east-1.amazonaws.com/blaz\n"
     ]
    }
   ],
   "source": [
    "%store -r\n",
    "%store"
   ]
  },
  {
   "cell_type": "code",
   "execution_count": 57,
   "id": "10b939bd",
   "metadata": {},
   "outputs": [],
   "source": [
    "import json\n",
    "import os\n",
    "import boto3\n",
    "import tqdm.notebook as tq\n",
    "from botocore.config import Config\n",
    "config = Config(retries={\"max_attempts\": 10, \"mode\": \"standard\"})\n",
    "sm_client = boto3.client('sagemaker', config=config)\n"
   ]
  },
  {
   "cell_type": "markdown",
   "id": "a3845598",
   "metadata": {},
   "source": [
    "# 2. 엔드포인트 추론 테스트"
   ]
  },
  {
   "cell_type": "markdown",
   "id": "eac03cc4",
   "metadata": {},
   "source": [
    "## 2.1. 테스트 데이터 로딩"
   ]
  },
  {
   "cell_type": "code",
   "execution_count": 58,
   "id": "ba5c4f58",
   "metadata": {},
   "outputs": [
    {
     "data": {
      "text/html": [
       "<div>\n",
       "<style scoped>\n",
       "    .dataframe tbody tr th:only-of-type {\n",
       "        vertical-align: middle;\n",
       "    }\n",
       "\n",
       "    .dataframe tbody tr th {\n",
       "        vertical-align: top;\n",
       "    }\n",
       "\n",
       "    .dataframe thead th {\n",
       "        text-align: right;\n",
       "    }\n",
       "</style>\n",
       "<table border=\"1\" class=\"dataframe\">\n",
       "  <thead>\n",
       "    <tr style=\"text-align: right;\">\n",
       "      <th></th>\n",
       "      <th>product_id</th>\n",
       "      <th>product_title</th>\n",
       "      <th>star_rating</th>\n",
       "      <th>helpful_votes</th>\n",
       "      <th>total_votes</th>\n",
       "      <th>review_headline</th>\n",
       "      <th>review_body</th>\n",
       "      <th>helpful_score</th>\n",
       "      <th>sentiment</th>\n",
       "      <th>product_id_total</th>\n",
       "      <th>helpful_votes_total</th>\n",
       "      <th>total_votes_total</th>\n",
       "      <th>is_helpful</th>\n",
       "    </tr>\n",
       "  </thead>\n",
       "  <tbody>\n",
       "    <tr>\n",
       "      <th>0</th>\n",
       "      <td>B000EPLP3C</td>\n",
       "      <td>Zune 30 GB Digital Media Player</td>\n",
       "      <td>5</td>\n",
       "      <td>4</td>\n",
       "      <td>11</td>\n",
       "      <td>Excellent Item</td>\n",
       "      <td>This is the perfect media device for anyone wh...</td>\n",
       "      <td>0.363636</td>\n",
       "      <td>Positive</td>\n",
       "      <td>506</td>\n",
       "      <td>9240</td>\n",
       "      <td>17219</td>\n",
       "      <td>False</td>\n",
       "    </tr>\n",
       "  </tbody>\n",
       "</table>\n",
       "</div>"
      ],
      "text/plain": [
       "   product_id                    product_title  star_rating  helpful_votes  \\\n",
       "0  B000EPLP3C  Zune 30 GB Digital Media Player            5              4   \n",
       "\n",
       "   total_votes review_headline  \\\n",
       "0           11  Excellent Item   \n",
       "\n",
       "                                         review_body  helpful_score sentiment  \\\n",
       "0  This is the perfect media device for anyone wh...       0.363636  Positive   \n",
       "\n",
       "   product_id_total  helpful_votes_total  total_votes_total  is_helpful  \n",
       "0               506                 9240              17219       False  "
      ]
     },
     "execution_count": 58,
     "metadata": {},
     "output_type": "execute_result"
    }
   ],
   "source": [
    "import pandas as pd\n",
    "\n",
    "test_df = pd.read_csv(\"test.csv\")\n",
    "test_df.head(1)"
   ]
  },
  {
   "cell_type": "code",
   "execution_count": 59,
   "id": "619c42c8",
   "metadata": {},
   "outputs": [],
   "source": [
    "from spacy.lang.en import English\n",
    "\n",
    "index_to_label = {0: 'NotHelpful', 1: 'Helpful'} \n",
    "nlp = English()\n",
    "tokenizer = nlp.tokenizer\n",
    "\n",
    "def labelize_df(df):\n",
    "    return '__label__' + df['is_helpful'].apply(lambda is_helpful: index_to_label[is_helpful])\n",
    "\n",
    "def tokenize_sent(sent, max_length=1000):\n",
    "    return ' '.join([token.text for token in tokenizer(sent)])[:max_length]\n",
    "\n",
    "def tokenize_df(df):\n",
    "    return (df['review_headline'].apply(tokenize_sent) + ' ' + \n",
    "            df['review_body'].apply(tokenize_sent))"
   ]
  },
  {
   "cell_type": "code",
   "execution_count": 60,
   "id": "8182df64",
   "metadata": {},
   "outputs": [
    {
     "data": {
      "text/plain": [
       "['Excellent Item This is the perfect media device for anyone who enjoys having music , videos and pictures at your fingertips . Would definettley recommend it over the Ipod Video',\n",
       " \"Outstanding Monitors I 'm a producer / director / editor at a network television production company .   We 've used these M - Audio BX5a monitors in most of our edit bays for several years now and have been very pleased with their performance .   They produce crisp , clear sound for voice , music and effects .   They 're solid , look nice and feature cool blue pilot lights on front between the woofer and tweeter.<br /><br />Highly recommended for post - production audio .\"]"
      ]
     },
     "execution_count": 60,
     "metadata": {},
     "output_type": "execute_result"
    }
   ],
   "source": [
    "\n",
    "test_input = tokenize_df(test_df).to_list()\n",
    "test_input[0:2]\n"
   ]
  },
  {
   "cell_type": "markdown",
   "id": "9670d647",
   "metadata": {},
   "source": [
    "## 2.2. 변형 확인"
   ]
  },
  {
   "cell_type": "code",
   "execution_count": 61,
   "id": "f220ce36",
   "metadata": {},
   "outputs": [],
   "source": [
    "from api.utils import chunker, parse_predictions, predict"
   ]
  },
  {
   "cell_type": "code",
   "execution_count": 62,
   "id": "c22be21c",
   "metadata": {},
   "outputs": [
    {
     "data": {
      "text/plain": [
       "['Champion', 'Challenger']"
      ]
     },
     "execution_count": 62,
     "metadata": {},
     "output_type": "execute_result"
    }
   ],
   "source": [
    "variant_names = [pv['VariantName'] for pv in sm_client.describe_endpoint(EndpointName=endpoint_name)['ProductionVariants']]\n",
    "if len(variant_names) < 2:\n",
    "    raise Exception('Require at least 2 variants for A/B Testing')\n",
    "\n",
    "variant_names"
   ]
  },
  {
   "cell_type": "markdown",
   "id": "14e8be3b",
   "metadata": {},
   "source": [
    "## 2.3. 두 개의 변형에 각각 추론"
   ]
  },
  {
   "cell_type": "code",
   "execution_count": 63,
   "id": "75edd265",
   "metadata": {},
   "outputs": [
    {
     "data": {
      "application/vnd.jupyter.widget-view+json": {
       "model_id": "e243e99d456b4533b9a313b38a8639ff",
       "version_major": 2,
       "version_minor": 0
      },
      "text/plain": [
       "  0%|          | 0/2 [00:00<?, ?it/s]"
      ]
     },
     "metadata": {},
     "output_type": "display_data"
    },
    {
     "name": "stdout",
     "output_type": "stream",
     "text": [
      "CPU times: user 1.14 s, sys: 41.5 ms, total: 1.18 s\n",
      "Wall time: 4.88 s\n"
     ]
    }
   ],
   "source": [
    "%%time\n",
    "\n",
    "batch_size = 50\n",
    "test_preds = [predict(endpoint_name, variant_name, test_input, batch_size) \n",
    "              for variant_name in tq.tqdm(variant_names)]"
   ]
  },
  {
   "cell_type": "code",
   "execution_count": 64,
   "id": "534481b2",
   "metadata": {},
   "outputs": [
    {
     "name": "stdout",
     "output_type": "stream",
     "text": [
      "Size of input:  14226\n",
      "Prediction Shape:  (2, 14226, 2)\n"
     ]
    },
    {
     "data": {
      "text/plain": [
       "[(True, 0.5622734427452087),\n",
       " (True, 0.6609295010566711),\n",
       " (True, 0.5175150036811829)]"
      ]
     },
     "metadata": {},
     "output_type": "display_data"
    },
    {
     "data": {
      "text/plain": [
       "[(True, 0.5536010265350342),\n",
       " (True, 0.7482183575630188),\n",
       " (True, 0.5007462501525879)]"
      ]
     },
     "metadata": {},
     "output_type": "display_data"
    }
   ],
   "source": [
    "import numpy as np\n",
    "from IPython.display import display as dp\n",
    "\n",
    "print(\"Size of input: \", len(test_input))\n",
    "print(\"Prediction Shape: \", np.asarray(test_preds).shape)\n",
    "dp(test_preds[0][0:3])\n",
    "dp(test_preds[1][0:3])\n"
   ]
  },
  {
   "cell_type": "code",
   "execution_count": 65,
   "id": "b2c0b0a2",
   "metadata": {},
   "outputs": [
    {
     "data": {
      "text/html": [
       "<div>\n",
       "<style scoped>\n",
       "    .dataframe tbody tr th:only-of-type {\n",
       "        vertical-align: middle;\n",
       "    }\n",
       "\n",
       "    .dataframe tbody tr th {\n",
       "        vertical-align: top;\n",
       "    }\n",
       "\n",
       "    .dataframe thead th {\n",
       "        text-align: right;\n",
       "    }\n",
       "</style>\n",
       "<table border=\"1\" class=\"dataframe\">\n",
       "  <thead>\n",
       "    <tr style=\"text-align: right;\">\n",
       "      <th></th>\n",
       "      <th>is_helpful</th>\n",
       "      <th>is_helpful_prediction</th>\n",
       "      <th>is_helpful_prob</th>\n",
       "      <th>variant_name</th>\n",
       "    </tr>\n",
       "  </thead>\n",
       "  <tbody>\n",
       "    <tr>\n",
       "      <th>0</th>\n",
       "      <td>False</td>\n",
       "      <td>True</td>\n",
       "      <td>0.562273</td>\n",
       "      <td>Champion</td>\n",
       "    </tr>\n",
       "    <tr>\n",
       "      <th>1</th>\n",
       "      <td>True</td>\n",
       "      <td>True</td>\n",
       "      <td>0.660930</td>\n",
       "      <td>Champion</td>\n",
       "    </tr>\n",
       "    <tr>\n",
       "      <th>2</th>\n",
       "      <td>True</td>\n",
       "      <td>True</td>\n",
       "      <td>0.517515</td>\n",
       "      <td>Champion</td>\n",
       "    </tr>\n",
       "    <tr>\n",
       "      <th>3</th>\n",
       "      <td>True</td>\n",
       "      <td>True</td>\n",
       "      <td>0.526267</td>\n",
       "      <td>Champion</td>\n",
       "    </tr>\n",
       "    <tr>\n",
       "      <th>4</th>\n",
       "      <td>False</td>\n",
       "      <td>False</td>\n",
       "      <td>0.794800</td>\n",
       "      <td>Champion</td>\n",
       "    </tr>\n",
       "    <tr>\n",
       "      <th>...</th>\n",
       "      <td>...</td>\n",
       "      <td>...</td>\n",
       "      <td>...</td>\n",
       "      <td>...</td>\n",
       "    </tr>\n",
       "    <tr>\n",
       "      <th>14221</th>\n",
       "      <td>True</td>\n",
       "      <td>True</td>\n",
       "      <td>0.507872</td>\n",
       "      <td>Challenger</td>\n",
       "    </tr>\n",
       "    <tr>\n",
       "      <th>14222</th>\n",
       "      <td>False</td>\n",
       "      <td>False</td>\n",
       "      <td>0.853403</td>\n",
       "      <td>Challenger</td>\n",
       "    </tr>\n",
       "    <tr>\n",
       "      <th>14223</th>\n",
       "      <td>True</td>\n",
       "      <td>True</td>\n",
       "      <td>0.605333</td>\n",
       "      <td>Challenger</td>\n",
       "    </tr>\n",
       "    <tr>\n",
       "      <th>14224</th>\n",
       "      <td>True</td>\n",
       "      <td>True</td>\n",
       "      <td>0.506047</td>\n",
       "      <td>Challenger</td>\n",
       "    </tr>\n",
       "    <tr>\n",
       "      <th>14225</th>\n",
       "      <td>False</td>\n",
       "      <td>False</td>\n",
       "      <td>0.542318</td>\n",
       "      <td>Challenger</td>\n",
       "    </tr>\n",
       "  </tbody>\n",
       "</table>\n",
       "<p>28452 rows × 4 columns</p>\n",
       "</div>"
      ],
      "text/plain": [
       "       is_helpful  is_helpful_prediction  is_helpful_prob variant_name\n",
       "0           False                   True         0.562273     Champion\n",
       "1            True                   True         0.660930     Champion\n",
       "2            True                   True         0.517515     Champion\n",
       "3            True                   True         0.526267     Champion\n",
       "4           False                  False         0.794800     Champion\n",
       "...           ...                    ...              ...          ...\n",
       "14221        True                   True         0.507872   Challenger\n",
       "14222       False                  False         0.853403   Challenger\n",
       "14223        True                   True         0.605333   Challenger\n",
       "14224        True                   True         0.506047   Challenger\n",
       "14225       False                  False         0.542318   Challenger\n",
       "\n",
       "[28452 rows x 4 columns]"
      ]
     },
     "execution_count": 65,
     "metadata": {},
     "output_type": "execute_result"
    }
   ],
   "source": [
    "def join_test(test_df, predictions, variant_name):\n",
    "    pred_df = pd.DataFrame(predictions, columns=['is_helpful_prediction', 'is_helpful_prob'])\n",
    "    pred_df['variant_name'] = variant_name\n",
    "    return test_df[['is_helpful']].join(pred_df)\n",
    "\n",
    "# Create a combined dataset for each variant and output accuracy\n",
    "join_df = pd.concat([join_test(test_df, predictions, variant_names[i]) for (i, predictions) in enumerate(test_preds)])\n",
    "# join_df.head(5)\n",
    "join_df"
   ]
  },
  {
   "cell_type": "markdown",
   "id": "22b2b960",
   "metadata": {},
   "source": [
    "## 2.4. 두개의 변형 평가\n",
    "\n",
    "테스트 정확도를 각 변형마다 보이기\n"
   ]
  },
  {
   "cell_type": "code",
   "execution_count": 66,
   "id": "18788cd6",
   "metadata": {},
   "outputs": [
    {
     "data": {
      "text/plain": [
       "variant_name\n",
       "Challenger    0.661324\n",
       "Champion      0.654154\n",
       "dtype: float64"
      ]
     },
     "execution_count": 66,
     "metadata": {},
     "output_type": "execute_result"
    }
   ],
   "source": [
    "from sklearn.metrics import accuracy_score, f1_score\n",
    "\n",
    "join_df.groupby('variant_name').apply(lambda g: accuracy_score(g['is_helpful_prediction'], g['is_helpful']))"
   ]
  },
  {
   "cell_type": "code",
   "execution_count": 67,
   "id": "4bfc6ff7",
   "metadata": {},
   "outputs": [
    {
     "name": "stdout",
     "output_type": "stream",
     "text": [
      "Champion [[3862 2443]\n",
      " [2477 5444]]\n",
      "Challenger [[3815 2490]\n",
      " [2328 5593]]\n"
     ]
    },
    {
     "data": {
      "text/plain": [
       "<seaborn.axisgrid.FacetGrid at 0x7f3f5d1274c0>"
      ]
     },
     "execution_count": 67,
     "metadata": {},
     "output_type": "execute_result"
    },
    {
     "data": {
      "image/png": "[encoded data removed]",
      "text/plain": [
       "<Figure size 576x288 with 4 Axes>"
      ]
     },
     "metadata": {},
     "output_type": "display_data"
    }
   ],
   "source": [
    "from sklearn.metrics import confusion_matrix\n",
    "import seaborn as sns\n",
    "import numpy as np\n",
    "\n",
    "def draw_heatmap(data, **kwargs):\n",
    "    cf_matrix = confusion_matrix(data['is_helpful'], data['is_helpful_prediction'])\n",
    "    print(data['variant_name'].unique()[0], cf_matrix)\n",
    "    cf_percent = cf_matrix / cf_matrix.astype(np.float).sum(axis=1)\n",
    "    sns.heatmap(cf_percent, annot=True, fmt=\".4%\")\n",
    "\n",
    "fg = sns.FacetGrid(join_df, col='variant_name', height=4)\n",
    "fg.map_dataframe(draw_heatmap)"
   ]
  },
  {
   "cell_type": "markdown",
   "id": "2bc865d7",
   "metadata": {},
   "source": [
    "### ROC_AUC 계산"
   ]
  },
  {
   "cell_type": "code",
   "execution_count": 68,
   "id": "c2999e7b",
   "metadata": {},
   "outputs": [
    {
     "data": {
      "image/png": "[encoded data removed]",
      "text/plain": [
       "<Figure size 648x288 with 2 Axes>"
      ]
     },
     "metadata": {},
     "output_type": "display_data"
    }
   ],
   "source": [
    "import seaborn as sns\n",
    "import matplotlib.pyplot as plt\n",
    "\n",
    "plt.style.use(\"dark_background\")\n",
    "\n",
    "\n",
    "\n",
    "from sklearn.metrics import roc_curve, roc_auc_score\n",
    "import matplotlib.pyplot as plt\n",
    "\n",
    "def plot_roc(data):\n",
    "    # Create horizontally stack plots (max is to to create at least 2 charts)\n",
    "    fig, axs = plt.subplots(1, max(len(variant_names), 2), figsize=(9,4))\n",
    "    fig.suptitle('Receiver Operating Chracteristic (ROC) curves by Variant')\n",
    "    colors = sns.color_palette(\"Paired\")\n",
    "    # Plot the ROC curves by variant name\n",
    "    for i, (variant_name, pred_df) in enumerate(data.groupby('variant_name')):        \n",
    "        # Get true probability for ROC\n",
    "        tp = pred_df.apply(lambda r: r['is_helpful_prob'] if r['is_helpful_prediction'] else \n",
    "                           1-r['is_helpful_prob'], axis=1)\n",
    "        fpr, tpr, _ = roc_curve(pred_df['is_helpful'], tp)\n",
    "        auc = roc_auc_score(pred_df['is_helpful'], tp)\n",
    "        axs[i].plot(fpr,tpr,color=colors[i],label=f\"{variant_name} auc={auc:.4f}\")   \n",
    "        axs[i].plot([0, 1], [0, 1], linestyle='--')\n",
    "        axs[i].set_xlabel(\"False Poitive Rate\")\n",
    "        axs[i].set_ylabel(\"True Positive Rate\")\n",
    "        axs[i].legend(loc=4)\n",
    "        \n",
    "plot_roc(join_df)"
   ]
  },
  {
   "cell_type": "markdown",
   "id": "6a17cf82",
   "metadata": {},
   "source": [
    "# 3.  MAB A/B Testing Simulation 을 위한 심플 테스트\n",
    "\n"
   ]
  },
  {
   "cell_type": "markdown",
   "id": "79bef102",
   "metadata": {},
   "source": [
    "## 3.1. 변형 지표 저장을 위한 인라인 저장소 셋업"
   ]
  },
  {
   "cell_type": "code",
   "execution_count": 69,
   "id": "67566586",
   "metadata": {},
   "outputs": [
    {
     "name": "stdout",
     "output_type": "stream",
     "text": [
      "{\n",
      "  \"Champion\": {\n",
      "    \"timestamp\": \"2022-04-17-08-30-33\",\n",
      "    \"invocation\": 2,\n",
      "    \"conversion\": 0,\n",
      "    \"reward\": 1,\n",
      "    \"initial_variant_weight\": 1\n",
      "  },\n",
      "  \"Challenger\": {\n",
      "    \"timestamp\": \"2022-04-17-08-30-33\",\n",
      "    \"invocation\": 2,\n",
      "    \"conversion\": 0,\n",
      "    \"reward\": 1,\n",
      "    \"initial_variant_weight\": 1\n",
      "  }\n",
      "}\n"
     ]
    }
   ],
   "source": [
    "champion_seed_invocations=2\n",
    "champion_seed_reward=1\n",
    "challenger_seed_invocations=2\n",
    "challenger_seed_reward=1\n",
    "\n",
    "\n",
    "from api.variants_linline_db import VariantsInlineDB \n",
    "variant_db = VariantsInlineDB()\n",
    "\n",
    "variant_record = variant_db.add_variant(variant_name=\"Champion\", \n",
    "                            invocation=champion_seed_invocations, \n",
    "                            conversion=0, \n",
    "                            reward=champion_seed_reward, \n",
    "                            initial_variant_weight=1, \n",
    "                            verbose=False)\n",
    "\n",
    "variant_record = variant_db.add_variant(variant_name=\"Challenger\", \n",
    "                            invocation=challenger_seed_invocations, \n",
    "                            conversion=0, \n",
    "                            reward=challenger_seed_reward, \n",
    "                            initial_variant_weight=1, \n",
    "                            verbose=False)\n",
    "\n",
    "\n",
    "\n",
    "\n",
    "print(json.dumps(variant_db.variant_dic, indent=2))"
   ]
  },
  {
   "cell_type": "markdown",
   "id": "ea0e971b",
   "metadata": {},
   "source": [
    "## 3.2. api_predict() 동작 방식\n",
    "- (1) 현재 variant_db 내용을 바탕으로  Tompson Sampling 을 통한 \"대상 변형\" 을 연산 후에 제공\n",
    "- (2) \"대상 변형\" 으로 batch 사이즈 만큼을 앤드폰이트로 추론 함. (예: batch_size = 64)\n",
    "- (3) 64개의 예측을 'is_helpful_prediction', 'is_helpful_prob' 로 정렬하여 Top 1 만 추출\n",
    "    - is_helpful_prediction == True 가 존재하면 결론적으로 reward 는 1 \n",
    "    - 아래의 reward 정의 참고\n",
    "- (4) reward 가 1 이면 variant_db 에 업데이트 함.\n",
    "    \n",
    "    \n",
    "#### Reward 정의 \n",
    "reward 의 정의는 진실값읜 \"is_helpful\"가 예측 결과와 같으면 \"1\" 을 부여 하는 것으로 정의 \n",
    "```\n",
    "['is_helpful'] == ['is_helpful_prediction']\n",
    "```\n"
   ]
  },
  {
   "cell_type": "code",
   "execution_count": 70,
   "id": "d6272fdb",
   "metadata": {},
   "outputs": [],
   "source": [
    "from api.utils import api_predict"
   ]
  },
  {
   "cell_type": "code",
   "execution_count": 71,
   "id": "693b586f",
   "metadata": {},
   "outputs": [
    {
     "name": "stdout",
     "output_type": "stream",
     "text": [
      "14226 14226\n"
     ]
    }
   ],
   "source": [
    "batch_size = 1\n",
    "\n",
    "input_batch = list(chunker(test_input, batch_size))\n",
    "test_batch = list(chunker(test_df, batch_size))\n",
    "print(len(input_batch), len(test_batch))"
   ]
  },
  {
   "cell_type": "code",
   "execution_count": 72,
   "id": "e9197c82",
   "metadata": {},
   "outputs": [
    {
     "name": "stdout",
     "output_type": "stream",
     "text": [
      "\n",
      "##################################\n",
      "\n",
      "variant_name:  Challenger\n",
      "prediction result: \n",
      " [(True, 0.5536010265350342)]\n",
      "\n",
      "Prediction with meta data\n"
     ]
    },
    {
     "data": {
      "text/html": [
       "<div>\n",
       "<style scoped>\n",
       "    .dataframe tbody tr th:only-of-type {\n",
       "        vertical-align: middle;\n",
       "    }\n",
       "\n",
       "    .dataframe tbody tr th {\n",
       "        vertical-align: top;\n",
       "    }\n",
       "\n",
       "    .dataframe thead th {\n",
       "        text-align: right;\n",
       "    }\n",
       "</style>\n",
       "<table border=\"1\" class=\"dataframe\">\n",
       "  <thead>\n",
       "    <tr style=\"text-align: right;\">\n",
       "      <th></th>\n",
       "      <th>is_helpful</th>\n",
       "      <th>is_helpful_prediction</th>\n",
       "      <th>is_helpful_prob</th>\n",
       "      <th>variant_name</th>\n",
       "      <th>strategy</th>\n",
       "      <th>batch</th>\n",
       "      <th>invocation</th>\n",
       "      <th>reward</th>\n",
       "    </tr>\n",
       "  </thead>\n",
       "  <tbody>\n",
       "    <tr>\n",
       "      <th>0</th>\n",
       "      <td>False</td>\n",
       "      <td>True</td>\n",
       "      <td>0.553601</td>\n",
       "      <td>Challenger</td>\n",
       "      <td>TomsonSampling</td>\n",
       "      <td>0</td>\n",
       "      <td>1</td>\n",
       "      <td>0</td>\n",
       "    </tr>\n",
       "  </tbody>\n",
       "</table>\n",
       "</div>"
      ],
      "text/plain": [
       "   is_helpful  is_helpful_prediction  is_helpful_prob variant_name  \\\n",
       "0       False                   True         0.553601   Challenger   \n",
       "\n",
       "         strategy  batch  invocation  reward  \n",
       "0  TomsonSampling      0           1       0  "
      ]
     },
     "metadata": {},
     "output_type": "display_data"
    },
    {
     "name": "stdout",
     "output_type": "stream",
     "text": [
      "Top predicton with meta data\n"
     ]
    },
    {
     "data": {
      "text/html": [
       "<div>\n",
       "<style scoped>\n",
       "    .dataframe tbody tr th:only-of-type {\n",
       "        vertical-align: middle;\n",
       "    }\n",
       "\n",
       "    .dataframe tbody tr th {\n",
       "        vertical-align: top;\n",
       "    }\n",
       "\n",
       "    .dataframe thead th {\n",
       "        text-align: right;\n",
       "    }\n",
       "</style>\n",
       "<table border=\"1\" class=\"dataframe\">\n",
       "  <thead>\n",
       "    <tr style=\"text-align: right;\">\n",
       "      <th></th>\n",
       "      <th>is_helpful</th>\n",
       "      <th>is_helpful_prediction</th>\n",
       "      <th>is_helpful_prob</th>\n",
       "      <th>variant_name</th>\n",
       "      <th>strategy</th>\n",
       "      <th>batch</th>\n",
       "      <th>invocation</th>\n",
       "      <th>reward</th>\n",
       "    </tr>\n",
       "  </thead>\n",
       "  <tbody>\n",
       "    <tr>\n",
       "      <th>0</th>\n",
       "      <td>False</td>\n",
       "      <td>True</td>\n",
       "      <td>0.553601</td>\n",
       "      <td>Challenger</td>\n",
       "      <td>TomsonSampling</td>\n",
       "      <td>0</td>\n",
       "      <td>1</td>\n",
       "      <td>0</td>\n",
       "    </tr>\n",
       "  </tbody>\n",
       "</table>\n",
       "</div>"
      ],
      "text/plain": [
       "   is_helpful  is_helpful_prediction  is_helpful_prob variant_name  \\\n",
       "0       False                   True         0.553601   Challenger   \n",
       "\n",
       "         strategy  batch  invocation  reward  \n",
       "0  TomsonSampling      0           1       0  "
      ]
     },
     "metadata": {},
     "output_type": "display_data"
    },
    {
     "name": "stdout",
     "output_type": "stream",
     "text": [
      "\n",
      "##################################\n",
      "\n",
      "variant_name:  Challenger\n",
      "prediction result: \n",
      " [(True, 0.7482183575630188)]\n",
      "\n",
      "Prediction with meta data\n"
     ]
    },
    {
     "data": {
      "text/html": [
       "<div>\n",
       "<style scoped>\n",
       "    .dataframe tbody tr th:only-of-type {\n",
       "        vertical-align: middle;\n",
       "    }\n",
       "\n",
       "    .dataframe tbody tr th {\n",
       "        vertical-align: top;\n",
       "    }\n",
       "\n",
       "    .dataframe thead th {\n",
       "        text-align: right;\n",
       "    }\n",
       "</style>\n",
       "<table border=\"1\" class=\"dataframe\">\n",
       "  <thead>\n",
       "    <tr style=\"text-align: right;\">\n",
       "      <th></th>\n",
       "      <th>is_helpful</th>\n",
       "      <th>is_helpful_prediction</th>\n",
       "      <th>is_helpful_prob</th>\n",
       "      <th>variant_name</th>\n",
       "      <th>strategy</th>\n",
       "      <th>batch</th>\n",
       "      <th>invocation</th>\n",
       "      <th>reward</th>\n",
       "    </tr>\n",
       "  </thead>\n",
       "  <tbody>\n",
       "    <tr>\n",
       "      <th>0</th>\n",
       "      <td>True</td>\n",
       "      <td>True</td>\n",
       "      <td>0.748218</td>\n",
       "      <td>Challenger</td>\n",
       "      <td>TomsonSampling</td>\n",
       "      <td>1</td>\n",
       "      <td>1</td>\n",
       "      <td>1</td>\n",
       "    </tr>\n",
       "  </tbody>\n",
       "</table>\n",
       "</div>"
      ],
      "text/plain": [
       "   is_helpful  is_helpful_prediction  is_helpful_prob variant_name  \\\n",
       "0        True                   True         0.748218   Challenger   \n",
       "\n",
       "         strategy  batch  invocation  reward  \n",
       "0  TomsonSampling      1           1       1  "
      ]
     },
     "metadata": {},
     "output_type": "display_data"
    },
    {
     "name": "stdout",
     "output_type": "stream",
     "text": [
      "Top predicton with meta data\n"
     ]
    },
    {
     "data": {
      "text/html": [
       "<div>\n",
       "<style scoped>\n",
       "    .dataframe tbody tr th:only-of-type {\n",
       "        vertical-align: middle;\n",
       "    }\n",
       "\n",
       "    .dataframe tbody tr th {\n",
       "        vertical-align: top;\n",
       "    }\n",
       "\n",
       "    .dataframe thead th {\n",
       "        text-align: right;\n",
       "    }\n",
       "</style>\n",
       "<table border=\"1\" class=\"dataframe\">\n",
       "  <thead>\n",
       "    <tr style=\"text-align: right;\">\n",
       "      <th></th>\n",
       "      <th>is_helpful</th>\n",
       "      <th>is_helpful_prediction</th>\n",
       "      <th>is_helpful_prob</th>\n",
       "      <th>variant_name</th>\n",
       "      <th>strategy</th>\n",
       "      <th>batch</th>\n",
       "      <th>invocation</th>\n",
       "      <th>reward</th>\n",
       "    </tr>\n",
       "  </thead>\n",
       "  <tbody>\n",
       "    <tr>\n",
       "      <th>0</th>\n",
       "      <td>True</td>\n",
       "      <td>True</td>\n",
       "      <td>0.748218</td>\n",
       "      <td>Challenger</td>\n",
       "      <td>TomsonSampling</td>\n",
       "      <td>1</td>\n",
       "      <td>1</td>\n",
       "      <td>1</td>\n",
       "    </tr>\n",
       "  </tbody>\n",
       "</table>\n",
       "</div>"
      ],
      "text/plain": [
       "   is_helpful  is_helpful_prediction  is_helpful_prob variant_name  \\\n",
       "0        True                   True         0.748218   Challenger   \n",
       "\n",
       "         strategy  batch  invocation  reward  \n",
       "0  TomsonSampling      1           1       1  "
      ]
     },
     "metadata": {},
     "output_type": "display_data"
    },
    {
     "name": "stdout",
     "output_type": "stream",
     "text": [
      "--> Reward and conversion are recoded in variant_db: \n",
      "\n",
      "##################################\n",
      "\n",
      "variant_name:  Champion\n",
      "prediction result: \n",
      " [(True, 0.5175150036811829)]\n",
      "\n",
      "Prediction with meta data\n"
     ]
    },
    {
     "data": {
      "text/html": [
       "<div>\n",
       "<style scoped>\n",
       "    .dataframe tbody tr th:only-of-type {\n",
       "        vertical-align: middle;\n",
       "    }\n",
       "\n",
       "    .dataframe tbody tr th {\n",
       "        vertical-align: top;\n",
       "    }\n",
       "\n",
       "    .dataframe thead th {\n",
       "        text-align: right;\n",
       "    }\n",
       "</style>\n",
       "<table border=\"1\" class=\"dataframe\">\n",
       "  <thead>\n",
       "    <tr style=\"text-align: right;\">\n",
       "      <th></th>\n",
       "      <th>is_helpful</th>\n",
       "      <th>is_helpful_prediction</th>\n",
       "      <th>is_helpful_prob</th>\n",
       "      <th>variant_name</th>\n",
       "      <th>strategy</th>\n",
       "      <th>batch</th>\n",
       "      <th>invocation</th>\n",
       "      <th>reward</th>\n",
       "    </tr>\n",
       "  </thead>\n",
       "  <tbody>\n",
       "    <tr>\n",
       "      <th>0</th>\n",
       "      <td>True</td>\n",
       "      <td>True</td>\n",
       "      <td>0.517515</td>\n",
       "      <td>Champion</td>\n",
       "      <td>TomsonSampling</td>\n",
       "      <td>2</td>\n",
       "      <td>1</td>\n",
       "      <td>1</td>\n",
       "    </tr>\n",
       "  </tbody>\n",
       "</table>\n",
       "</div>"
      ],
      "text/plain": [
       "   is_helpful  is_helpful_prediction  is_helpful_prob variant_name  \\\n",
       "0        True                   True         0.517515     Champion   \n",
       "\n",
       "         strategy  batch  invocation  reward  \n",
       "0  TomsonSampling      2           1       1  "
      ]
     },
     "metadata": {},
     "output_type": "display_data"
    },
    {
     "name": "stdout",
     "output_type": "stream",
     "text": [
      "Top predicton with meta data\n"
     ]
    },
    {
     "data": {
      "text/html": [
       "<div>\n",
       "<style scoped>\n",
       "    .dataframe tbody tr th:only-of-type {\n",
       "        vertical-align: middle;\n",
       "    }\n",
       "\n",
       "    .dataframe tbody tr th {\n",
       "        vertical-align: top;\n",
       "    }\n",
       "\n",
       "    .dataframe thead th {\n",
       "        text-align: right;\n",
       "    }\n",
       "</style>\n",
       "<table border=\"1\" class=\"dataframe\">\n",
       "  <thead>\n",
       "    <tr style=\"text-align: right;\">\n",
       "      <th></th>\n",
       "      <th>is_helpful</th>\n",
       "      <th>is_helpful_prediction</th>\n",
       "      <th>is_helpful_prob</th>\n",
       "      <th>variant_name</th>\n",
       "      <th>strategy</th>\n",
       "      <th>batch</th>\n",
       "      <th>invocation</th>\n",
       "      <th>reward</th>\n",
       "    </tr>\n",
       "  </thead>\n",
       "  <tbody>\n",
       "    <tr>\n",
       "      <th>0</th>\n",
       "      <td>True</td>\n",
       "      <td>True</td>\n",
       "      <td>0.517515</td>\n",
       "      <td>Champion</td>\n",
       "      <td>TomsonSampling</td>\n",
       "      <td>2</td>\n",
       "      <td>1</td>\n",
       "      <td>1</td>\n",
       "    </tr>\n",
       "  </tbody>\n",
       "</table>\n",
       "</div>"
      ],
      "text/plain": [
       "   is_helpful  is_helpful_prediction  is_helpful_prob variant_name  \\\n",
       "0        True                   True         0.517515     Champion   \n",
       "\n",
       "         strategy  batch  invocation  reward  \n",
       "0  TomsonSampling      2           1       1  "
      ]
     },
     "metadata": {},
     "output_type": "display_data"
    },
    {
     "name": "stdout",
     "output_type": "stream",
     "text": [
      "--> Reward and conversion are recoded in variant_db: \n"
     ]
    }
   ],
   "source": [
    "# batch_num 값으로 배치 수 조절 \n",
    "batch_num = 2\n",
    "\n",
    "batch_df = pd.concat(api_predict(i, endpoint_name, batch_size, input_batch[i],test_batch[i],variant_db, verbose=True) \n",
    "                     for i in range(len(input_batch)) if i <= batch_num ).reset_index(drop=True)\n"
   ]
  },
  {
   "cell_type": "markdown",
   "id": "eab6e12e",
   "metadata": {},
   "source": [
    "## 3.3. 심플 테스트 결과 확인"
   ]
  },
  {
   "cell_type": "code",
   "execution_count": 73,
   "id": "7c13c36a",
   "metadata": {},
   "outputs": [
    {
     "data": {
      "text/html": [
       "<div>\n",
       "<style scoped>\n",
       "    .dataframe tbody tr th:only-of-type {\n",
       "        vertical-align: middle;\n",
       "    }\n",
       "\n",
       "    .dataframe tbody tr th {\n",
       "        vertical-align: top;\n",
       "    }\n",
       "\n",
       "    .dataframe thead th {\n",
       "        text-align: right;\n",
       "    }\n",
       "</style>\n",
       "<table border=\"1\" class=\"dataframe\">\n",
       "  <thead>\n",
       "    <tr style=\"text-align: right;\">\n",
       "      <th></th>\n",
       "      <th>is_helpful</th>\n",
       "      <th>is_helpful_prediction</th>\n",
       "      <th>is_helpful_prob</th>\n",
       "      <th>variant_name</th>\n",
       "      <th>strategy</th>\n",
       "      <th>batch</th>\n",
       "      <th>invocation</th>\n",
       "      <th>reward</th>\n",
       "    </tr>\n",
       "  </thead>\n",
       "  <tbody>\n",
       "    <tr>\n",
       "      <th>0</th>\n",
       "      <td>False</td>\n",
       "      <td>True</td>\n",
       "      <td>0.553601</td>\n",
       "      <td>Challenger</td>\n",
       "      <td>TomsonSampling</td>\n",
       "      <td>0</td>\n",
       "      <td>1</td>\n",
       "      <td>0</td>\n",
       "    </tr>\n",
       "    <tr>\n",
       "      <th>1</th>\n",
       "      <td>True</td>\n",
       "      <td>True</td>\n",
       "      <td>0.748218</td>\n",
       "      <td>Challenger</td>\n",
       "      <td>TomsonSampling</td>\n",
       "      <td>1</td>\n",
       "      <td>1</td>\n",
       "      <td>1</td>\n",
       "    </tr>\n",
       "    <tr>\n",
       "      <th>2</th>\n",
       "      <td>True</td>\n",
       "      <td>True</td>\n",
       "      <td>0.517515</td>\n",
       "      <td>Champion</td>\n",
       "      <td>TomsonSampling</td>\n",
       "      <td>2</td>\n",
       "      <td>1</td>\n",
       "      <td>1</td>\n",
       "    </tr>\n",
       "  </tbody>\n",
       "</table>\n",
       "</div>"
      ],
      "text/plain": [
       "   is_helpful  is_helpful_prediction  is_helpful_prob variant_name  \\\n",
       "0       False                   True         0.553601   Challenger   \n",
       "1        True                   True         0.748218   Challenger   \n",
       "2        True                   True         0.517515     Champion   \n",
       "\n",
       "         strategy  batch  invocation  reward  \n",
       "0  TomsonSampling      0           1       0  \n",
       "1  TomsonSampling      1           1       1  \n",
       "2  TomsonSampling      2           1       1  "
      ]
     },
     "execution_count": 73,
     "metadata": {},
     "output_type": "execute_result"
    }
   ],
   "source": [
    "batch_df "
   ]
  },
  {
   "cell_type": "code",
   "execution_count": 74,
   "id": "ec0bbef3",
   "metadata": {},
   "outputs": [
    {
     "name": "stdout",
     "output_type": "stream",
     "text": [
      "{\n",
      "  \"Challenger\": {\n",
      "    \"timestamp\": \"2022-04-17-08-30-34\",\n",
      "    \"invocation\": 4,\n",
      "    \"conversion\": 1,\n",
      "    \"reward\": 2,\n",
      "    \"initial_variant_weight\": 1\n",
      "  },\n",
      "  \"Champion\": {\n",
      "    \"timestamp\": \"2022-04-17-08-30-34\",\n",
      "    \"invocation\": 3,\n",
      "    \"conversion\": 1,\n",
      "    \"reward\": 2,\n",
      "    \"initial_variant_weight\": 1\n",
      "  }\n",
      "}\n"
     ]
    }
   ],
   "source": [
    "print(json.dumps(variant_db.variant_dic, indent=2))"
   ]
  },
  {
   "cell_type": "markdown",
   "id": "b371b002",
   "metadata": {},
   "source": [
    "# 4. 배치 A/B 테스트 시뮬레이션 추론 실행"
   ]
  },
  {
   "cell_type": "markdown",
   "id": "decbd678",
   "metadata": {},
   "source": [
    "## 4.1. 변형 지표 저장을 위한 인라인 저장소 셋업"
   ]
  },
  {
   "cell_type": "markdown",
   "id": "959a8807",
   "metadata": {},
   "source": [
    "### 변형의 수행 횟수, 리워드의 시작 값 설정"
   ]
  },
  {
   "cell_type": "code",
   "execution_count": 75,
   "id": "bc256dc1",
   "metadata": {},
   "outputs": [],
   "source": [
    "champion_seed_invocations=100\n",
    "champion_seed_reward=50\n",
    "challenger_seed_invocations=100\n",
    "challenger_seed_reward=50"
   ]
  },
  {
   "cell_type": "code",
   "execution_count": 76,
   "id": "594a1de9",
   "metadata": {},
   "outputs": [
    {
     "name": "stdout",
     "output_type": "stream",
     "text": [
      "{\n",
      "  \"Champion\": {\n",
      "    \"timestamp\": \"2022-04-17-08-30-34\",\n",
      "    \"invocation\": 100,\n",
      "    \"conversion\": 0,\n",
      "    \"reward\": 50,\n",
      "    \"initial_variant_weight\": 1\n",
      "  },\n",
      "  \"Challenger\": {\n",
      "    \"timestamp\": \"2022-04-17-08-30-34\",\n",
      "    \"invocation\": 100,\n",
      "    \"conversion\": 0,\n",
      "    \"reward\": 50,\n",
      "    \"initial_variant_weight\": 1\n",
      "  }\n",
      "}\n"
     ]
    }
   ],
   "source": [
    "\n",
    "from api.variants_linline_db import VariantsInlineDB \n",
    "variant_db = VariantsInlineDB()\n",
    "\n",
    "variant_record = variant_db.add_variant(variant_name=\"Champion\", \n",
    "                            invocation=champion_seed_invocations, \n",
    "                            conversion=0, \n",
    "                            reward=champion_seed_reward, \n",
    "                            initial_variant_weight=1, \n",
    "                            verbose=False)\n",
    "\n",
    "variant_record = variant_db.add_variant(variant_name=\"Challenger\", \n",
    "                            invocation=challenger_seed_invocations, \n",
    "                            conversion=0, \n",
    "                            reward=challenger_seed_reward, \n",
    "                            initial_variant_weight=1, \n",
    "                            verbose=False)\n",
    "\n",
    "\n",
    "\n",
    "\n",
    "print(json.dumps(variant_db.variant_dic, indent=2))"
   ]
  },
  {
   "cell_type": "markdown",
   "id": "12104177",
   "metadata": {},
   "source": [
    "## 4.2 MAB A/B 시뮬레이션 실행"
   ]
  },
  {
   "cell_type": "code",
   "execution_count": 77,
   "id": "d8a99fa8",
   "metadata": {
    "scrolled": true
   },
   "outputs": [
    {
     "name": "stdout",
     "output_type": "stream",
     "text": [
      "223 223\n"
     ]
    }
   ],
   "source": [
    "batch_size = 64\n",
    "\n",
    "input_batch = list(chunker(test_input, batch_size))\n",
    "test_batch = list(chunker(test_df, batch_size))\n",
    "print(len(input_batch), len(test_batch))"
   ]
  },
  {
   "cell_type": "code",
   "execution_count": 78,
   "id": "4a9faa1e",
   "metadata": {},
   "outputs": [
    {
     "data": {
      "text/html": [
       "<div>\n",
       "<style scoped>\n",
       "    .dataframe tbody tr th:only-of-type {\n",
       "        vertical-align: middle;\n",
       "    }\n",
       "\n",
       "    .dataframe tbody tr th {\n",
       "        vertical-align: top;\n",
       "    }\n",
       "\n",
       "    .dataframe thead th {\n",
       "        text-align: right;\n",
       "    }\n",
       "</style>\n",
       "<table border=\"1\" class=\"dataframe\">\n",
       "  <thead>\n",
       "    <tr style=\"text-align: right;\">\n",
       "      <th></th>\n",
       "      <th>is_helpful</th>\n",
       "      <th>is_helpful_prediction</th>\n",
       "      <th>is_helpful_prob</th>\n",
       "      <th>variant_name</th>\n",
       "      <th>strategy</th>\n",
       "      <th>batch</th>\n",
       "      <th>invocation</th>\n",
       "      <th>reward</th>\n",
       "    </tr>\n",
       "  </thead>\n",
       "  <tbody>\n",
       "    <tr>\n",
       "      <th>0</th>\n",
       "      <td>True</td>\n",
       "      <td>True</td>\n",
       "      <td>0.761912</td>\n",
       "      <td>Challenger</td>\n",
       "      <td>TomsonSampling</td>\n",
       "      <td>0</td>\n",
       "      <td>1</td>\n",
       "      <td>1</td>\n",
       "    </tr>\n",
       "    <tr>\n",
       "      <th>1</th>\n",
       "      <td>True</td>\n",
       "      <td>True</td>\n",
       "      <td>0.808600</td>\n",
       "      <td>Challenger</td>\n",
       "      <td>TomsonSampling</td>\n",
       "      <td>1</td>\n",
       "      <td>1</td>\n",
       "      <td>1</td>\n",
       "    </tr>\n",
       "    <tr>\n",
       "      <th>2</th>\n",
       "      <td>False</td>\n",
       "      <td>True</td>\n",
       "      <td>0.801668</td>\n",
       "      <td>Challenger</td>\n",
       "      <td>TomsonSampling</td>\n",
       "      <td>2</td>\n",
       "      <td>1</td>\n",
       "      <td>0</td>\n",
       "    </tr>\n",
       "    <tr>\n",
       "      <th>3</th>\n",
       "      <td>False</td>\n",
       "      <td>True</td>\n",
       "      <td>0.798178</td>\n",
       "      <td>Challenger</td>\n",
       "      <td>TomsonSampling</td>\n",
       "      <td>3</td>\n",
       "      <td>1</td>\n",
       "      <td>0</td>\n",
       "    </tr>\n",
       "    <tr>\n",
       "      <th>4</th>\n",
       "      <td>False</td>\n",
       "      <td>True</td>\n",
       "      <td>0.757078</td>\n",
       "      <td>Champion</td>\n",
       "      <td>TomsonSampling</td>\n",
       "      <td>4</td>\n",
       "      <td>1</td>\n",
       "      <td>0</td>\n",
       "    </tr>\n",
       "    <tr>\n",
       "      <th>...</th>\n",
       "      <td>...</td>\n",
       "      <td>...</td>\n",
       "      <td>...</td>\n",
       "      <td>...</td>\n",
       "      <td>...</td>\n",
       "      <td>...</td>\n",
       "      <td>...</td>\n",
       "      <td>...</td>\n",
       "    </tr>\n",
       "    <tr>\n",
       "      <th>196</th>\n",
       "      <td>True</td>\n",
       "      <td>True</td>\n",
       "      <td>0.781755</td>\n",
       "      <td>Champion</td>\n",
       "      <td>TomsonSampling</td>\n",
       "      <td>196</td>\n",
       "      <td>1</td>\n",
       "      <td>1</td>\n",
       "    </tr>\n",
       "    <tr>\n",
       "      <th>197</th>\n",
       "      <td>True</td>\n",
       "      <td>True</td>\n",
       "      <td>0.767939</td>\n",
       "      <td>Champion</td>\n",
       "      <td>TomsonSampling</td>\n",
       "      <td>197</td>\n",
       "      <td>1</td>\n",
       "      <td>1</td>\n",
       "    </tr>\n",
       "    <tr>\n",
       "      <th>198</th>\n",
       "      <td>False</td>\n",
       "      <td>True</td>\n",
       "      <td>0.734083</td>\n",
       "      <td>Champion</td>\n",
       "      <td>TomsonSampling</td>\n",
       "      <td>198</td>\n",
       "      <td>1</td>\n",
       "      <td>0</td>\n",
       "    </tr>\n",
       "    <tr>\n",
       "      <th>199</th>\n",
       "      <td>True</td>\n",
       "      <td>True</td>\n",
       "      <td>0.689782</td>\n",
       "      <td>Champion</td>\n",
       "      <td>TomsonSampling</td>\n",
       "      <td>199</td>\n",
       "      <td>1</td>\n",
       "      <td>1</td>\n",
       "    </tr>\n",
       "    <tr>\n",
       "      <th>200</th>\n",
       "      <td>False</td>\n",
       "      <td>True</td>\n",
       "      <td>0.649833</td>\n",
       "      <td>Champion</td>\n",
       "      <td>TomsonSampling</td>\n",
       "      <td>200</td>\n",
       "      <td>1</td>\n",
       "      <td>0</td>\n",
       "    </tr>\n",
       "  </tbody>\n",
       "</table>\n",
       "<p>201 rows × 8 columns</p>\n",
       "</div>"
      ],
      "text/plain": [
       "     is_helpful  is_helpful_prediction  is_helpful_prob variant_name  \\\n",
       "0          True                   True         0.761912   Challenger   \n",
       "1          True                   True         0.808600   Challenger   \n",
       "2         False                   True         0.801668   Challenger   \n",
       "3         False                   True         0.798178   Challenger   \n",
       "4         False                   True         0.757078     Champion   \n",
       "..          ...                    ...              ...          ...   \n",
       "196        True                   True         0.781755     Champion   \n",
       "197        True                   True         0.767939     Champion   \n",
       "198       False                   True         0.734083     Champion   \n",
       "199        True                   True         0.689782     Champion   \n",
       "200       False                   True         0.649833     Champion   \n",
       "\n",
       "           strategy  batch  invocation  reward  \n",
       "0    TomsonSampling      0           1       1  \n",
       "1    TomsonSampling      1           1       1  \n",
       "2    TomsonSampling      2           1       0  \n",
       "3    TomsonSampling      3           1       0  \n",
       "4    TomsonSampling      4           1       0  \n",
       "..              ...    ...         ...     ...  \n",
       "196  TomsonSampling    196           1       1  \n",
       "197  TomsonSampling    197           1       1  \n",
       "198  TomsonSampling    198           1       0  \n",
       "199  TomsonSampling    199           1       1  \n",
       "200  TomsonSampling    200           1       0  \n",
       "\n",
       "[201 rows x 8 columns]"
      ]
     },
     "execution_count": 78,
     "metadata": {},
     "output_type": "execute_result"
    }
   ],
   "source": [
    "# batch_num 값으로 배치 수 조절 \n",
    "batch_num = 200\n",
    "\n",
    "batch_df = pd.concat(api_predict(i, endpoint_name, batch_size, input_batch[i],test_batch[i],variant_db) \n",
    "                     for i in range(len(input_batch)) if i <= batch_num ).reset_index(drop=True)\n",
    "batch_df "
   ]
  },
  {
   "cell_type": "code",
   "execution_count": 79,
   "id": "0cda4f47",
   "metadata": {},
   "outputs": [
    {
     "name": "stdout",
     "output_type": "stream",
     "text": [
      "{\n",
      "  \"Challenger\": {\n",
      "    \"timestamp\": \"2022-04-17-08-30-36\",\n",
      "    \"invocation\": 116,\n",
      "    \"conversion\": 12,\n",
      "    \"reward\": 62,\n",
      "    \"initial_variant_weight\": 1\n",
      "  },\n",
      "  \"Champion\": {\n",
      "    \"timestamp\": \"2022-04-17-08-30-38\",\n",
      "    \"invocation\": 285,\n",
      "    \"conversion\": 141,\n",
      "    \"reward\": 191,\n",
      "    \"initial_variant_weight\": 1\n",
      "  }\n",
      "}\n"
     ]
    }
   ],
   "source": [
    "print(json.dumps(variant_db.variant_dic, indent=2))\n"
   ]
  },
  {
   "cell_type": "markdown",
   "id": "7e6a2c48",
   "metadata": {},
   "source": [
    "# 5. A/B 테스팅 시뮬레이션 분석"
   ]
  },
  {
   "cell_type": "markdown",
   "id": "5ae2d36d",
   "metadata": {},
   "source": [
    "\n",
    "## 5.1. 각 변형의 리워드 가시화 \n",
    "\n",
    "배치 결과를 변형 비율별로 그룹화하여 총 청구 횟수, 보상 및 계산된 비율을 요약합니다\n",
    "- reward_rate = reward / invocation"
   ]
  },
  {
   "cell_type": "code",
   "execution_count": 80,
   "id": "1e1c5325",
   "metadata": {},
   "outputs": [
    {
     "data": {
      "text/html": [
       "<div>\n",
       "<style scoped>\n",
       "    .dataframe tbody tr th:only-of-type {\n",
       "        vertical-align: middle;\n",
       "    }\n",
       "\n",
       "    .dataframe tbody tr th {\n",
       "        vertical-align: top;\n",
       "    }\n",
       "\n",
       "    .dataframe thead th {\n",
       "        text-align: right;\n",
       "    }\n",
       "</style>\n",
       "<table border=\"1\" class=\"dataframe\">\n",
       "  <thead>\n",
       "    <tr style=\"text-align: right;\">\n",
       "      <th></th>\n",
       "      <th>invocation</th>\n",
       "      <th>reward</th>\n",
       "      <th>reward_rate</th>\n",
       "    </tr>\n",
       "    <tr>\n",
       "      <th>variant_name</th>\n",
       "      <th></th>\n",
       "      <th></th>\n",
       "      <th></th>\n",
       "    </tr>\n",
       "  </thead>\n",
       "  <tbody>\n",
       "    <tr>\n",
       "      <th>Challenger</th>\n",
       "      <td>16</td>\n",
       "      <td>12</td>\n",
       "      <td>0.750000</td>\n",
       "    </tr>\n",
       "    <tr>\n",
       "      <th>Champion</th>\n",
       "      <td>185</td>\n",
       "      <td>141</td>\n",
       "      <td>0.762162</td>\n",
       "    </tr>\n",
       "  </tbody>\n",
       "</table>\n",
       "</div>"
      ],
      "text/plain": [
       "              invocation  reward  reward_rate\n",
       "variant_name                                 \n",
       "Challenger            16      12     0.750000\n",
       "Champion             185     141     0.762162"
      ]
     },
     "execution_count": 80,
     "metadata": {},
     "output_type": "execute_result"
    }
   ],
   "source": [
    "variant_df = batch_df.groupby('variant_name').agg({\n",
    "    'invocation': 'count', \n",
    "    'reward': 'sum'\n",
    "})\n",
    "variant_df['reward_rate'] = variant_df.apply(lambda r: r['reward']/r['invocation'], axis=1)\n",
    "variant_df.sort_values('reward_rate', ascending=False)\n",
    "variant_df"
   ]
  },
  {
   "cell_type": "markdown",
   "id": "014cf6bc",
   "metadata": {},
   "source": [
    "## 5.2. 배치 수 진행에 따른 누적 리워드 가시화"
   ]
  },
  {
   "cell_type": "markdown",
   "id": "e495b50e",
   "metadata": {},
   "source": [
    "일괄 호출에 대한 성능을 비교하기 위해 변형별 누적 호출 및 보상 추가"
   ]
  },
  {
   "cell_type": "code",
   "execution_count": 81,
   "id": "5bbbcaf7",
   "metadata": {},
   "outputs": [],
   "source": [
    "cum_df = batch_df.groupby(\n",
    "    ['variant_name', 'batch'])[['invocation','reward']].sum().groupby(level=0).cumsum() #.reset_index()\n",
    "cum_df['reward_rate'] = cum_df.apply(lambda r: 1.0 * r['reward'] / r['invocation'], axis=1)"
   ]
  },
  {
   "cell_type": "code",
   "execution_count": 82,
   "id": "b96adeec",
   "metadata": {},
   "outputs": [
    {
     "data": {
      "text/plain": [
       "Text(0.5, 1.0, 'Reward by Variant')"
      ]
     },
     "execution_count": 82,
     "metadata": {},
     "output_type": "execute_result"
    },
    {
     "data": {
      "image/png": "[encoded data removed]",
      "text/plain": [
       "<Figure size 432x288 with 1 Axes>"
      ]
     },
     "metadata": {},
     "output_type": "display_data"
    }
   ],
   "source": [
    "import seaborn as sns\n",
    "\n",
    "sns.lineplot(data=cum_df, x=\"batch\", y=\"reward\", hue=\"variant_name\", palette=\"Paired\").set_title(\"Reward by Variant\")"
   ]
  },
  {
   "cell_type": "markdown",
   "id": "dcb1f737",
   "metadata": {},
   "source": [
    "## 5.3. 배치 실행에 따른 보상 비율 (Reward Rate) 가시화\n"
   ]
  },
  {
   "cell_type": "code",
   "execution_count": 83,
   "id": "c972226e",
   "metadata": {},
   "outputs": [
    {
     "data": {
      "text/plain": [
       "Text(0.5, 1.0, 'Reward Rate by Variant')"
      ]
     },
     "execution_count": 83,
     "metadata": {},
     "output_type": "execute_result"
    },
    {
     "data": {
      "image/png": "[encoded data removed]",
      "text/plain": [
       "<Figure size 432x288 with 1 Axes>"
      ]
     },
     "metadata": {},
     "output_type": "display_data"
    }
   ],
   "source": [
    "sns.lineplot(data=cum_df, x=\"batch\", y=\"reward_rate\", hue=\"variant_name\", palette=\"Paired\").set_title(\"Reward Rate by Variant\")"
   ]
  },
  {
   "cell_type": "markdown",
   "id": "873d44ab",
   "metadata": {},
   "source": [
    "## 5.4. 베타 분포 (Beta Distribution) 가시황\n",
    "\n"
   ]
  },
  {
   "cell_type": "code",
   "execution_count": 84,
   "id": "c825d754",
   "metadata": {},
   "outputs": [],
   "source": [
    "# Cut the results into 9 bucket, and plot on a 3x3 chart\n",
    "bucket = 9\n",
    "beta_df = cum_df.reset_index()\n",
    "beta_df['bucket'] = pd.cut(beta_df['batch'], [0,2,5,10,20,50,100,200,500,1000], right=True)\n",
    "beta_df = beta_df.groupby(['variant_name', 'bucket'])[['invocation', 'reward']].max()"
   ]
  },
  {
   "cell_type": "markdown",
   "id": "a12ec93a",
   "metadata": {},
   "source": [
    "Plot the beta distribution for each bucket"
   ]
  },
  {
   "cell_type": "code",
   "execution_count": 85,
   "id": "b533ea94",
   "metadata": {},
   "outputs": [
    {
     "data": {
      "image/png": "[encoded data removed]",
      "text/plain": [
       "<Figure size 864x864 with 9 Axes>"
      ]
     },
     "metadata": {},
     "output_type": "display_data"
    }
   ],
   "source": [
    "import numpy as np        \n",
    "from scipy import stats\n",
    "import matplotlib.pyplot as plt\n",
    "colors = sns.color_palette(\"Paired\")\n",
    "plt.style.use(\"dark_background\")\n",
    "\n",
    "def plot_beta(beta_df):\n",
    "    fig, axs = plt.subplots(3, 3, figsize=(12, 12))\n",
    "    fig.subplots_adjust(hspace = .5, wspace=.1)\n",
    "    fig.suptitle('Probability Distribution of Each Variant', fontsize=16, y=1.02)\n",
    "    fig.subplots_adjust(top=0.88)\n",
    "    axs = axs.ravel()\n",
    "    \n",
    "    x = np.arange (0, 1.001, 0.001)\n",
    "    for i, (b, bg) in enumerate(beta_df.groupby('bucket')):\n",
    "        for j, (variant_name, vg) in enumerate(bg.groupby('variant_name')):\n",
    "            v = vg.max()\n",
    "            alpha, beta = 1+v['reward'], 1+v['invocation']-v['reward']\n",
    "            axs[i].plot(x, stats.beta.pdf(x, alpha, beta), label=variant_name, color=colors[j])\n",
    "        axs[i].set_title(f'Batch #{int(b.right)}')\n",
    "        axs[i].grid(False)\n",
    "\n",
    "    handles, labels = axs[0].get_legend_handles_labels()\n",
    "    fig.legend(handles, labels, loc='upper right')\n",
    "    fig.text(0.5, -.01, 'Expected Reward', ha='center', fontsize=16)\n",
    "    fig.text(-.01, 0.5, 'Probability Density', va='center', fontsize=16, rotation='vertical')\n",
    "    fig.tight_layout()\n",
    "    plt.show()        \n",
    "plot_beta(beta_df)"
   ]
  },
  {
   "cell_type": "markdown",
   "id": "e21928f1",
   "metadata": {},
   "source": [
    "# 6. Winner 선출\n",
    "\n"
   ]
  },
  {
   "cell_type": "code",
   "execution_count": 86,
   "id": "ab119cab",
   "metadata": {},
   "outputs": [
    {
     "name": "stdout",
     "output_type": "stream",
     "text": [
      "Champion, \treward_rate: 0.762, # of invocations : 185\n",
      "Challenger, \treward_rate: 0.75, # of invocations : 16\n",
      "\n",
      "Challenger conversion rate (75.00%) is 1.60% lower than Champion rate (76.22%)\n"
     ]
    }
   ],
   "source": [
    "variant_a, variant_b = variant_names[:2]\n",
    "rate_a, num_a = variant_df.loc[variant_a]['reward_rate'], variant_df.loc[variant_a]['invocation']\n",
    "rate_b, num_b = variant_df.loc[variant_b]['reward_rate'], variant_df.loc[variant_b]['invocation']\n",
    "rate_diff = (rate_b - rate_a) / rate_a\n",
    "rate_dir = f'{rate_diff:.2%} higher' if rate_diff > 0 else f'{-rate_diff:.2%} lower'\n",
    "print(f\"{variant_a}, \\treward_rate: {round(rate_a,3)}, # of invocations : {int(num_a)}\")\n",
    "print(f\"{variant_b}, \\treward_rate: {round(rate_b,3)}, # of invocations : {int(num_b)}\")\n",
    "print(\"\")\n",
    "print(f'{variant_b} conversion rate ({rate_b:.2%}) is {rate_dir} than {variant_a} rate ({rate_a:.2%})')\n",
    "\n"
   ]
  },
  {
   "cell_type": "markdown",
   "id": "bbb94573",
   "metadata": {},
   "source": [
    "## 신뢰 점수 평가\n",
    "정규 분포를 가정하고 가장 실적이 좋은 변형에 대한 신뢰 점수를 평가해 보겠습니다."
   ]
  },
  {
   "cell_type": "code",
   "execution_count": 87,
   "id": "dcc00520",
   "metadata": {},
   "outputs": [],
   "source": [
    "from scipy.stats import norm\n",
    "\n",
    "def plot_distribution(variant_a, rate_a, num_a, variant_b, rate_b, num_b):\n",
    "    # Calculate the standard error for a and b\n",
    "    std_a = np.sqrt(rate_a * (1 - rate_a) / num_a)\n",
    "    std_b = np.sqrt(rate_b * (1 - rate_b) / num_b)\n",
    "    z_score = (rate_b - rate_a) / np.sqrt(std_a**2 + std_b**2)\n",
    "    p_value = norm().sf(z_score)\n",
    "    conf = norm.cdf(z_score)\n",
    "    # Plot distribution\n",
    "    click_rate = np.linspace(0, 1.0, 200)\n",
    "    prob_a = norm(rate_a, std_a).pdf(click_rate)\n",
    "    prob_b = norm(rate_b, std_b).pdf(click_rate)    \n",
    "    plt.plot(click_rate, prob_a, label=variant_a, color=colors[0])\n",
    "    plt.plot(click_rate, prob_b, label=variant_b, color=colors[1])\n",
    "    plt.legend(frameon=True)\n",
    "    plt.xlabel(\"Conversion rate\"); plt.ylabel(\"Probability\");\n",
    "    plt.title(f\"zscore is {z_score:0.3f}, with p-value {p_value:0.3f}\")\n",
    "    return z_score, p_value, conf"
   ]
  },
  {
   "cell_type": "code",
   "execution_count": 88,
   "id": "a92ad39b",
   "metadata": {},
   "outputs": [
    {
     "name": "stdout",
     "output_type": "stream",
     "text": [
      "Confidene score: 0.457\n"
     ]
    },
    {
     "data": {
      "image/png": "[encoded data removed]",
      "text/plain": [
       "<Figure size 432x288 with 1 Axes>"
      ]
     },
     "metadata": {},
     "output_type": "display_data"
    }
   ],
   "source": [
    "\n",
    "# Plot distribution and get confidence interval\n",
    "z_score, p_value, conf = plot_distribution(variant_a, rate_a, num_a, variant_b, rate_b, num_b)\n",
    "\n",
    "if rate_diff > 0 and conf > 0.95:\n",
    "    print(f'The result is statisticially significant')\n",
    "print(f\"Confidene score: {round(conf,3)}\")"
   ]
  },
  {
   "cell_type": "markdown",
   "id": "79e3f2ac",
   "metadata": {},
   "source": [
    "# 7. 엔드포인트 삭제\n",
    "\n",
    "- <font color=\"red\" size=\"5\">작업이 완료시에 주석을 해제하시고 **반드시** 실행하여 엔드포인트를 삭제 해주세요. 안그러면 과다한 요금이 청구 됩니다.</font>"
   ]
  },
  {
   "cell_type": "code",
   "execution_count": 89,
   "id": "766f851c",
   "metadata": {},
   "outputs": [],
   "source": [
    "# from api.utils import delete_endpoint\n",
    "# import boto3\n",
    "# boto3_client = boto3.client('sagemaker')\n",
    "# delete_endpoint(boto3_client, endpoint_name, is_del_model=True )"
   ]
  },
  {
   "cell_type": "code",
   "execution_count": null,
   "id": "c1970322",
   "metadata": {},
   "outputs": [],
   "source": []
  },
  {
   "cell_type": "code",
   "execution_count": null,
   "id": "f8d7a38d",
   "metadata": {},
   "outputs": [],
   "source": []
  },
  {
   "cell_type": "code",
   "execution_count": null,
   "id": "08125e1c",
   "metadata": {},
   "outputs": [],
   "source": []
  },
  {
   "cell_type": "code",
   "execution_count": null,
   "id": "9baa1d37",
   "metadata": {},
   "outputs": [],
   "source": []
  },
  {
   "cell_type": "code",
   "execution_count": null,
   "id": "7576568d",
   "metadata": {},
   "outputs": [],
   "source": []
  },
  {
   "cell_type": "code",
   "execution_count": null,
   "id": "a62dce9e",
   "metadata": {},
   "outputs": [],
   "source": []
  },
  {
   "cell_type": "code",
   "execution_count": null,
   "id": "261c4d9a",
   "metadata": {},
   "outputs": [],
   "source": []
  },
  {
   "cell_type": "code",
   "execution_count": null,
   "id": "0a87accd",
   "metadata": {},
   "outputs": [],
   "source": []
  }
 ],
 "metadata": {
  "kernelspec": {
   "display_name": "conda_python3",
   "language": "python",
   "name": "conda_python3"
  },
  "language_info": {
   "codemirror_mode": {
    "name": "ipython",
    "version": 3
   },
   "file_extension": ".py",
   "mimetype": "text/x-python",
   "name": "python",
   "nbconvert_exporter": "python",
   "pygments_lexer": "ipython3",
   "version": "3.8.12"
  }
 },
 "nbformat": 4,
 "nbformat_minor": 5
}
