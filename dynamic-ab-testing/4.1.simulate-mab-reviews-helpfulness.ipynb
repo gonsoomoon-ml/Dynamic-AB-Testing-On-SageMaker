{
 "cells": [
  {
   "cell_type": "markdown",
   "id": "23a1fddf",
   "metadata": {},
   "source": [
    "# [모듈 4.1] MAB A/B Testing 시뮬레이션 : MAB (Multi-Armed Bandits)\n",
    "\n",
    "이 노트북은 아래와 같은 목차로 진행이 됩니다.\n",
    "\n",
    "1. 환경 셋업\n",
    "2. 엔드포인트 추론 테스트\n",
    "3. MAB A/B Testing Simulation 을 위한 심플 테스트\n",
    "4. 배치 A/B 테스트 시뮬레이션 추론 실행\n",
    "5. A/B 테스팅 시뮬레이션 분석\n",
    "6. Winner 선출\n",
    "\n",
    "---"
   ]
  },
  {
   "cell_type": "markdown",
   "id": "a987426e",
   "metadata": {},
   "source": [
    "# 1. 환경 셋업"
   ]
  },
  {
   "cell_type": "code",
   "execution_count": 1,
   "id": "80aa0926",
   "metadata": {},
   "outputs": [],
   "source": [
    "%load_ext autoreload\n",
    "%autoreload 2"
   ]
  },
  {
   "cell_type": "code",
   "execution_count": 2,
   "id": "f0095ff4",
   "metadata": {},
   "outputs": [
    {
     "name": "stdout",
     "output_type": "stream",
     "text": [
      "Stored variables and their in-db values:\n",
      "artifact_path                                -> 's3://sagemaker-us-east-1-057716757052/pytorch-tra\n",
      "bucket                                       -> 'sagemaker-us-east-1-057716757052'\n",
      "challenger_model_artifact                    -> 's3://sagemaker-us-east-1-057716757052/mab-reviews\n",
      "champion_model_artifact                      -> 's3://sagemaker-us-east-1-057716757052/mab-reviews\n",
      "endpoint_name                                -> 'MAP-Inference-Endpoint-2022-06-17-02-02-16'\n",
      "horovod_artifact_path                        -> 's3://sagemaker-us-east-1-057716757052/pytorch-tra\n",
      "model_train_inference_docker_uri             -> '811284229777.dkr.ecr.us-east-1.amazonaws.com/blaz\n",
      "prefix                                       -> 'NCFModel'\n"
     ]
    }
   ],
   "source": [
    "%store -r\n",
    "%store"
   ]
  },
  {
   "cell_type": "code",
   "execution_count": 3,
   "id": "d7dcb9f7",
   "metadata": {},
   "outputs": [
    {
     "name": "stderr",
     "output_type": "stream",
     "text": [
      "/home/ec2-user/anaconda3/envs/python3/lib/python3.6/site-packages/boto3/compat.py:88: PythonDeprecationWarning: Boto3 will no longer support Python 3.6 starting May 30, 2022. To continue receiving service updates, bug fixes, and security updates please upgrade to Python 3.7 or later. More information can be found here: https://aws.amazon.com/blogs/developer/python-support-policy-updates-for-aws-sdks-and-tools/\n",
      "  warnings.warn(warning, PythonDeprecationWarning)\n"
     ]
    }
   ],
   "source": [
    "import json\n",
    "import os\n",
    "import boto3\n",
    "import tqdm.notebook as tq\n",
    "from botocore.config import Config\n",
    "config = Config(retries={\"max_attempts\": 10, \"mode\": \"standard\"})\n",
    "sm_client = boto3.client('sagemaker', config=config)\n"
   ]
  },
  {
   "cell_type": "markdown",
   "id": "8627b03d",
   "metadata": {},
   "source": [
    "# 2. 엔드포인트 추론 테스트\n",
    "- Dynamic A/B Testing 과 상관 없이 이전 노트북에서 생성한 엔드포인트가 잘 작동하는지, 그리고 Champion, Challenger 모델이 성능이 얼마나 나오는지를 확인을 합니다."
   ]
  },
  {
   "cell_type": "markdown",
   "id": "1165531b",
   "metadata": {},
   "source": [
    "## 2.1. 테스트 데이터 로딩"
   ]
  },
  {
   "cell_type": "code",
   "execution_count": 4,
   "id": "60619d85",
   "metadata": {},
   "outputs": [
    {
     "data": {
      "text/html": [
       "<div>\n",
       "<style scoped>\n",
       "    .dataframe tbody tr th:only-of-type {\n",
       "        vertical-align: middle;\n",
       "    }\n",
       "\n",
       "    .dataframe tbody tr th {\n",
       "        vertical-align: top;\n",
       "    }\n",
       "\n",
       "    .dataframe thead th {\n",
       "        text-align: right;\n",
       "    }\n",
       "</style>\n",
       "<table border=\"1\" class=\"dataframe\">\n",
       "  <thead>\n",
       "    <tr style=\"text-align: right;\">\n",
       "      <th></th>\n",
       "      <th>product_id</th>\n",
       "      <th>product_title</th>\n",
       "      <th>star_rating</th>\n",
       "      <th>helpful_votes</th>\n",
       "      <th>total_votes</th>\n",
       "      <th>review_headline</th>\n",
       "      <th>review_body</th>\n",
       "      <th>helpful_score</th>\n",
       "      <th>sentiment</th>\n",
       "      <th>product_id_total</th>\n",
       "      <th>helpful_votes_total</th>\n",
       "      <th>total_votes_total</th>\n",
       "      <th>is_helpful</th>\n",
       "    </tr>\n",
       "  </thead>\n",
       "  <tbody>\n",
       "    <tr>\n",
       "      <th>0</th>\n",
       "      <td>B000EPLP3C</td>\n",
       "      <td>Zune 30 GB Digital Media Player</td>\n",
       "      <td>5</td>\n",
       "      <td>4</td>\n",
       "      <td>11</td>\n",
       "      <td>Excellent Item</td>\n",
       "      <td>This is the perfect media device for anyone wh...</td>\n",
       "      <td>0.363636</td>\n",
       "      <td>Positive</td>\n",
       "      <td>506</td>\n",
       "      <td>9240</td>\n",
       "      <td>17219</td>\n",
       "      <td>False</td>\n",
       "    </tr>\n",
       "  </tbody>\n",
       "</table>\n",
       "</div>"
      ],
      "text/plain": [
       "   product_id                    product_title  star_rating  helpful_votes  \\\n",
       "0  B000EPLP3C  Zune 30 GB Digital Media Player            5              4   \n",
       "\n",
       "   total_votes review_headline  \\\n",
       "0           11  Excellent Item   \n",
       "\n",
       "                                         review_body  helpful_score sentiment  \\\n",
       "0  This is the perfect media device for anyone wh...       0.363636  Positive   \n",
       "\n",
       "   product_id_total  helpful_votes_total  total_votes_total  is_helpful  \n",
       "0               506                 9240              17219       False  "
      ]
     },
     "execution_count": 4,
     "metadata": {},
     "output_type": "execute_result"
    }
   ],
   "source": [
    "import pandas as pd\n",
    "\n",
    "test_df = pd.read_csv(\"test.csv\")\n",
    "test_df.head(1)"
   ]
  },
  {
   "cell_type": "code",
   "execution_count": 5,
   "id": "13029fe8",
   "metadata": {},
   "outputs": [],
   "source": [
    "from spacy.lang.en import English\n",
    "\n",
    "index_to_label = {0: 'NotHelpful', 1: 'Helpful'} \n",
    "nlp = English()\n",
    "tokenizer = nlp.tokenizer\n",
    "\n",
    "def labelize_df(df):\n",
    "    return '__label__' + df['is_helpful'].apply(lambda is_helpful: index_to_label[is_helpful])\n",
    "\n",
    "def tokenize_sent(sent, max_length=1000):\n",
    "    return ' '.join([token.text for token in tokenizer(sent)])[:max_length]\n",
    "\n",
    "def tokenize_df(df):\n",
    "    return (df['review_headline'].apply(tokenize_sent) + ' ' + \n",
    "            df['review_body'].apply(tokenize_sent))"
   ]
  },
  {
   "cell_type": "code",
   "execution_count": 6,
   "id": "8ba06759",
   "metadata": {},
   "outputs": [
    {
     "data": {
      "text/plain": [
       "['Excellent Item This is the perfect media device for anyone who enjoys having music , videos and pictures at your fingertips . Would definettley recommend it over the Ipod Video',\n",
       " \"Outstanding Monitors I 'm a producer / director / editor at a network television production company .   We 've used these M - Audio BX5a monitors in most of our edit bays for several years now and have been very pleased with their performance .   They produce crisp , clear sound for voice , music and effects .   They 're solid , look nice and feature cool blue pilot lights on front between the woofer and tweeter.<br /><br />Highly recommended for post - production audio .\"]"
      ]
     },
     "execution_count": 6,
     "metadata": {},
     "output_type": "execute_result"
    }
   ],
   "source": [
    "\n",
    "test_input = tokenize_df(test_df).to_list()\n",
    "test_input[0:2]\n"
   ]
  },
  {
   "cell_type": "markdown",
   "id": "0e20b7f0",
   "metadata": {},
   "source": [
    "## 2.2. 변형 확인\n",
    "\"3.1.host-mab-reviews-helpfulness.ipynb\" 노트북에서 1개의 엔드포인트를 생성하였고, 이는 2개의 Prdouct Variant (변형) 로 구성되어 있습니다. 2개의 변형을 확인 합니다."
   ]
  },
  {
   "cell_type": "code",
   "execution_count": 7,
   "id": "41384444",
   "metadata": {},
   "outputs": [],
   "source": [
    "from api.utils import chunker, parse_predictions, predict"
   ]
  },
  {
   "cell_type": "code",
   "execution_count": 8,
   "id": "fa7a990c",
   "metadata": {},
   "outputs": [
    {
     "data": {
      "text/plain": [
       "['Champion', 'Challenger']"
      ]
     },
     "execution_count": 8,
     "metadata": {},
     "output_type": "execute_result"
    }
   ],
   "source": [
    "variant_names = [pv['VariantName'] for pv in sm_client.describe_endpoint(EndpointName=endpoint_name)['ProductionVariants']]\n",
    "if len(variant_names) < 2:\n",
    "    raise Exception('Require at least 2 variants for A/B Testing')\n",
    "\n",
    "variant_names"
   ]
  },
  {
   "cell_type": "markdown",
   "id": "e6355956",
   "metadata": {},
   "source": [
    "## 2.3. 두 개의 변형에 각각 추론\n",
    "['Champion', 'Challenger'] 의 두개의 변형에 batch_size (예: 50) 로 총 14,226 개의 레코드를 추론 합니다. 결론적으로 14,226 * 2 = 28,552 추론을 하게 됩니다."
   ]
  },
  {
   "cell_type": "code",
   "execution_count": 9,
   "id": "d0639182",
   "metadata": {},
   "outputs": [
    {
     "data": {
      "application/vnd.jupyter.widget-view+json": {
       "model_id": "e2fb4d97f2884182a402fb0539e44220",
       "version_major": 2,
       "version_minor": 0
      },
      "text/plain": [
       "  0%|          | 0/2 [00:00<?, ?it/s]"
      ]
     },
     "metadata": {},
     "output_type": "display_data"
    },
    {
     "name": "stdout",
     "output_type": "stream",
     "text": [
      "CPU times: user 1.44 s, sys: 57.1 ms, total: 1.5 s\n",
      "Wall time: 6.19 s\n"
     ]
    }
   ],
   "source": [
    "%%time\n",
    "\n",
    "batch_size = 50\n",
    "test_preds = [predict(endpoint_name, variant_name, test_input, batch_size) \n",
    "              for variant_name in tq.tqdm(variant_names)]"
   ]
  },
  {
   "cell_type": "markdown",
   "id": "7e22896c",
   "metadata": {},
   "source": [
    "한개의 추론 예시를 보면 (True, 0.5582534670829773) 상품 리뷰가 `__label__Helpful` 이면 True, 그렇지 않으면 False 를 제공합니다. 그리고 0.558 Confidence Score 입니다."
   ]
  },
  {
   "cell_type": "code",
   "execution_count": 10,
   "id": "969a6f55",
   "metadata": {},
   "outputs": [
    {
     "name": "stdout",
     "output_type": "stream",
     "text": [
      "Size of input:  14226\n",
      "Prediction Shape:  (2, 14226, 2)\n"
     ]
    },
    {
     "data": {
      "text/plain": [
       "[(True, 0.5272706151008606),\n",
       " (True, 0.6354568004608154),\n",
       " (True, 0.5329211354255676)]"
      ]
     },
     "metadata": {},
     "output_type": "display_data"
    },
    {
     "data": {
      "text/plain": [
       "[(True, 0.5482327342033386),\n",
       " (True, 0.7577333450317383),\n",
       " (True, 0.501598060131073)]"
      ]
     },
     "metadata": {},
     "output_type": "display_data"
    }
   ],
   "source": [
    "import numpy as np\n",
    "from IPython.display import display as dp\n",
    "\n",
    "print(\"Size of input: \", len(test_input))\n",
    "print(\"Prediction Shape: \", np.asarray(test_preds).shape)\n",
    "dp(test_preds[0][0:3])\n",
    "dp(test_preds[1][0:3])\n"
   ]
  },
  {
   "cell_type": "markdown",
   "id": "028e62be",
   "metadata": {},
   "source": [
    "test 데이터, 추론 데이터를 결합하여 확인 합니다."
   ]
  },
  {
   "cell_type": "code",
   "execution_count": 11,
   "id": "25eb1729",
   "metadata": {},
   "outputs": [
    {
     "data": {
      "text/html": [
       "<div>\n",
       "<style scoped>\n",
       "    .dataframe tbody tr th:only-of-type {\n",
       "        vertical-align: middle;\n",
       "    }\n",
       "\n",
       "    .dataframe tbody tr th {\n",
       "        vertical-align: top;\n",
       "    }\n",
       "\n",
       "    .dataframe thead th {\n",
       "        text-align: right;\n",
       "    }\n",
       "</style>\n",
       "<table border=\"1\" class=\"dataframe\">\n",
       "  <thead>\n",
       "    <tr style=\"text-align: right;\">\n",
       "      <th></th>\n",
       "      <th>is_helpful</th>\n",
       "      <th>is_helpful_prediction</th>\n",
       "      <th>is_helpful_prob</th>\n",
       "      <th>variant_name</th>\n",
       "    </tr>\n",
       "  </thead>\n",
       "  <tbody>\n",
       "    <tr>\n",
       "      <th>0</th>\n",
       "      <td>False</td>\n",
       "      <td>True</td>\n",
       "      <td>0.527271</td>\n",
       "      <td>Champion</td>\n",
       "    </tr>\n",
       "    <tr>\n",
       "      <th>1</th>\n",
       "      <td>True</td>\n",
       "      <td>True</td>\n",
       "      <td>0.635457</td>\n",
       "      <td>Champion</td>\n",
       "    </tr>\n",
       "    <tr>\n",
       "      <th>2</th>\n",
       "      <td>True</td>\n",
       "      <td>True</td>\n",
       "      <td>0.532921</td>\n",
       "      <td>Champion</td>\n",
       "    </tr>\n",
       "    <tr>\n",
       "      <th>3</th>\n",
       "      <td>True</td>\n",
       "      <td>True</td>\n",
       "      <td>0.539651</td>\n",
       "      <td>Champion</td>\n",
       "    </tr>\n",
       "    <tr>\n",
       "      <th>4</th>\n",
       "      <td>False</td>\n",
       "      <td>False</td>\n",
       "      <td>0.800596</td>\n",
       "      <td>Champion</td>\n",
       "    </tr>\n",
       "    <tr>\n",
       "      <th>...</th>\n",
       "      <td>...</td>\n",
       "      <td>...</td>\n",
       "      <td>...</td>\n",
       "      <td>...</td>\n",
       "    </tr>\n",
       "    <tr>\n",
       "      <th>14221</th>\n",
       "      <td>True</td>\n",
       "      <td>True</td>\n",
       "      <td>0.504745</td>\n",
       "      <td>Challenger</td>\n",
       "    </tr>\n",
       "    <tr>\n",
       "      <th>14222</th>\n",
       "      <td>False</td>\n",
       "      <td>False</td>\n",
       "      <td>0.855869</td>\n",
       "      <td>Challenger</td>\n",
       "    </tr>\n",
       "    <tr>\n",
       "      <th>14223</th>\n",
       "      <td>True</td>\n",
       "      <td>True</td>\n",
       "      <td>0.606394</td>\n",
       "      <td>Challenger</td>\n",
       "    </tr>\n",
       "    <tr>\n",
       "      <th>14224</th>\n",
       "      <td>True</td>\n",
       "      <td>True</td>\n",
       "      <td>0.510573</td>\n",
       "      <td>Challenger</td>\n",
       "    </tr>\n",
       "    <tr>\n",
       "      <th>14225</th>\n",
       "      <td>False</td>\n",
       "      <td>False</td>\n",
       "      <td>0.547762</td>\n",
       "      <td>Challenger</td>\n",
       "    </tr>\n",
       "  </tbody>\n",
       "</table>\n",
       "<p>28452 rows × 4 columns</p>\n",
       "</div>"
      ],
      "text/plain": [
       "       is_helpful  is_helpful_prediction  is_helpful_prob variant_name\n",
       "0           False                   True         0.527271     Champion\n",
       "1            True                   True         0.635457     Champion\n",
       "2            True                   True         0.532921     Champion\n",
       "3            True                   True         0.539651     Champion\n",
       "4           False                  False         0.800596     Champion\n",
       "...           ...                    ...              ...          ...\n",
       "14221        True                   True         0.504745   Challenger\n",
       "14222       False                  False         0.855869   Challenger\n",
       "14223        True                   True         0.606394   Challenger\n",
       "14224        True                   True         0.510573   Challenger\n",
       "14225       False                  False         0.547762   Challenger\n",
       "\n",
       "[28452 rows x 4 columns]"
      ]
     },
     "execution_count": 11,
     "metadata": {},
     "output_type": "execute_result"
    }
   ],
   "source": [
    "def join_test(test_df, predictions, variant_name):\n",
    "    pred_df = pd.DataFrame(predictions, columns=['is_helpful_prediction', 'is_helpful_prob'])\n",
    "    pred_df['variant_name'] = variant_name\n",
    "    return test_df[['is_helpful']].join(pred_df)\n",
    "\n",
    "# Create a combined dataset for each variant and output accuracy\n",
    "join_df = pd.concat([join_test(test_df, predictions, variant_names[i]) for (i, predictions) in enumerate(test_preds)])\n",
    "# join_df.head(5)\n",
    "join_df"
   ]
  },
  {
   "cell_type": "markdown",
   "id": "381aa289",
   "metadata": {},
   "source": [
    "## 2.4. 두개의 변형 평가\n",
    "\n",
    "- 아래는 예시로서 모델의 Accuracy 가 각 variant 별로 보여 주고 있습니다.\n",
    "\n",
    "```\n",
    "variant_name\n",
    "Challenger    0.661043\n",
    "Champion      0.651132\n",
    "```\n"
   ]
  },
  {
   "cell_type": "code",
   "execution_count": 12,
   "id": "d9e45e5f",
   "metadata": {},
   "outputs": [
    {
     "data": {
      "text/plain": [
       "variant_name\n",
       "Challenger    0.657528\n",
       "Champion      0.648882\n",
       "dtype: float64"
      ]
     },
     "execution_count": 12,
     "metadata": {},
     "output_type": "execute_result"
    }
   ],
   "source": [
    "from sklearn.metrics import accuracy_score, f1_score\n",
    "\n",
    "join_df.groupby('variant_name').apply(lambda g: accuracy_score(g['is_helpful_prediction'], g['is_helpful']))"
   ]
  },
  {
   "cell_type": "markdown",
   "id": "8dfe9317",
   "metadata": {},
   "source": [
    "Confusion Matrix 를 통해서 모델이 얼마나 우수한지 확인 합니다."
   ]
  },
  {
   "cell_type": "code",
   "execution_count": 13,
   "id": "857ceaed",
   "metadata": {},
   "outputs": [
    {
     "name": "stdout",
     "output_type": "stream",
     "text": [
      "Champion\n",
      "[[3785 2520]\n",
      " [2475 5446]]\n",
      "Challenger\n",
      "[[3876 2429]\n",
      " [2443 5478]]\n"
     ]
    },
    {
     "data": {
      "text/plain": [
       "<seaborn.axisgrid.FacetGrid at 0x7f25f2328d68>"
      ]
     },
     "execution_count": 13,
     "metadata": {},
     "output_type": "execute_result"
    },
    {
     "data": {
      "image/png": "[encoded data removed]",
      "text/plain": [
       "<Figure size 576x288 with 4 Axes>"
      ]
     },
     "metadata": {
      "needs_background": "light"
     },
     "output_type": "display_data"
    }
   ],
   "source": [
    "from sklearn.metrics import confusion_matrix\n",
    "import seaborn as sns\n",
    "import numpy as np\n",
    "\n",
    "def draw_heatmap(data, **kwargs):\n",
    "    cf_matrix = confusion_matrix(data['is_helpful'], data['is_helpful_prediction'])\n",
    "    print(data['variant_name'].unique()[0])\n",
    "    print(cf_matrix)\n",
    "    cf_percent = cf_matrix / cf_matrix.astype(np.float).sum(axis=1)\n",
    "    sns.heatmap(cf_percent, annot=True, fmt=\".4%\")\n",
    "\n",
    "fg = sns.FacetGrid(join_df, col='variant_name', height=4)\n",
    "fg.map_dataframe(draw_heatmap)"
   ]
  },
  {
   "cell_type": "markdown",
   "id": "2e8cb911",
   "metadata": {},
   "source": [
    "### ROC_AUC 계산"
   ]
  },
  {
   "cell_type": "code",
   "execution_count": 14,
   "id": "4ac06034",
   "metadata": {},
   "outputs": [
    {
     "data": {
      "image/png": "[encoded data removed]",
      "text/plain": [
       "<Figure size 648x288 with 2 Axes>"
      ]
     },
     "metadata": {},
     "output_type": "display_data"
    }
   ],
   "source": [
    "import seaborn as sns\n",
    "import matplotlib.pyplot as plt\n",
    "\n",
    "plt.style.use(\"dark_background\")\n",
    "\n",
    "\n",
    "\n",
    "from sklearn.metrics import roc_curve, roc_auc_score\n",
    "import matplotlib.pyplot as plt\n",
    "\n",
    "def plot_roc(data):\n",
    "    # Create horizontally stack plots (max is to to create at least 2 charts)\n",
    "    fig, axs = plt.subplots(1, max(len(variant_names), 2), figsize=(9,4))\n",
    "    fig.suptitle('Receiver Operating Chracteristic (ROC) curves by Variant')\n",
    "    colors = sns.color_palette(\"Paired\")\n",
    "    # Plot the ROC curves by variant name\n",
    "    for i, (variant_name, pred_df) in enumerate(data.groupby('variant_name')):        \n",
    "        # Get true probability for ROC\n",
    "        tp = pred_df.apply(lambda r: r['is_helpful_prob'] if r['is_helpful_prediction'] else \n",
    "                           1-r['is_helpful_prob'], axis=1)\n",
    "        fpr, tpr, _ = roc_curve(pred_df['is_helpful'], tp)\n",
    "        auc = roc_auc_score(pred_df['is_helpful'], tp)\n",
    "        axs[i].plot(fpr,tpr,color=colors[i],label=f\"{variant_name} auc={auc:.4f}\")   \n",
    "        axs[i].plot([0, 1], [0, 1], linestyle='--')\n",
    "        axs[i].set_xlabel(\"False Poitive Rate\")\n",
    "        axs[i].set_ylabel(\"True Positive Rate\")\n",
    "        axs[i].legend(loc=4)\n",
    "        \n",
    "plot_roc(join_df)"
   ]
  },
  {
   "cell_type": "markdown",
   "id": "dfb1ac33",
   "metadata": {},
   "source": [
    "# 3.  MAB A/B Testing Simulation 을 위한 심플 테스트"
   ]
  },
  {
   "cell_type": "markdown",
   "id": "631ba61b",
   "metadata": {},
   "source": [
    "## 3.1. MAB A/B Testing Simulation 알고리즘\n",
    "- A/B 테스팅 및 시뮬레이션\n",
    "    - (1) 간단한 \"Variant DB\" 에 초기값을 제공하여 생성 합니다.\n",
    "    - (2) 추론을 위해 대상 변형 (Target Variant) 을 요청합니다.\n",
    "    - (3) \"Variant DB\" 의 값을 기반으로 Tomson Sampling 알고리즘 을 통해서 대상 변형 (Target Variant) 를 제공합니다.\n",
    "    - (4) 대상 변형을 얻은 후에 SageMaker Endpoint 에 대상 변형에 추론을 요청 합니다.\n",
    "    - (5) 추론된 결과는 다시 \"Variant DB\" 에 업데이트를 합니다.\n",
    "    - (2) ~ (5) 의 과정을 반복 합니다.\n",
    "\n"
   ]
  },
  {
   "cell_type": "markdown",
   "id": "2b2118e0",
   "metadata": {},
   "source": []
  },
  {
   "cell_type": "markdown",
   "id": "0afcce54",
   "metadata": {},
   "source": [
    "## 3.2. 변형 지표 저장을 위한 인라인 저장소 셋업\n",
    "\n",
    "\n",
    "\n",
    "\n",
    "추론 횟수 (invocation), 리워드 받은 횟수 (reward) 각각 2, 1 을 각 Varaint인 Champion, Challenger 에 초기 값을 제공 합니다.\n",
    "이 값은 실제적으로 \"베타 분포\" [Beta distribution](https://en.wikipedia.org/wiki/Beta_distribution) 의 알파 (1 + reward), 베타 (1 + invocation - reward) 로 입력이 되어서, 베타 분포를 그리게 됩니다. \n",
    "- 여기서 알파의 의미는 \"리워드의 횟수 (성공의 의미)\" , 베타의 의미는 \"리워드를 받지 못한 횟수 (실패의 의미\" 로 해석을 합니다. \n",
    "- 실제적으로 아래의 함수를 통해서 베타 분포를 구합니다.\n",
    "- converson 은 초기값을 제외한 순수하게 reward 를 받은 횟수 입니다. 기록용으로만 사용하고 이외는 사용하지 않습니다.\n",
    "\n",
    "```\n",
    "    def random_beta(alpha, beta):\n",
    "        \"\"\"\n",
    "        Pure python implement of random beta\n",
    "        \"\"\"\n",
    "        return random.betavariate(alpha, beta)\n",
    "\n",
    "\n",
    "```\n",
    "\n",
    "```\n",
    "{\n",
    "  \"Champion\": {\n",
    "    \"timestamp\": \"2022-04-21-04-22-01\",\n",
    "    \"invocation\": 2,\n",
    "    \"conversion\": 0,\n",
    "    \"reward\": 1,\n",
    "    \"initial_variant_weight\": 1\n",
    "  },\n",
    "  \"Challenger\": {\n",
    "    \"timestamp\": \"2022-04-21-04-22-01\",\n",
    "    \"invocation\": 2,\n",
    "    \"conversion\": 0,\n",
    "    \"reward\": 1,\n",
    "    \"initial_variant_weight\": 1\n",
    "  }\n",
    "}\n",
    "```\n",
    "\n"
   ]
  },
  {
   "cell_type": "code",
   "execution_count": 15,
   "id": "6070087a",
   "metadata": {},
   "outputs": [
    {
     "name": "stdout",
     "output_type": "stream",
     "text": [
      "{\n",
      "  \"Champion\": {\n",
      "    \"timestamp\": \"2022-06-17-02-11-53\",\n",
      "    \"invocation\": 2,\n",
      "    \"conversion\": 0,\n",
      "    \"reward\": 1,\n",
      "    \"initial_variant_weight\": 1\n",
      "  },\n",
      "  \"Challenger\": {\n",
      "    \"timestamp\": \"2022-06-17-02-11-53\",\n",
      "    \"invocation\": 2,\n",
      "    \"conversion\": 0,\n",
      "    \"reward\": 1,\n",
      "    \"initial_variant_weight\": 1\n",
      "  }\n",
      "}\n"
     ]
    }
   ],
   "source": [
    "champion_seed_invocations=2\n",
    "champion_seed_reward=1\n",
    "challenger_seed_invocations=2\n",
    "challenger_seed_reward=1\n",
    "\n",
    "\n",
    "from api.variants_linline_db import VariantsInlineDB \n",
    "variant_db = VariantsInlineDB()\n",
    "\n",
    "variant_record = variant_db.add_variant(variant_name=\"Champion\", \n",
    "                            invocation=champion_seed_invocations, \n",
    "                            conversion=0, \n",
    "                            reward=champion_seed_reward, \n",
    "                            initial_variant_weight=1, \n",
    "                            verbose=False)\n",
    "\n",
    "variant_record = variant_db.add_variant(variant_name=\"Challenger\", \n",
    "                            invocation=challenger_seed_invocations, \n",
    "                            conversion=0, \n",
    "                            reward=challenger_seed_reward, \n",
    "                            initial_variant_weight=1, \n",
    "                            verbose=False)\n",
    "\n",
    "\n",
    "\n",
    "\n",
    "print(json.dumps(variant_db.variant_dic, indent=2))"
   ]
  },
  {
   "cell_type": "markdown",
   "id": "6f0cc109",
   "metadata": {},
   "source": [
    "## 3.3. api_predict() 동작 방식\n",
    "- (1) 현재 variant_db 내용을 바탕으로  Tompson Sampling 을 통한 \"대상 변형\" 을 연산 후에 제공\n",
    "- (2) \"대상 변형\" 으로 batch 사이즈 만큼을 앤드폰이트로 추론 함. (예: batch_size = 1)\n",
    "- (3) 1개를 추론하여 예측이 나온 것을 진실값과 비교해서 \"일치\" 하면 리워드 1 제공, \"일지 하지 않으면\" 리워드 0 제공.\n",
    "    - 아래의 reward 정의 참고\n",
    "        - 단 batch_size가 2 개 이상 이면 (에: 20개) 예측을 'is_helpful_prediction', 'is_helpful_prob' 로 정렬하여 Top 1 만 추출하여 reward 주는 것을 결정 함.    \n",
    "- (4) reward 가 1 이면 variant_db 에 업데이트 함.\n",
    "    \n",
    "    \n",
    "#### Reward 정의 \n",
    "reward 의 정의는 진실값읜 \"is_helpful\"가 예측 결과와 같으면 \"1\" 을 부여 하는 것으로 정의 \n",
    "```\n",
    "['is_helpful'] == ['is_helpful_prediction']\n",
    "```\n"
   ]
  },
  {
   "cell_type": "code",
   "execution_count": 16,
   "id": "afdcaefb",
   "metadata": {},
   "outputs": [],
   "source": [
    "from api.utils import api_predict"
   ]
  },
  {
   "cell_type": "code",
   "execution_count": 17,
   "id": "3c648105",
   "metadata": {},
   "outputs": [
    {
     "name": "stdout",
     "output_type": "stream",
     "text": [
      "14226 14226\n"
     ]
    }
   ],
   "source": [
    "batch_size = 1\n",
    "\n",
    "input_batch = list(chunker(test_input, batch_size))\n",
    "test_batch = list(chunker(test_df, batch_size))\n",
    "print(len(input_batch), len(test_batch))"
   ]
  },
  {
   "cell_type": "code",
   "execution_count": 18,
   "id": "7acc9832",
   "metadata": {},
   "outputs": [
    {
     "name": "stdout",
     "output_type": "stream",
     "text": [
      "\n",
      "##################################\n",
      "\n",
      "variant_name:  Challenger\n",
      "Top predicton with meta data\n"
     ]
    },
    {
     "data": {
      "text/html": [
       "<div>\n",
       "<style scoped>\n",
       "    .dataframe tbody tr th:only-of-type {\n",
       "        vertical-align: middle;\n",
       "    }\n",
       "\n",
       "    .dataframe tbody tr th {\n",
       "        vertical-align: top;\n",
       "    }\n",
       "\n",
       "    .dataframe thead th {\n",
       "        text-align: right;\n",
       "    }\n",
       "</style>\n",
       "<table border=\"1\" class=\"dataframe\">\n",
       "  <thead>\n",
       "    <tr style=\"text-align: right;\">\n",
       "      <th></th>\n",
       "      <th>is_helpful</th>\n",
       "      <th>is_helpful_prediction</th>\n",
       "      <th>is_helpful_prob</th>\n",
       "      <th>variant_name</th>\n",
       "      <th>strategy</th>\n",
       "      <th>batch</th>\n",
       "      <th>invocation</th>\n",
       "      <th>reward</th>\n",
       "    </tr>\n",
       "  </thead>\n",
       "  <tbody>\n",
       "    <tr>\n",
       "      <th>0</th>\n",
       "      <td>False</td>\n",
       "      <td>True</td>\n",
       "      <td>0.548233</td>\n",
       "      <td>Challenger</td>\n",
       "      <td>TomsonSampling</td>\n",
       "      <td>0</td>\n",
       "      <td>1</td>\n",
       "      <td>0</td>\n",
       "    </tr>\n",
       "  </tbody>\n",
       "</table>\n",
       "</div>"
      ],
      "text/plain": [
       "   is_helpful  is_helpful_prediction  is_helpful_prob variant_name  \\\n",
       "0       False                   True         0.548233   Challenger   \n",
       "\n",
       "         strategy  batch  invocation  reward  \n",
       "0  TomsonSampling      0           1       0  "
      ]
     },
     "metadata": {},
     "output_type": "display_data"
    },
    {
     "name": "stdout",
     "output_type": "stream",
     "text": [
      "\n",
      "##################################\n",
      "\n",
      "variant_name:  Challenger\n",
      "Top predicton with meta data\n"
     ]
    },
    {
     "data": {
      "text/html": [
       "<div>\n",
       "<style scoped>\n",
       "    .dataframe tbody tr th:only-of-type {\n",
       "        vertical-align: middle;\n",
       "    }\n",
       "\n",
       "    .dataframe tbody tr th {\n",
       "        vertical-align: top;\n",
       "    }\n",
       "\n",
       "    .dataframe thead th {\n",
       "        text-align: right;\n",
       "    }\n",
       "</style>\n",
       "<table border=\"1\" class=\"dataframe\">\n",
       "  <thead>\n",
       "    <tr style=\"text-align: right;\">\n",
       "      <th></th>\n",
       "      <th>is_helpful</th>\n",
       "      <th>is_helpful_prediction</th>\n",
       "      <th>is_helpful_prob</th>\n",
       "      <th>variant_name</th>\n",
       "      <th>strategy</th>\n",
       "      <th>batch</th>\n",
       "      <th>invocation</th>\n",
       "      <th>reward</th>\n",
       "    </tr>\n",
       "  </thead>\n",
       "  <tbody>\n",
       "    <tr>\n",
       "      <th>0</th>\n",
       "      <td>True</td>\n",
       "      <td>True</td>\n",
       "      <td>0.757733</td>\n",
       "      <td>Challenger</td>\n",
       "      <td>TomsonSampling</td>\n",
       "      <td>1</td>\n",
       "      <td>1</td>\n",
       "      <td>1</td>\n",
       "    </tr>\n",
       "  </tbody>\n",
       "</table>\n",
       "</div>"
      ],
      "text/plain": [
       "   is_helpful  is_helpful_prediction  is_helpful_prob variant_name  \\\n",
       "0        True                   True         0.757733   Challenger   \n",
       "\n",
       "         strategy  batch  invocation  reward  \n",
       "0  TomsonSampling      1           1       1  "
      ]
     },
     "metadata": {},
     "output_type": "display_data"
    },
    {
     "name": "stdout",
     "output_type": "stream",
     "text": [
      "--> Reward and conversion are recoded in variant_db: \n",
      "\n",
      "##################################\n",
      "\n",
      "variant_name:  Champion\n",
      "Top predicton with meta data\n"
     ]
    },
    {
     "data": {
      "text/html": [
       "<div>\n",
       "<style scoped>\n",
       "    .dataframe tbody tr th:only-of-type {\n",
       "        vertical-align: middle;\n",
       "    }\n",
       "\n",
       "    .dataframe tbody tr th {\n",
       "        vertical-align: top;\n",
       "    }\n",
       "\n",
       "    .dataframe thead th {\n",
       "        text-align: right;\n",
       "    }\n",
       "</style>\n",
       "<table border=\"1\" class=\"dataframe\">\n",
       "  <thead>\n",
       "    <tr style=\"text-align: right;\">\n",
       "      <th></th>\n",
       "      <th>is_helpful</th>\n",
       "      <th>is_helpful_prediction</th>\n",
       "      <th>is_helpful_prob</th>\n",
       "      <th>variant_name</th>\n",
       "      <th>strategy</th>\n",
       "      <th>batch</th>\n",
       "      <th>invocation</th>\n",
       "      <th>reward</th>\n",
       "    </tr>\n",
       "  </thead>\n",
       "  <tbody>\n",
       "    <tr>\n",
       "      <th>0</th>\n",
       "      <td>True</td>\n",
       "      <td>True</td>\n",
       "      <td>0.532921</td>\n",
       "      <td>Champion</td>\n",
       "      <td>TomsonSampling</td>\n",
       "      <td>2</td>\n",
       "      <td>1</td>\n",
       "      <td>1</td>\n",
       "    </tr>\n",
       "  </tbody>\n",
       "</table>\n",
       "</div>"
      ],
      "text/plain": [
       "   is_helpful  is_helpful_prediction  is_helpful_prob variant_name  \\\n",
       "0        True                   True         0.532921     Champion   \n",
       "\n",
       "         strategy  batch  invocation  reward  \n",
       "0  TomsonSampling      2           1       1  "
      ]
     },
     "metadata": {},
     "output_type": "display_data"
    },
    {
     "name": "stdout",
     "output_type": "stream",
     "text": [
      "--> Reward and conversion are recoded in variant_db: \n",
      "\n",
      "##################################\n",
      "\n",
      "variant_name:  Champion\n",
      "Top predicton with meta data\n"
     ]
    },
    {
     "data": {
      "text/html": [
       "<div>\n",
       "<style scoped>\n",
       "    .dataframe tbody tr th:only-of-type {\n",
       "        vertical-align: middle;\n",
       "    }\n",
       "\n",
       "    .dataframe tbody tr th {\n",
       "        vertical-align: top;\n",
       "    }\n",
       "\n",
       "    .dataframe thead th {\n",
       "        text-align: right;\n",
       "    }\n",
       "</style>\n",
       "<table border=\"1\" class=\"dataframe\">\n",
       "  <thead>\n",
       "    <tr style=\"text-align: right;\">\n",
       "      <th></th>\n",
       "      <th>is_helpful</th>\n",
       "      <th>is_helpful_prediction</th>\n",
       "      <th>is_helpful_prob</th>\n",
       "      <th>variant_name</th>\n",
       "      <th>strategy</th>\n",
       "      <th>batch</th>\n",
       "      <th>invocation</th>\n",
       "      <th>reward</th>\n",
       "    </tr>\n",
       "  </thead>\n",
       "  <tbody>\n",
       "    <tr>\n",
       "      <th>0</th>\n",
       "      <td>True</td>\n",
       "      <td>True</td>\n",
       "      <td>0.539651</td>\n",
       "      <td>Champion</td>\n",
       "      <td>TomsonSampling</td>\n",
       "      <td>3</td>\n",
       "      <td>1</td>\n",
       "      <td>1</td>\n",
       "    </tr>\n",
       "  </tbody>\n",
       "</table>\n",
       "</div>"
      ],
      "text/plain": [
       "   is_helpful  is_helpful_prediction  is_helpful_prob variant_name  \\\n",
       "0        True                   True         0.539651     Champion   \n",
       "\n",
       "         strategy  batch  invocation  reward  \n",
       "0  TomsonSampling      3           1       1  "
      ]
     },
     "metadata": {},
     "output_type": "display_data"
    },
    {
     "name": "stdout",
     "output_type": "stream",
     "text": [
      "--> Reward and conversion are recoded in variant_db: \n",
      "\n",
      "##################################\n",
      "\n",
      "variant_name:  Challenger\n",
      "Top predicton with meta data\n"
     ]
    },
    {
     "data": {
      "text/html": [
       "<div>\n",
       "<style scoped>\n",
       "    .dataframe tbody tr th:only-of-type {\n",
       "        vertical-align: middle;\n",
       "    }\n",
       "\n",
       "    .dataframe tbody tr th {\n",
       "        vertical-align: top;\n",
       "    }\n",
       "\n",
       "    .dataframe thead th {\n",
       "        text-align: right;\n",
       "    }\n",
       "</style>\n",
       "<table border=\"1\" class=\"dataframe\">\n",
       "  <thead>\n",
       "    <tr style=\"text-align: right;\">\n",
       "      <th></th>\n",
       "      <th>is_helpful</th>\n",
       "      <th>is_helpful_prediction</th>\n",
       "      <th>is_helpful_prob</th>\n",
       "      <th>variant_name</th>\n",
       "      <th>strategy</th>\n",
       "      <th>batch</th>\n",
       "      <th>invocation</th>\n",
       "      <th>reward</th>\n",
       "    </tr>\n",
       "  </thead>\n",
       "  <tbody>\n",
       "    <tr>\n",
       "      <th>0</th>\n",
       "      <td>False</td>\n",
       "      <td>False</td>\n",
       "      <td>0.783341</td>\n",
       "      <td>Challenger</td>\n",
       "      <td>TomsonSampling</td>\n",
       "      <td>4</td>\n",
       "      <td>1</td>\n",
       "      <td>1</td>\n",
       "    </tr>\n",
       "  </tbody>\n",
       "</table>\n",
       "</div>"
      ],
      "text/plain": [
       "   is_helpful  is_helpful_prediction  is_helpful_prob variant_name  \\\n",
       "0       False                  False         0.783341   Challenger   \n",
       "\n",
       "         strategy  batch  invocation  reward  \n",
       "0  TomsonSampling      4           1       1  "
      ]
     },
     "metadata": {},
     "output_type": "display_data"
    },
    {
     "name": "stdout",
     "output_type": "stream",
     "text": [
      "--> Reward and conversion are recoded in variant_db: \n"
     ]
    }
   ],
   "source": [
    "# batch_num 값으로 배치 수 조절 \n",
    "batch_num = 4\n",
    "\n",
    "batch_df = pd.concat(api_predict(i, endpoint_name, batch_size, input_batch[i],test_batch[i],variant_db, verbose=True) \n",
    "                     for i in range(len(input_batch)) if i <= batch_num ).reset_index(drop=True)\n"
   ]
  },
  {
   "cell_type": "markdown",
   "id": "f6ec8ead",
   "metadata": {},
   "source": [
    "## 3.4. 심플 테스트 결과 확인\n",
    "- 위의 5번 배치에 대한 실행 요약을 봅니다.\n",
    "    - 톰슨 샘플링으로 제공된 variant_name 으로 엔드포인트에 추론을 하였고, 이후에 is_helpful == is_helpful_prediction 에 따라서 reward 를 받은 것을 화인 해보세요"
   ]
  },
  {
   "cell_type": "code",
   "execution_count": 19,
   "id": "244a8e83",
   "metadata": {},
   "outputs": [
    {
     "data": {
      "text/html": [
       "<div>\n",
       "<style scoped>\n",
       "    .dataframe tbody tr th:only-of-type {\n",
       "        vertical-align: middle;\n",
       "    }\n",
       "\n",
       "    .dataframe tbody tr th {\n",
       "        vertical-align: top;\n",
       "    }\n",
       "\n",
       "    .dataframe thead th {\n",
       "        text-align: right;\n",
       "    }\n",
       "</style>\n",
       "<table border=\"1\" class=\"dataframe\">\n",
       "  <thead>\n",
       "    <tr style=\"text-align: right;\">\n",
       "      <th></th>\n",
       "      <th>is_helpful</th>\n",
       "      <th>is_helpful_prediction</th>\n",
       "      <th>is_helpful_prob</th>\n",
       "      <th>variant_name</th>\n",
       "      <th>strategy</th>\n",
       "      <th>batch</th>\n",
       "      <th>invocation</th>\n",
       "      <th>reward</th>\n",
       "    </tr>\n",
       "  </thead>\n",
       "  <tbody>\n",
       "    <tr>\n",
       "      <th>0</th>\n",
       "      <td>False</td>\n",
       "      <td>True</td>\n",
       "      <td>0.548233</td>\n",
       "      <td>Challenger</td>\n",
       "      <td>TomsonSampling</td>\n",
       "      <td>0</td>\n",
       "      <td>1</td>\n",
       "      <td>0</td>\n",
       "    </tr>\n",
       "    <tr>\n",
       "      <th>1</th>\n",
       "      <td>True</td>\n",
       "      <td>True</td>\n",
       "      <td>0.757733</td>\n",
       "      <td>Challenger</td>\n",
       "      <td>TomsonSampling</td>\n",
       "      <td>1</td>\n",
       "      <td>1</td>\n",
       "      <td>1</td>\n",
       "    </tr>\n",
       "    <tr>\n",
       "      <th>2</th>\n",
       "      <td>True</td>\n",
       "      <td>True</td>\n",
       "      <td>0.532921</td>\n",
       "      <td>Champion</td>\n",
       "      <td>TomsonSampling</td>\n",
       "      <td>2</td>\n",
       "      <td>1</td>\n",
       "      <td>1</td>\n",
       "    </tr>\n",
       "    <tr>\n",
       "      <th>3</th>\n",
       "      <td>True</td>\n",
       "      <td>True</td>\n",
       "      <td>0.539651</td>\n",
       "      <td>Champion</td>\n",
       "      <td>TomsonSampling</td>\n",
       "      <td>3</td>\n",
       "      <td>1</td>\n",
       "      <td>1</td>\n",
       "    </tr>\n",
       "    <tr>\n",
       "      <th>4</th>\n",
       "      <td>False</td>\n",
       "      <td>False</td>\n",
       "      <td>0.783341</td>\n",
       "      <td>Challenger</td>\n",
       "      <td>TomsonSampling</td>\n",
       "      <td>4</td>\n",
       "      <td>1</td>\n",
       "      <td>1</td>\n",
       "    </tr>\n",
       "  </tbody>\n",
       "</table>\n",
       "</div>"
      ],
      "text/plain": [
       "   is_helpful  is_helpful_prediction  is_helpful_prob variant_name  \\\n",
       "0       False                   True         0.548233   Challenger   \n",
       "1        True                   True         0.757733   Challenger   \n",
       "2        True                   True         0.532921     Champion   \n",
       "3        True                   True         0.539651     Champion   \n",
       "4       False                  False         0.783341   Challenger   \n",
       "\n",
       "         strategy  batch  invocation  reward  \n",
       "0  TomsonSampling      0           1       0  \n",
       "1  TomsonSampling      1           1       1  \n",
       "2  TomsonSampling      2           1       1  \n",
       "3  TomsonSampling      3           1       1  \n",
       "4  TomsonSampling      4           1       1  "
      ]
     },
     "execution_count": 19,
     "metadata": {},
     "output_type": "execute_result"
    }
   ],
   "source": [
    "batch_df "
   ]
  },
  {
   "cell_type": "code",
   "execution_count": 20,
   "id": "0505046e",
   "metadata": {},
   "outputs": [
    {
     "name": "stdout",
     "output_type": "stream",
     "text": [
      "{\n",
      "  \"Champion\": {\n",
      "    \"timestamp\": \"2022-06-17-02-11-56\",\n",
      "    \"invocation\": 4,\n",
      "    \"conversion\": 2,\n",
      "    \"reward\": 3,\n",
      "    \"initial_variant_weight\": 1\n",
      "  },\n",
      "  \"Challenger\": {\n",
      "    \"timestamp\": \"2022-06-17-02-11-56\",\n",
      "    \"invocation\": 5,\n",
      "    \"conversion\": 2,\n",
      "    \"reward\": 3,\n",
      "    \"initial_variant_weight\": 1\n",
      "  }\n",
      "}\n"
     ]
    }
   ],
   "source": [
    "print(json.dumps(variant_db.variant_dic, indent=2))"
   ]
  },
  {
   "cell_type": "markdown",
   "id": "c6729d95",
   "metadata": {},
   "source": [
    "# 4. 배치 A/B 테스트 시뮬레이션 추론 실행"
   ]
  },
  {
   "cell_type": "markdown",
   "id": "3910e36b",
   "metadata": {},
   "source": [
    "## 4.1. 변형 지표 저장을 위한 인라인 저장소 셋업"
   ]
  },
  {
   "cell_type": "markdown",
   "id": "e38520b1",
   "metadata": {},
   "source": [
    "### 변형의 수행 횟수, 리워드의 시작 값 설정\n",
    "- 이번에는 seed 값을 invocation, reward 를  다시 2, 1로 초기화 합니다."
   ]
  },
  {
   "cell_type": "code",
   "execution_count": 21,
   "id": "17798382",
   "metadata": {},
   "outputs": [],
   "source": [
    "champion_seed_invocations=2\n",
    "champion_seed_reward=1\n",
    "challenger_seed_invocations=2\n",
    "challenger_seed_reward=1"
   ]
  },
  {
   "cell_type": "code",
   "execution_count": 22,
   "id": "c096f6c9",
   "metadata": {},
   "outputs": [
    {
     "name": "stdout",
     "output_type": "stream",
     "text": [
      "{\n",
      "  \"Champion\": {\n",
      "    \"timestamp\": \"2022-06-17-02-12-10\",\n",
      "    \"invocation\": 2,\n",
      "    \"conversion\": 0,\n",
      "    \"reward\": 1,\n",
      "    \"initial_variant_weight\": 1\n",
      "  },\n",
      "  \"Challenger\": {\n",
      "    \"timestamp\": \"2022-06-17-02-12-10\",\n",
      "    \"invocation\": 2,\n",
      "    \"conversion\": 0,\n",
      "    \"reward\": 1,\n",
      "    \"initial_variant_weight\": 1\n",
      "  }\n",
      "}\n"
     ]
    }
   ],
   "source": [
    "\n",
    "from api.variants_linline_db import VariantsInlineDB \n",
    "variant_db = VariantsInlineDB()\n",
    "\n",
    "variant_record = variant_db.add_variant(variant_name=\"Champion\", \n",
    "                            invocation=champion_seed_invocations, \n",
    "                            conversion=0, \n",
    "                            reward=champion_seed_reward, \n",
    "                            initial_variant_weight=1, \n",
    "                            verbose=False)\n",
    "\n",
    "variant_record = variant_db.add_variant(variant_name=\"Challenger\", \n",
    "                            invocation=challenger_seed_invocations, \n",
    "                            conversion=0, \n",
    "                            reward=challenger_seed_reward, \n",
    "                            initial_variant_weight=1, \n",
    "                            verbose=False)\n",
    "\n",
    "\n",
    "\n",
    "\n",
    "print(json.dumps(variant_db.variant_dic, indent=2))"
   ]
  },
  {
   "cell_type": "markdown",
   "id": "d2d3b203",
   "metadata": {},
   "source": [
    "## 4.2 MAB A/B 시뮬레이션 실행\n",
    "- 이번에는 batch_num = 999 로 하여 총 1000번을 실행 합니다."
   ]
  },
  {
   "cell_type": "code",
   "execution_count": 23,
   "id": "8c4cb48b",
   "metadata": {
    "scrolled": true
   },
   "outputs": [
    {
     "name": "stdout",
     "output_type": "stream",
     "text": [
      "14226 14226\n"
     ]
    }
   ],
   "source": [
    "batch_size = 1\n",
    "\n",
    "input_batch = list(chunker(test_input, batch_size))\n",
    "test_batch = list(chunker(test_df, batch_size))\n",
    "print(len(input_batch), len(test_batch))"
   ]
  },
  {
   "cell_type": "code",
   "execution_count": 24,
   "id": "45c2135b",
   "metadata": {},
   "outputs": [
    {
     "data": {
      "text/html": [
       "<div>\n",
       "<style scoped>\n",
       "    .dataframe tbody tr th:only-of-type {\n",
       "        vertical-align: middle;\n",
       "    }\n",
       "\n",
       "    .dataframe tbody tr th {\n",
       "        vertical-align: top;\n",
       "    }\n",
       "\n",
       "    .dataframe thead th {\n",
       "        text-align: right;\n",
       "    }\n",
       "</style>\n",
       "<table border=\"1\" class=\"dataframe\">\n",
       "  <thead>\n",
       "    <tr style=\"text-align: right;\">\n",
       "      <th></th>\n",
       "      <th>is_helpful</th>\n",
       "      <th>is_helpful_prediction</th>\n",
       "      <th>is_helpful_prob</th>\n",
       "      <th>variant_name</th>\n",
       "      <th>strategy</th>\n",
       "      <th>batch</th>\n",
       "      <th>invocation</th>\n",
       "      <th>reward</th>\n",
       "    </tr>\n",
       "  </thead>\n",
       "  <tbody>\n",
       "    <tr>\n",
       "      <th>0</th>\n",
       "      <td>False</td>\n",
       "      <td>True</td>\n",
       "      <td>0.548233</td>\n",
       "      <td>Challenger</td>\n",
       "      <td>TomsonSampling</td>\n",
       "      <td>0</td>\n",
       "      <td>1</td>\n",
       "      <td>0</td>\n",
       "    </tr>\n",
       "    <tr>\n",
       "      <th>1</th>\n",
       "      <td>True</td>\n",
       "      <td>True</td>\n",
       "      <td>0.635457</td>\n",
       "      <td>Champion</td>\n",
       "      <td>TomsonSampling</td>\n",
       "      <td>1</td>\n",
       "      <td>1</td>\n",
       "      <td>1</td>\n",
       "    </tr>\n",
       "    <tr>\n",
       "      <th>2</th>\n",
       "      <td>True</td>\n",
       "      <td>True</td>\n",
       "      <td>0.532921</td>\n",
       "      <td>Champion</td>\n",
       "      <td>TomsonSampling</td>\n",
       "      <td>2</td>\n",
       "      <td>1</td>\n",
       "      <td>1</td>\n",
       "    </tr>\n",
       "    <tr>\n",
       "      <th>3</th>\n",
       "      <td>True</td>\n",
       "      <td>False</td>\n",
       "      <td>0.514194</td>\n",
       "      <td>Challenger</td>\n",
       "      <td>TomsonSampling</td>\n",
       "      <td>3</td>\n",
       "      <td>1</td>\n",
       "      <td>0</td>\n",
       "    </tr>\n",
       "    <tr>\n",
       "      <th>4</th>\n",
       "      <td>False</td>\n",
       "      <td>False</td>\n",
       "      <td>0.800596</td>\n",
       "      <td>Champion</td>\n",
       "      <td>TomsonSampling</td>\n",
       "      <td>4</td>\n",
       "      <td>1</td>\n",
       "      <td>1</td>\n",
       "    </tr>\n",
       "    <tr>\n",
       "      <th>...</th>\n",
       "      <td>...</td>\n",
       "      <td>...</td>\n",
       "      <td>...</td>\n",
       "      <td>...</td>\n",
       "      <td>...</td>\n",
       "      <td>...</td>\n",
       "      <td>...</td>\n",
       "      <td>...</td>\n",
       "    </tr>\n",
       "    <tr>\n",
       "      <th>995</th>\n",
       "      <td>True</td>\n",
       "      <td>True</td>\n",
       "      <td>0.513746</td>\n",
       "      <td>Challenger</td>\n",
       "      <td>TomsonSampling</td>\n",
       "      <td>995</td>\n",
       "      <td>1</td>\n",
       "      <td>1</td>\n",
       "    </tr>\n",
       "    <tr>\n",
       "      <th>996</th>\n",
       "      <td>True</td>\n",
       "      <td>True</td>\n",
       "      <td>0.597338</td>\n",
       "      <td>Challenger</td>\n",
       "      <td>TomsonSampling</td>\n",
       "      <td>996</td>\n",
       "      <td>1</td>\n",
       "      <td>1</td>\n",
       "    </tr>\n",
       "    <tr>\n",
       "      <th>997</th>\n",
       "      <td>True</td>\n",
       "      <td>True</td>\n",
       "      <td>0.771768</td>\n",
       "      <td>Challenger</td>\n",
       "      <td>TomsonSampling</td>\n",
       "      <td>997</td>\n",
       "      <td>1</td>\n",
       "      <td>1</td>\n",
       "    </tr>\n",
       "    <tr>\n",
       "      <th>998</th>\n",
       "      <td>False</td>\n",
       "      <td>False</td>\n",
       "      <td>0.611488</td>\n",
       "      <td>Challenger</td>\n",
       "      <td>TomsonSampling</td>\n",
       "      <td>998</td>\n",
       "      <td>1</td>\n",
       "      <td>1</td>\n",
       "    </tr>\n",
       "    <tr>\n",
       "      <th>999</th>\n",
       "      <td>True</td>\n",
       "      <td>False</td>\n",
       "      <td>0.608837</td>\n",
       "      <td>Challenger</td>\n",
       "      <td>TomsonSampling</td>\n",
       "      <td>999</td>\n",
       "      <td>1</td>\n",
       "      <td>0</td>\n",
       "    </tr>\n",
       "  </tbody>\n",
       "</table>\n",
       "<p>1000 rows × 8 columns</p>\n",
       "</div>"
      ],
      "text/plain": [
       "     is_helpful  is_helpful_prediction  is_helpful_prob variant_name  \\\n",
       "0         False                   True         0.548233   Challenger   \n",
       "1          True                   True         0.635457     Champion   \n",
       "2          True                   True         0.532921     Champion   \n",
       "3          True                  False         0.514194   Challenger   \n",
       "4         False                  False         0.800596     Champion   \n",
       "..          ...                    ...              ...          ...   \n",
       "995        True                   True         0.513746   Challenger   \n",
       "996        True                   True         0.597338   Challenger   \n",
       "997        True                   True         0.771768   Challenger   \n",
       "998       False                  False         0.611488   Challenger   \n",
       "999        True                  False         0.608837   Challenger   \n",
       "\n",
       "           strategy  batch  invocation  reward  \n",
       "0    TomsonSampling      0           1       0  \n",
       "1    TomsonSampling      1           1       1  \n",
       "2    TomsonSampling      2           1       1  \n",
       "3    TomsonSampling      3           1       0  \n",
       "4    TomsonSampling      4           1       1  \n",
       "..              ...    ...         ...     ...  \n",
       "995  TomsonSampling    995           1       1  \n",
       "996  TomsonSampling    996           1       1  \n",
       "997  TomsonSampling    997           1       1  \n",
       "998  TomsonSampling    998           1       1  \n",
       "999  TomsonSampling    999           1       0  \n",
       "\n",
       "[1000 rows x 8 columns]"
      ]
     },
     "execution_count": 24,
     "metadata": {},
     "output_type": "execute_result"
    }
   ],
   "source": [
    "# batch_num 값으로 배치 수 조절 \n",
    "batch_num = 999\n",
    "\n",
    "batch_df = pd.concat(api_predict(i, endpoint_name, batch_size, input_batch[i],test_batch[i],variant_db) \n",
    "                     for i in range(len(input_batch)) if i <= batch_num ).reset_index(drop=True)\n",
    "batch_df "
   ]
  },
  {
   "cell_type": "code",
   "execution_count": 25,
   "id": "12cb0aac",
   "metadata": {},
   "outputs": [
    {
     "name": "stdout",
     "output_type": "stream",
     "text": [
      "{\n",
      "  \"Champion\": {\n",
      "    \"timestamp\": \"2022-06-17-02-12-25\",\n",
      "    \"invocation\": 434,\n",
      "    \"conversion\": 272,\n",
      "    \"reward\": 273,\n",
      "    \"initial_variant_weight\": 1\n",
      "  },\n",
      "  \"Challenger\": {\n",
      "    \"timestamp\": \"2022-06-17-02-12-28\",\n",
      "    \"invocation\": 570,\n",
      "    \"conversion\": 403,\n",
      "    \"reward\": 404,\n",
      "    \"initial_variant_weight\": 1\n",
      "  }\n",
      "}\n"
     ]
    }
   ],
   "source": [
    "print(json.dumps(variant_db.variant_dic, indent=2))\n"
   ]
  },
  {
   "cell_type": "markdown",
   "id": "ee1271a6",
   "metadata": {},
   "source": [
    "# 5. A/B 테스팅 시뮬레이션 분석"
   ]
  },
  {
   "cell_type": "markdown",
   "id": "d9f642cc",
   "metadata": {},
   "source": [
    "\n",
    "## 5.1. 각 변형의 리워드 가시화 \n",
    "\n",
    "배치 결과를 변형 비율별로 그룹화하여 총 추론 횟수, 보상 및 보상 비율을 요약합니다\n",
    "- reward_rate = reward / invocation\n",
    "\n",
    "하나의 예시로서 결과를 확인 해보겠습니다.\n",
    "- 총 1000 번의 배치에서 Challenger 는 추론을 893번, Champion 은 107번을 했습니다. 즉 톰슨 샘플링으로 893, 107 번 만큼 선택 받았다는 의미 입니다.\n",
    "- 리워드는 Challenger 605번 (reward rate = 0.67%) , Champion 은 63번 (reward rate = 0.58%) 을 기록 하였습니다. 그래서 누적 리워드는 Challenger 가 높고, 또한 reward rate 도 더 높습니다.\n",
    "\n",
    "```\n",
    "                invocation\treward\treward_rate\n",
    "variant_name\t\t\t\n",
    "Challenger\t  893\t         605       0.677492\n",
    "Champion\t    107\t         63\t    0.588785\n",
    "\n",
    "```\n"
   ]
  },
  {
   "cell_type": "code",
   "execution_count": 26,
   "id": "68fb8731",
   "metadata": {},
   "outputs": [
    {
     "data": {
      "text/html": [
       "<div>\n",
       "<style scoped>\n",
       "    .dataframe tbody tr th:only-of-type {\n",
       "        vertical-align: middle;\n",
       "    }\n",
       "\n",
       "    .dataframe tbody tr th {\n",
       "        vertical-align: top;\n",
       "    }\n",
       "\n",
       "    .dataframe thead th {\n",
       "        text-align: right;\n",
       "    }\n",
       "</style>\n",
       "<table border=\"1\" class=\"dataframe\">\n",
       "  <thead>\n",
       "    <tr style=\"text-align: right;\">\n",
       "      <th></th>\n",
       "      <th>invocation</th>\n",
       "      <th>reward</th>\n",
       "      <th>reward_rate</th>\n",
       "    </tr>\n",
       "    <tr>\n",
       "      <th>variant_name</th>\n",
       "      <th></th>\n",
       "      <th></th>\n",
       "      <th></th>\n",
       "    </tr>\n",
       "  </thead>\n",
       "  <tbody>\n",
       "    <tr>\n",
       "      <th>Challenger</th>\n",
       "      <td>568</td>\n",
       "      <td>403</td>\n",
       "      <td>0.709507</td>\n",
       "    </tr>\n",
       "    <tr>\n",
       "      <th>Champion</th>\n",
       "      <td>432</td>\n",
       "      <td>272</td>\n",
       "      <td>0.629630</td>\n",
       "    </tr>\n",
       "  </tbody>\n",
       "</table>\n",
       "</div>"
      ],
      "text/plain": [
       "              invocation  reward  reward_rate\n",
       "variant_name                                 \n",
       "Challenger           568     403     0.709507\n",
       "Champion             432     272     0.629630"
      ]
     },
     "execution_count": 26,
     "metadata": {},
     "output_type": "execute_result"
    }
   ],
   "source": [
    "variant_df = batch_df.groupby('variant_name').agg({\n",
    "    'invocation': 'count', \n",
    "    'reward': 'sum'\n",
    "})\n",
    "variant_df['reward_rate'] = variant_df.apply(lambda r: r['reward']/r['invocation'], axis=1)\n",
    "variant_df.sort_values('reward_rate', ascending=False)\n",
    "variant_df"
   ]
  },
  {
   "cell_type": "markdown",
   "id": "5666a098",
   "metadata": {},
   "source": [
    "## 5.2. 배치 수 진행에 따른 누적 리워드 가시화"
   ]
  },
  {
   "cell_type": "markdown",
   "id": "ba2f2421",
   "metadata": {},
   "source": [
    "어느 varient 가 리워드를 더 많이 받았는지를 보여 주게 됩니다."
   ]
  },
  {
   "cell_type": "code",
   "execution_count": 27,
   "id": "bc39de5f",
   "metadata": {},
   "outputs": [],
   "source": [
    "cum_df = batch_df.groupby(\n",
    "    ['variant_name', 'batch'])[['invocation','reward']].sum().groupby(level=0).cumsum() #.reset_index()\n",
    "cum_df['reward_rate'] = cum_df.apply(lambda r: 1.0 * r['reward'] / r['invocation'], axis=1)"
   ]
  },
  {
   "cell_type": "code",
   "execution_count": 28,
   "id": "594f57a8",
   "metadata": {},
   "outputs": [
    {
     "data": {
      "text/plain": [
       "Text(0.5, 1.0, 'Reward by Variant')"
      ]
     },
     "execution_count": 28,
     "metadata": {},
     "output_type": "execute_result"
    },
    {
     "data": {
      "image/png": "[encoded data removed]",
      "text/plain": [
       "<Figure size 432x288 with 1 Axes>"
      ]
     },
     "metadata": {},
     "output_type": "display_data"
    }
   ],
   "source": [
    "import seaborn as sns\n",
    "\n",
    "sns.lineplot(data=cum_df, x=\"batch\", y=\"reward\", hue=\"variant_name\", palette=\"Paired\").set_title(\"Reward by Variant\")"
   ]
  },
  {
   "cell_type": "markdown",
   "id": "0a592c67",
   "metadata": {},
   "source": [
    "## 5.3. 배치 실행에 따른 보상 비율 (Reward Rate) 가시화\n",
    "- 누적으로 reward rate 를 보여 줍니다. \n",
    "- 최종적으로 reward rate 가 높은 variant 가 더 좋은 성능을 보인다고 해석이 됩니다."
   ]
  },
  {
   "cell_type": "code",
   "execution_count": 29,
   "id": "05b68f2d",
   "metadata": {},
   "outputs": [
    {
     "data": {
      "text/plain": [
       "Text(0.5, 1.0, 'Reward Rate by Variant')"
      ]
     },
     "execution_count": 29,
     "metadata": {},
     "output_type": "execute_result"
    },
    {
     "data": {
      "image/png": "[encoded data removed]",
      "text/plain": [
       "<Figure size 432x288 with 1 Axes>"
      ]
     },
     "metadata": {},
     "output_type": "display_data"
    }
   ],
   "source": [
    "sns.lineplot(data=cum_df, x=\"batch\", y=\"reward_rate\", hue=\"variant_name\", palette=\"Paired\").set_title(\"Reward Rate by Variant\")"
   ]
  },
  {
   "cell_type": "markdown",
   "id": "b4c1da21",
   "metadata": {},
   "source": [
    "## 5.4. 베타 분포 (Beta Distribution) 가시화\n",
    "\n",
    "- 아래의 그림은 Champion, Challenger 의 \"도움 있음 횟수\" (1 + rewards), \"도움 없음 횟수\" (1 + invocations - reward) 를 제공하여 Beta 분포를 생성한 그림 입니다. \n",
    "- Beta 분포의 형태가 \"세로로 얇아지고, 오른쪽으로 갈수록\" 더욱더 더 많이 선택이 됩니다.\n",
    "\n",
    "\n"
   ]
  },
  {
   "cell_type": "code",
   "execution_count": 30,
   "id": "ed2e260a",
   "metadata": {},
   "outputs": [],
   "source": [
    "# Cut the results into 9 bucket, and plot on a 3x3 chart\n",
    "bucket = 9\n",
    "beta_df = cum_df.reset_index()\n",
    "beta_df['bucket'] = pd.cut(beta_df['batch'], [0,2,5,10,20,50,100,200,500,1000], right=True)\n",
    "beta_df = beta_df.groupby(['variant_name', 'bucket'])[['invocation', 'reward']].max()"
   ]
  },
  {
   "cell_type": "markdown",
   "id": "d0ac9506",
   "metadata": {},
   "source": [
    "Plot the beta distribution for each bucket"
   ]
  },
  {
   "cell_type": "code",
   "execution_count": 31,
   "id": "5102ccac",
   "metadata": {},
   "outputs": [
    {
     "data": {
      "image/png": "[encoded data removed]",
      "text/plain": [
       "<Figure size 864x864 with 9 Axes>"
      ]
     },
     "metadata": {},
     "output_type": "display_data"
    }
   ],
   "source": [
    "import numpy as np        \n",
    "from scipy import stats\n",
    "import matplotlib.pyplot as plt\n",
    "colors = sns.color_palette(\"Paired\")\n",
    "plt.style.use(\"dark_background\")\n",
    "\n",
    "def plot_beta(beta_df):\n",
    "    fig, axs = plt.subplots(3, 3, figsize=(12, 12))\n",
    "    fig.subplots_adjust(hspace = .5, wspace=.1)\n",
    "    fig.suptitle('Probability Distribution of Each Variant', fontsize=16, y=1.02)\n",
    "    fig.subplots_adjust(top=0.88)\n",
    "    axs = axs.ravel()\n",
    "    \n",
    "    x = np.arange (0, 1.001, 0.001)\n",
    "    for i, (b, bg) in enumerate(beta_df.groupby('bucket')):\n",
    "        for j, (variant_name, vg) in enumerate(bg.groupby('variant_name')):\n",
    "            v = vg.max()\n",
    "            alpha, beta = 1+v['reward'], 1+v['invocation']-v['reward']\n",
    "            axs[i].plot(x, stats.beta.pdf(x, alpha, beta), label=variant_name, color=colors[j])\n",
    "        axs[i].set_title(f'Batch #{int(b.right)}')\n",
    "        axs[i].grid(False)\n",
    "\n",
    "    handles, labels = axs[0].get_legend_handles_labels()\n",
    "    fig.legend(handles, labels, loc='upper right')\n",
    "    fig.text(0.5, -.01, 'Expected Reward', ha='center', fontsize=16)\n",
    "    fig.text(-.01, 0.5, 'Probability Density', va='center', fontsize=16, rotation='vertical')\n",
    "    fig.tight_layout()\n",
    "    plt.show()        \n",
    "plot_beta(beta_df)"
   ]
  },
  {
   "cell_type": "markdown",
   "id": "33074a24",
   "metadata": {},
   "source": [
    "# 6. Winner 선출\n",
    "\n"
   ]
  },
  {
   "cell_type": "code",
   "execution_count": 32,
   "id": "1b60b9bb",
   "metadata": {},
   "outputs": [
    {
     "name": "stdout",
     "output_type": "stream",
     "text": [
      "Champion, \treward_rate: 0.63, # of invocations : 432\n",
      "Challenger, \treward_rate: 0.71, # of invocations : 568\n",
      "\n",
      "Challenger reward rate (70.95%) is 12.69% higher than Champion rate (62.96%)\n"
     ]
    }
   ],
   "source": [
    "variant_a, variant_b = variant_names[:2]\n",
    "rate_a, num_a = variant_df.loc[variant_a]['reward_rate'], variant_df.loc[variant_a]['invocation']\n",
    "rate_b, num_b = variant_df.loc[variant_b]['reward_rate'], variant_df.loc[variant_b]['invocation']\n",
    "rate_diff = (rate_b - rate_a) / rate_a\n",
    "rate_dir = f'{rate_diff:.2%} higher' if rate_diff > 0 else f'{-rate_diff:.2%} lower'\n",
    "print(f\"{variant_a}, \\treward_rate: {round(rate_a,3)}, # of invocations : {int(num_a)}\")\n",
    "print(f\"{variant_b}, \\treward_rate: {round(rate_b,3)}, # of invocations : {int(num_b)}\")\n",
    "print(\"\")\n",
    "print(f'{variant_b} reward rate ({rate_b:.2%}) is {rate_dir} than {variant_a} rate ({rate_a:.2%})')\n",
    "\n"
   ]
  },
  {
   "cell_type": "markdown",
   "id": "262f12aa",
   "metadata": {},
   "source": [
    "## 신뢰 점수 평가\n",
    "정규 분포를 가정하고 가장 실적이 좋은 변형에 대한 신뢰 점수를 평가해 보겠습니다."
   ]
  },
  {
   "cell_type": "code",
   "execution_count": 33,
   "id": "e21eb7eb",
   "metadata": {},
   "outputs": [],
   "source": [
    "from scipy.stats import norm\n",
    "\n",
    "def plot_distribution(variant_a, rate_a, num_a, variant_b, rate_b, num_b):\n",
    "    # Calculate the standard error for a and b\n",
    "    std_a = np.sqrt(rate_a * (1 - rate_a) / num_a)\n",
    "    std_b = np.sqrt(rate_b * (1 - rate_b) / num_b)\n",
    "    z_score = (rate_b - rate_a) / np.sqrt(std_a**2 + std_b**2)\n",
    "    p_value = norm().sf(z_score)\n",
    "    conf = norm.cdf(z_score)\n",
    "    # Plot distribution\n",
    "    click_rate = np.linspace(0, 1.0, 200)\n",
    "    prob_a = norm(rate_a, std_a).pdf(click_rate)\n",
    "    prob_b = norm(rate_b, std_b).pdf(click_rate)    \n",
    "    plt.plot(click_rate, prob_a, label=variant_a, color=colors[1])\n",
    "    plt.plot(click_rate, prob_b, label=variant_b, color=colors[0])\n",
    "    plt.legend(frameon=True)\n",
    "    plt.xlabel(\"Conversion rate\"); plt.ylabel(\"Probability\");\n",
    "    plt.title(f\"zscore is {z_score:0.3f}, with p-value {p_value:0.3f}\")\n",
    "    return z_score, p_value, conf"
   ]
  },
  {
   "cell_type": "code",
   "execution_count": 34,
   "id": "6c93dbc3",
   "metadata": {},
   "outputs": [
    {
     "name": "stdout",
     "output_type": "stream",
     "text": [
      "The result is statisticially significant\n",
      "Confidene score: 0.996\n"
     ]
    },
    {
     "data": {
      "image/png": "[encoded data removed]",
      "text/plain": [
       "<Figure size 432x288 with 1 Axes>"
      ]
     },
     "metadata": {},
     "output_type": "display_data"
    }
   ],
   "source": [
    "\n",
    "# Plot distribution and get confidence interval\n",
    "z_score, p_value, conf = plot_distribution(variant_a, rate_a, num_a, variant_b, rate_b, num_b)\n",
    "\n",
    "if rate_diff > 0 and conf > 0.95:\n",
    "    print(f'The result is statisticially significant')\n",
    "print(f\"Confidene score: {round(conf,3)}\")"
   ]
  },
  {
   "cell_type": "markdown",
   "id": "af9ac751",
   "metadata": {},
   "source": [
    "## 최종 Variant Metrics"
   ]
  },
  {
   "cell_type": "code",
   "execution_count": 35,
   "id": "7bcef258",
   "metadata": {},
   "outputs": [
    {
     "name": "stdout",
     "output_type": "stream",
     "text": [
      "{\n",
      "  \"Champion\": {\n",
      "    \"timestamp\": \"2022-06-17-02-12-25\",\n",
      "    \"invocation\": 434,\n",
      "    \"conversion\": 272,\n",
      "    \"reward\": 273,\n",
      "    \"initial_variant_weight\": 1\n",
      "  },\n",
      "  \"Challenger\": {\n",
      "    \"timestamp\": \"2022-06-17-02-12-28\",\n",
      "    \"invocation\": 570,\n",
      "    \"conversion\": 403,\n",
      "    \"reward\": 404,\n",
      "    \"initial_variant_weight\": 1\n",
      "  }\n",
      "}\n"
     ]
    }
   ],
   "source": [
    "print(json.dumps(variant_db.variant_dic, indent=2))"
   ]
  },
  {
   "cell_type": "markdown",
   "id": "c4ebadd8",
   "metadata": {},
   "source": [
    "# 7. 엔드포인트 삭제\n",
    "\n",
    "- <font color=\"red\" size=\"5\">작업이 완료시에 주석을 해제하시고 **반드시** 실행하여 엔드포인트를 삭제 해주세요. 안그러면 과다한 요금이 청구 됩니다.</font>"
   ]
  },
  {
   "cell_type": "code",
   "execution_count": 36,
   "id": "f26a8a61",
   "metadata": {},
   "outputs": [],
   "source": [
    "# from api.utils import delete_endpoint\n",
    "# import boto3\n",
    "# boto3_client = boto3.client('sagemaker')\n",
    "# delete_endpoint(boto3_client, endpoint_name, is_del_model=True )"
   ]
  },
  {
   "cell_type": "markdown",
   "id": "4bdbb78f",
   "metadata": {},
   "source": [
    "<font color=\"red\" size=5 > 또한 삭제 후에 더블 체크를 위하여 세이지 메이커의 콘솔에서 \"앤드포인트\" 가신 후에 엔드포인트가 삭제가 되었는지를 확인하세요.</font>"
   ]
  },
  {
   "cell_type": "markdown",
   "id": "c57adcf0",
   "metadata": {},
   "source": [
    "![endpoint_console](img/endpoint_console.png)"
   ]
  },
  {
   "cell_type": "code",
   "execution_count": null,
   "id": "3d252fb7",
   "metadata": {},
   "outputs": [],
   "source": []
  },
  {
   "cell_type": "code",
   "execution_count": null,
   "id": "4cb35a4c",
   "metadata": {},
   "outputs": [],
   "source": []
  },
  {
   "cell_type": "code",
   "execution_count": null,
   "id": "b7533bc1",
   "metadata": {},
   "outputs": [],
   "source": []
  },
  {
   "cell_type": "code",
   "execution_count": null,
   "id": "14a5918e",
   "metadata": {},
   "outputs": [],
   "source": []
  },
  {
   "cell_type": "code",
   "execution_count": null,
   "id": "66edf0d8",
   "metadata": {},
   "outputs": [],
   "source": []
  },
  {
   "cell_type": "code",
   "execution_count": null,
   "id": "0f3afc17",
   "metadata": {},
   "outputs": [],
   "source": []
  },
  {
   "cell_type": "code",
   "execution_count": null,
   "id": "e7260788",
   "metadata": {},
   "outputs": [],
   "source": []
  }
 ],
 "metadata": {
  "kernelspec": {
   "display_name": "conda_python3",
   "language": "python",
   "name": "conda_python3"
  },
  "language_info": {
   "codemirror_mode": {
    "name": "ipython",
    "version": 3
   },
   "file_extension": ".py",
   "mimetype": "text/x-python",
   "name": "python",
   "nbconvert_exporter": "python",
   "pygments_lexer": "ipython3",
   "version": "3.6.13"
  }
 },
 "nbformat": 4,
 "nbformat_minor": 5
}
