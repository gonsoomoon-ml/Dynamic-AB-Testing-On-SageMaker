{
 "cells": [
  {
   "cell_type": "markdown",
   "id": "765fdf5d",
   "metadata": {},
   "source": [
    "# [모듈 1.1] Tomson Sampling Test 맛보기\n",
    "\n",
    "아래는 톰슨 샘플링의 간단하게 실험을 해봅니다. 숫자를 바꾸어 가면서 테스트 하여, 어떻게 값이 바뀌는지 보시면 좋습니다.\n",
    "\n",
    "---"
   ]
  },
  {
   "cell_type": "markdown",
   "id": "ff8a05ad",
   "metadata": {},
   "source": [
    "# 1. 환경 셋업"
   ]
  },
  {
   "cell_type": "code",
   "execution_count": 1,
   "id": "2aaaac6a",
   "metadata": {},
   "outputs": [],
   "source": [
    "%load_ext autoreload\n",
    "%autoreload 2"
   ]
  },
  {
   "cell_type": "code",
   "execution_count": 2,
   "id": "f973a36a",
   "metadata": {},
   "outputs": [],
   "source": [
    "import pandas as pd\n",
    "import sys\n",
    "sys.path.append('./api')\n",
    "from api.test_algorithm import test_thompson_sampling, test_thompson_sampling_w_variants"
   ]
  },
  {
   "cell_type": "markdown",
   "id": "a27419be",
   "metadata": {},
   "source": [
    "# 2. 기본 테스트\n",
    "\n",
    "아래의 변수들을 이해하기 쉽게 이렇게 매핑 해보겠습니다.\n",
    "\n",
    "- variant_list_1 : \"카지노의 머신 리스트\"\n",
    "- variant_name : \"카지노의 머신\"\n",
    "    - \"v1\": 머신1\n",
    "    - \"v2\": 머신2\n",
    "    - \"v3\": 머신3\n",
    "- invocation_count : 게임 실행 횟수    \n",
    "- reward_sum : 보상을 받은 횟수"
   ]
  },
  {
   "cell_type": "code",
   "execution_count": 3,
   "id": "6fa56c1f",
   "metadata": {},
   "outputs": [],
   "source": [
    "variant_list_1 = [\n",
    "    {\n",
    "        \"variant_name\": \"v1\",\n",
    "        \"invocation_count\": 10,\n",
    "        \"reward_sum\": 3,\n",
    "    },\n",
    "    {\n",
    "        \"variant_name\": \"v2\",\n",
    "        \"invocation_count\": 10,\n",
    "        \"reward_sum\": 2,\n",
    "    },\n",
    "    {\n",
    "        \"variant_name\": \"v3\",\n",
    "        \"invocation_count\": 10,\n",
    "        \"reward_sum\": 4,\n",
    "    },\n",
    "]\n",
    "\n"
   ]
  },
  {
   "cell_type": "markdown",
   "id": "ff6b0a3a",
   "metadata": {},
   "source": [
    "아래 셀의 실형 결과 해석은 이렇습니다.\n",
    "- 다섯 번을 실행시에 각 3개의 머신이 invocation_count 대비 리워드를 제공할 확률값을 제공 합니다. \n",
    "- 아래의 첫번째 시도를 보면 0.749 로서 세번째의 머신이 리워드를 제공할 확률이 가장 높습니다.\n",
    "- 결론적으로 v3: 3, v2:1, v1:1 로서 v3이 가장 많은 리워드를 제공 확률을 제공합니다.\n",
    "\n",
    "\n",
    "```\n",
    "probs per varaint:  [0.3485097203696641, 0.07394314674073782, 0.7495840503858954]\n",
    "probs per varaint:  [0.4135250475429103, 0.41701652212529605, 0.4104006637486728]\n",
    "probs per varaint:  [0.4442903752955288, 0.3400368467046498, 0.3731628317032822]\n",
    "probs per varaint:  [0.5537111866669795, 0.06557061155411317, 0.6308198663358326]\n",
    "probs per varaint:  [0.3745627541239217, 0.4269267383094377, 0.49038267576249034]\n",
    "[22]:\n",
    "v3    3\n",
    "v2    1\n",
    "v1    1\n",
    "```"
   ]
  },
  {
   "cell_type": "code",
   "execution_count": 5,
   "id": "ee732508",
   "metadata": {},
   "outputs": [
    {
     "name": "stdout",
     "output_type": "stream",
     "text": [
      "probs per varaint:  [0.3653253694564686, 0.20538337956592545, 0.6707544695536102]\n",
      "probs per varaint:  [0.25558756853231474, 0.400960236045519, 0.33707160293135974]\n",
      "probs per varaint:  [0.1943504062942566, 0.3676987889144671, 0.41470735846991086]\n",
      "probs per varaint:  [0.3431685117763036, 0.20905136101478536, 0.3926666145121589]\n",
      "probs per varaint:  [0.542587844763408, 0.20356134883596916, 0.6362674418537346]\n"
     ]
    },
    {
     "data": {
      "text/plain": [
       "v3    4\n",
       "v2    1\n",
       "Name: variant, dtype: int64"
      ]
     },
     "execution_count": 5,
     "metadata": {},
     "output_type": "execute_result"
    }
   ],
   "source": [
    "response = test_thompson_sampling_w_variants(variant_list_1, trial=5, verbose=True)\n",
    "df = pd.DataFrame(response, columns=['variant'])\n",
    "df.variant.value_counts()"
   ]
  },
  {
   "cell_type": "markdown",
   "id": "49576435",
   "metadata": {},
   "source": [
    "# 3. 실행 횟수와 reward_sum 을 변경하여 테스트"
   ]
  },
  {
   "cell_type": "code",
   "execution_count": null,
   "id": "eeae8373",
   "metadata": {},
   "outputs": [],
   "source": [
    "\n",
    "variant_list_2 = [\n",
    "    {\n",
    "        \"variant_name\": \"v1\",\n",
    "        \"invocation_count\": 10,\n",
    "        \"reward_sum\": 3,\n",
    "    },\n",
    "    {\n",
    "        \"variant_name\": \"v2\",\n",
    "        \"invocation_count\": 10,\n",
    "        \"reward_sum\": 4,\n",
    "    },\n",
    "    {\n",
    "        \"variant_name\": \"v3\",\n",
    "        \"invocation_count\": 10,\n",
    "        \"reward_sum\": 5,\n",
    "    },\n",
    "]\n",
    "\n",
    "\n",
    "\n",
    "variant_list_3 = [\n",
    "    {\n",
    "        \"variant_name\": \"v1\",\n",
    "        \"invocation_count\": 10,\n",
    "        \"reward_sum\": 3,\n",
    "    },\n",
    "    {\n",
    "        \"variant_name\": \"v2\",\n",
    "        \"invocation_count\": 10,\n",
    "        \"reward_sum\": 4,\n",
    "    },\n",
    "    {\n",
    "        \"variant_name\": \"v3\",\n",
    "        \"invocation_count\": 10,\n",
    "        \"reward_sum\": 8,\n",
    "    },\n",
    "]\n",
    "\n"
   ]
  },
  {
   "cell_type": "code",
   "execution_count": null,
   "id": "b3169414",
   "metadata": {},
   "outputs": [],
   "source": [
    "response = test_thompson_sampling_w_variants(variant_list_2, trial=100)\n",
    "df = pd.DataFrame(response, columns=['variant'])\n",
    "df.variant.value_counts()"
   ]
  },
  {
   "cell_type": "code",
   "execution_count": null,
   "id": "1780eae3",
   "metadata": {},
   "outputs": [],
   "source": [
    "response = test_thompson_sampling_w_variants(variant_list_3, trial=100)\n",
    "df = pd.DataFrame(response, columns=['variant'])\n",
    "df.variant.value_counts()"
   ]
  },
  {
   "cell_type": "markdown",
   "id": "1e93b502",
   "metadata": {},
   "source": [
    "# 4.톰슨 샘플링 참고 자료\n",
    "\n",
    "- Multi-Armed Bandits:Simulating an analogy for different strategies in Python*\n",
    "    - 알고리즘 내용을 쉽게 설명 함.\n",
    "    - https://medium.com/@felix.eger17/multi-armed-bandits-simulating-an-analogy-for-different-strategies-in-python-a9e68de5b86d\n",
    "\n",
    "\n",
    "- Self-Optimizing A/B Tests\n",
    "    - Coversion Rate, Beta Dist. 를 개념과 함께  잘 설명함.\n",
    "    - https://medium.com/ef-hello-engineering/self-optimizing-a-b-tests-934f94021370\n",
    "\n",
    "\n",
    "- MAB 알고리즘을 이용하여 효율적으로 정렬하기\n",
    "    - 광고 브랜드의 Impression, Click 으로서 Conversion Rate 값을 얻어서, 이 순서로 광고를 노출 함.\n",
    "    - https://medium.com/musinsa-tech/mab-211d14d2090b\n",
    "\n",
    "\n",
    "- Thompson Sampling for Multi-Armed Bandit Problem\n",
    "    - 알파, 베타 값에 따른 그래프를 보여 줌 (알파: 성공, 베타: 실패, Conversion Rate 구함)\n",
    "    - https://medium.com/analytics-vidhya/thompson-sampling-for-multi-armed-bandit-problem-68e4d367a21e\n",
    "\n",
    "\n",
    "- 블랙 핑크 광고를 예시로서 실제 베타 분포의 변화를 보여줌\n",
    "    - https://brunch.co.kr/@chris-song/66\n",
    "\n"
   ]
  },
  {
   "cell_type": "code",
   "execution_count": null,
   "id": "e1ae3ede",
   "metadata": {},
   "outputs": [],
   "source": []
  }
 ],
 "metadata": {
  "kernelspec": {
   "display_name": "conda_python3",
   "language": "python",
   "name": "conda_python3"
  },
  "language_info": {
   "codemirror_mode": {
    "name": "ipython",
    "version": 3
   },
   "file_extension": ".py",
   "mimetype": "text/x-python",
   "name": "python",
   "nbconvert_exporter": "python",
   "pygments_lexer": "ipython3",
   "version": "3.8.12"
  }
 },
 "nbformat": 4,
 "nbformat_minor": 5
}
