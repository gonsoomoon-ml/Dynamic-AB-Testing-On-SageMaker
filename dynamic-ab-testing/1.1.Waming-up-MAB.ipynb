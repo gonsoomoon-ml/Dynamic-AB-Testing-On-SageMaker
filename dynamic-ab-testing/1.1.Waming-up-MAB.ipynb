{
 "cells": [
  {
   "cell_type": "markdown",
   "id": "89526b75",
   "metadata": {},
   "source": [
    "# [모듈 1.1] Tomson Sampling Test 맛보기\n",
    "\n",
    "\n",
    "---"
   ]
  },
  {
   "cell_type": "markdown",
   "id": "83a35191",
   "metadata": {},
   "source": [
    "# 1. 환경 셋업"
   ]
  },
  {
   "cell_type": "code",
   "execution_count": 15,
   "id": "9f6a3855",
   "metadata": {},
   "outputs": [
    {
     "name": "stdout",
     "output_type": "stream",
     "text": [
      "The autoreload extension is already loaded. To reload it, use:\n",
      "  %reload_ext autoreload\n"
     ]
    }
   ],
   "source": [
    "%load_ext autoreload\n",
    "%autoreload 2"
   ]
  },
  {
   "cell_type": "code",
   "execution_count": 16,
   "id": "cf00645e",
   "metadata": {},
   "outputs": [],
   "source": [
    "import pandas as pd\n",
    "import sys\n",
    "sys.path.append('./api')\n",
    "from api.test_algorithm import test_thompson_sampling, test_thompson_sampling_w_variants"
   ]
  },
  {
   "cell_type": "markdown",
   "id": "d9aba5c7",
   "metadata": {},
   "source": [
    "# 2. 두개의 Variant 리스트 테스트"
   ]
  },
  {
   "cell_type": "code",
   "execution_count": 17,
   "id": "2c432e42",
   "metadata": {},
   "outputs": [],
   "source": [
    "variant_list_1 = [\n",
    "    {\n",
    "        \"variant_name\": \"v1\",\n",
    "        \"invocation_count\": 10,\n",
    "        \"reward_sum\": 1,\n",
    "    },\n",
    "    {\n",
    "        \"variant_name\": \"v2\",\n",
    "        \"invocation_count\": 10,\n",
    "        \"reward_sum\": 2,\n",
    "    },\n",
    "    {\n",
    "        \"variant_name\": \"v3\",\n",
    "        \"invocation_count\": 10,\n",
    "        \"reward_sum\": 5,\n",
    "    },\n",
    "]\n",
    "\n",
    "variant_list_2 = [\n",
    "    {\n",
    "        \"variant_name\": \"v1\",\n",
    "        \"invocation_count\": 10,\n",
    "        \"reward_sum\": 1,\n",
    "    },\n",
    "    {\n",
    "        \"variant_name\": \"v2\",\n",
    "        \"invocation_count\": 10,\n",
    "        \"reward_sum\": 4,\n",
    "    },\n",
    "    {\n",
    "        \"variant_name\": \"v3\",\n",
    "        \"invocation_count\": 10,\n",
    "        \"reward_sum\": 5,\n",
    "    },\n",
    "]\n",
    "\n"
   ]
  },
  {
   "cell_type": "code",
   "execution_count": 20,
   "id": "b13b6563",
   "metadata": {},
   "outputs": [
    {
     "name": "stdout",
     "output_type": "stream",
     "text": [
      "probs per varaint:  [0.03641881539824655, 0.4054745330750433, 0.44436946222197105]\n",
      "probs per varaint:  [0.2463840752180389, 0.24070376299751065, 0.3465976485501081]\n",
      "probs per varaint:  [0.3321829965816494, 0.3844599552098925, 0.5982952158154718]\n",
      "probs per varaint:  [0.16100636708069793, 0.33796897511392626, 0.48245530797210506]\n",
      "probs per varaint:  [0.09351049089645147, 0.37625242413090415, 0.6839656698477586]\n"
     ]
    },
    {
     "data": {
      "text/plain": [
       "v3    5\n",
       "Name: variant, dtype: int64"
      ]
     },
     "execution_count": 20,
     "metadata": {},
     "output_type": "execute_result"
    }
   ],
   "source": [
    "response = test_thompson_sampling_w_variants(variant_list_1, trial=5, verbose=True)\n",
    "df = pd.DataFrame(response, columns=['variant'])\n",
    "df.variant.value_counts()"
   ]
  },
  {
   "cell_type": "code",
   "execution_count": 21,
   "id": "f443215f",
   "metadata": {},
   "outputs": [
    {
     "data": {
      "text/plain": [
       "v3    90\n",
       "v2    10\n",
       "Name: variant, dtype: int64"
      ]
     },
     "execution_count": 21,
     "metadata": {},
     "output_type": "execute_result"
    }
   ],
   "source": [
    "response = test_thompson_sampling_w_variants(variant_list_1, trial=100)\n",
    "df = pd.DataFrame(response, columns=['variant'])\n",
    "df.variant.value_counts()"
   ]
  },
  {
   "cell_type": "code",
   "execution_count": 22,
   "id": "d66b7fdc",
   "metadata": {},
   "outputs": [
    {
     "data": {
      "text/plain": [
       "v3    70\n",
       "v2    30\n",
       "Name: variant, dtype: int64"
      ]
     },
     "execution_count": 22,
     "metadata": {},
     "output_type": "execute_result"
    }
   ],
   "source": [
    "response = test_thompson_sampling_w_variants(variant_list_2, trial=100)\n",
    "df = pd.DataFrame(response, columns=['variant'])\n",
    "df.variant.value_counts()"
   ]
  },
  {
   "cell_type": "code",
   "execution_count": null,
   "id": "7aeed2a2",
   "metadata": {},
   "outputs": [],
   "source": []
  },
  {
   "cell_type": "code",
   "execution_count": null,
   "id": "ef34efd3",
   "metadata": {},
   "outputs": [],
   "source": []
  }
 ],
 "metadata": {
  "kernelspec": {
   "display_name": "conda_python3",
   "language": "python",
   "name": "conda_python3"
  },
  "language_info": {
   "codemirror_mode": {
    "name": "ipython",
    "version": 3
   },
   "file_extension": ".py",
   "mimetype": "text/x-python",
   "name": "python",
   "nbconvert_exporter": "python",
   "pygments_lexer": "ipython3",
   "version": "3.8.12"
  }
 },
 "nbformat": 4,
 "nbformat_minor": 5
}
