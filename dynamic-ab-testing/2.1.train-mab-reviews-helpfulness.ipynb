{
 "cells": [
  {
   "cell_type": "markdown",
   "metadata": {},
   "source": [
    "# [모듈 2.1] 모델 학습, 튜닝 하여 2개의 모델 생성\n",
    "\n",
    "\n",
    "---"
   ]
  },
  {
   "cell_type": "markdown",
   "metadata": {},
   "source": [
    "\n",
    "NLP 라이브러리를 [spacy](https://spacy.io/)  사용하여 텍스트 토큰나이징을 하고 Amazon SageMaker [BlazingText](https://docs.aws.amazon.com/sagemaker/latest/dg/blazingtext) 알고리즘을 사용하여 분류 모델을 학습합니다.\n",
    "\n"
   ]
  },
  {
   "cell_type": "markdown",
   "metadata": {},
   "source": [
    "# 1. 환경 셋업"
   ]
  },
  {
   "cell_type": "code",
   "execution_count": 1,
   "metadata": {},
   "outputs": [],
   "source": [
    "%load_ext autoreload\n",
    "%autoreload 2"
   ]
  },
  {
   "cell_type": "markdown",
   "metadata": {},
   "source": [
    "# 2. 데이터 준비\n",
    "\n"
   ]
  },
  {
   "cell_type": "markdown",
   "metadata": {},
   "source": [
    "## 2.1. 데이터 다운로드\n",
    "아마존 상품 고객 리뷰 [Amazon Customer Reviews](https://s3.amazonaws.com/amazon-reviews-pds/readme.html) 데이터 세트 다운로드"
   ]
  },
  {
   "cell_type": "code",
   "execution_count": 2,
   "metadata": {},
   "outputs": [
    {
     "name": "stdout",
     "output_type": "stream",
     "text": [
      "download: s3://amazon-reviews-pds/tsv/amazon_reviews_us_Electronics_v1_00.tsv.gz to ./reviews.tsv.gz\n"
     ]
    }
   ],
   "source": [
    "!aws s3 cp s3://amazon-reviews-pds/tsv/amazon_reviews_us_Electronics_v1_00.tsv.gz reviews.tsv.gz"
   ]
  },
  {
   "cell_type": "markdown",
   "metadata": {},
   "source": [
    "리뷰를 로드하고 리뷰 제목, 본문 및 별표 평점을 선택합니다(약 30초 소요)."
   ]
  },
  {
   "cell_type": "markdown",
   "metadata": {},
   "source": [
    "## 2.2. 데이터 로딩"
   ]
  },
  {
   "cell_type": "code",
   "execution_count": 3,
   "metadata": {},
   "outputs": [
    {
     "name": "stderr",
     "output_type": "stream",
     "text": [
      "<timed exec>:4: FutureWarning: The error_bad_lines argument has been deprecated and will be removed in a future version. Use on_bad_lines in the future.\n",
      "\n",
      "\n"
     ]
    },
    {
     "name": "stdout",
     "output_type": "stream",
     "text": [
      "<class 'pandas.core.frame.DataFrame'>\n",
      "Int64Index: 3090980 entries, 0 to 3091102\n",
      "Data columns (total 7 columns):\n",
      " #   Column           Dtype \n",
      "---  ------           ----- \n",
      " 0   product_id       object\n",
      " 1   product_title    object\n",
      " 2   star_rating      int64 \n",
      " 3   helpful_votes    int64 \n",
      " 4   total_votes      int64 \n",
      " 5   review_headline  object\n",
      " 6   review_body      object\n",
      "dtypes: int64(3), object(4)\n",
      "memory usage: 188.7+ MB\n",
      "CPU times: user 34.7 s, sys: 2.07 s, total: 36.8 s\n",
      "Wall time: 36 s\n"
     ]
    }
   ],
   "source": [
    "%%time\n",
    "import pandas as pd\n",
    "\n",
    "# Load a sample of the rows\n",
    "df_reviews = pd.read_csv('reviews.tsv.gz', compression='gzip', error_bad_lines=False, #nrows=1000,\n",
    "                         sep='\\t', usecols=['product_id', 'product_title',\n",
    "                                            'review_headline', 'review_body', 'star_rating',\n",
    "                                            'helpful_votes', 'total_votes']).dropna()\n",
    "df_reviews.info()"
   ]
  },
  {
   "cell_type": "code",
   "execution_count": 4,
   "metadata": {},
   "outputs": [
    {
     "data": {
      "text/html": [
       "<div>\n",
       "<style scoped>\n",
       "    .dataframe tbody tr th:only-of-type {\n",
       "        vertical-align: middle;\n",
       "    }\n",
       "\n",
       "    .dataframe tbody tr th {\n",
       "        vertical-align: top;\n",
       "    }\n",
       "\n",
       "    .dataframe thead th {\n",
       "        text-align: right;\n",
       "    }\n",
       "</style>\n",
       "<table border=\"1\" class=\"dataframe\">\n",
       "  <thead>\n",
       "    <tr style=\"text-align: right;\">\n",
       "      <th></th>\n",
       "      <th>product_id</th>\n",
       "      <th>product_title</th>\n",
       "      <th>star_rating</th>\n",
       "      <th>helpful_votes</th>\n",
       "      <th>total_votes</th>\n",
       "      <th>review_headline</th>\n",
       "      <th>review_body</th>\n",
       "    </tr>\n",
       "  </thead>\n",
       "  <tbody>\n",
       "    <tr>\n",
       "      <th>0</th>\n",
       "      <td>B00428R89M</td>\n",
       "      <td>yoomall 5M Antenna WIFI RP-SMA Female to Male ...</td>\n",
       "      <td>5</td>\n",
       "      <td>0</td>\n",
       "      <td>0</td>\n",
       "      <td>Five Stars</td>\n",
       "      <td>As described.</td>\n",
       "    </tr>\n",
       "    <tr>\n",
       "      <th>1</th>\n",
       "      <td>B000068O48</td>\n",
       "      <td>Hosa GPM-103 3.5mm TRS to 1/4\" TRS Adaptor</td>\n",
       "      <td>5</td>\n",
       "      <td>0</td>\n",
       "      <td>0</td>\n",
       "      <td>It works as advertising.</td>\n",
       "      <td>It works as advertising.</td>\n",
       "    </tr>\n",
       "    <tr>\n",
       "      <th>2</th>\n",
       "      <td>B000GGKOG8</td>\n",
       "      <td>Channel Master Titan 2 Antenna Preamplifier</td>\n",
       "      <td>5</td>\n",
       "      <td>1</td>\n",
       "      <td>1</td>\n",
       "      <td>Five Stars</td>\n",
       "      <td>Works pissa</td>\n",
       "    </tr>\n",
       "    <tr>\n",
       "      <th>3</th>\n",
       "      <td>B000NU4OTA</td>\n",
       "      <td>LIMTECH Wall charger + USB Hotsync &amp; Charging ...</td>\n",
       "      <td>1</td>\n",
       "      <td>0</td>\n",
       "      <td>0</td>\n",
       "      <td>One Star</td>\n",
       "      <td>Did not work at all.</td>\n",
       "    </tr>\n",
       "    <tr>\n",
       "      <th>4</th>\n",
       "      <td>B00JOQIO6S</td>\n",
       "      <td>Skullcandy Air Raid Portable Bluetooth Speaker</td>\n",
       "      <td>5</td>\n",
       "      <td>1</td>\n",
       "      <td>1</td>\n",
       "      <td>Overall pleased with the item</td>\n",
       "      <td>Works well. Bass is somewhat lacking but is pr...</td>\n",
       "    </tr>\n",
       "  </tbody>\n",
       "</table>\n",
       "</div>"
      ],
      "text/plain": [
       "   product_id                                      product_title  star_rating  \\\n",
       "0  B00428R89M  yoomall 5M Antenna WIFI RP-SMA Female to Male ...            5   \n",
       "1  B000068O48         Hosa GPM-103 3.5mm TRS to 1/4\" TRS Adaptor            5   \n",
       "2  B000GGKOG8        Channel Master Titan 2 Antenna Preamplifier            5   \n",
       "3  B000NU4OTA  LIMTECH Wall charger + USB Hotsync & Charging ...            1   \n",
       "4  B00JOQIO6S     Skullcandy Air Raid Portable Bluetooth Speaker            5   \n",
       "\n",
       "   helpful_votes  total_votes                review_headline  \\\n",
       "0              0            0                     Five Stars   \n",
       "1              0            0       It works as advertising.   \n",
       "2              1            1                     Five Stars   \n",
       "3              0            0                       One Star   \n",
       "4              1            1  Overall pleased with the item   \n",
       "\n",
       "                                         review_body  \n",
       "0                                      As described.  \n",
       "1                           It works as advertising.  \n",
       "2                                        Works pissa  \n",
       "3                               Did not work at all.  \n",
       "4  Works well. Bass is somewhat lacking but is pr...  "
      ]
     },
     "execution_count": 4,
     "metadata": {},
     "output_type": "execute_result"
    }
   ],
   "source": [
    "df_reviews.head()"
   ]
  },
  {
   "cell_type": "markdown",
   "metadata": {},
   "source": [
    "## 2.3. 피쳐 엔지니어링\n",
    "\n",
    "- 5개 이상의 투표가 있는 리뷰를 필터링\n",
    "- helpful_score 를 생성 합니다.\n",
    "    - helpful_score = helpful_votes / total_votes\n",
    "- 감성 레이블링\n",
    "    - star_rating \n",
    "        - 0-2: Negative\n",
    "        - 3: Neutral\n",
    "        - 4-5: positive"
   ]
  },
  {
   "cell_type": "code",
   "execution_count": 5,
   "metadata": {},
   "outputs": [
    {
     "data": {
      "text/html": [
       "<div>\n",
       "<style scoped>\n",
       "    .dataframe tbody tr th:only-of-type {\n",
       "        vertical-align: middle;\n",
       "    }\n",
       "\n",
       "    .dataframe tbody tr th {\n",
       "        vertical-align: top;\n",
       "    }\n",
       "\n",
       "    .dataframe thead th {\n",
       "        text-align: right;\n",
       "    }\n",
       "</style>\n",
       "<table border=\"1\" class=\"dataframe\">\n",
       "  <thead>\n",
       "    <tr style=\"text-align: right;\">\n",
       "      <th></th>\n",
       "      <th>product_id</th>\n",
       "      <th>product_title</th>\n",
       "      <th>star_rating</th>\n",
       "      <th>helpful_votes</th>\n",
       "      <th>total_votes</th>\n",
       "      <th>review_headline</th>\n",
       "      <th>review_body</th>\n",
       "      <th>helpful_score</th>\n",
       "      <th>sentiment</th>\n",
       "    </tr>\n",
       "  </thead>\n",
       "  <tbody>\n",
       "    <tr>\n",
       "      <th>18</th>\n",
       "      <td>B0045EJY90</td>\n",
       "      <td>TEAC CD-P650-B Compact Disc Player with USB an...</td>\n",
       "      <td>2</td>\n",
       "      <td>4</td>\n",
       "      <td>5</td>\n",
       "      <td>It does not copy CD-R s to USB as advertised ...</td>\n",
       "      <td>It does not copy CD-R s to USB as advertised. ...</td>\n",
       "      <td>0.800000</td>\n",
       "      <td>Negative</td>\n",
       "    </tr>\n",
       "    <tr>\n",
       "      <th>41</th>\n",
       "      <td>B00NG57H4S</td>\n",
       "      <td>Sony MDRZX110 Noise Cancelling Headphones</td>\n",
       "      <td>5</td>\n",
       "      <td>19</td>\n",
       "      <td>23</td>\n",
       "      <td>Great noise cancelling headphones for the price!</td>\n",
       "      <td>Great pair of headphones for the price. If you...</td>\n",
       "      <td>0.826087</td>\n",
       "      <td>Positive</td>\n",
       "    </tr>\n",
       "  </tbody>\n",
       "</table>\n",
       "</div>"
      ],
      "text/plain": [
       "    product_id                                      product_title  \\\n",
       "18  B0045EJY90  TEAC CD-P650-B Compact Disc Player with USB an...   \n",
       "41  B00NG57H4S          Sony MDRZX110 Noise Cancelling Headphones   \n",
       "\n",
       "    star_rating  helpful_votes  total_votes  \\\n",
       "18            2              4            5   \n",
       "41            5             19           23   \n",
       "\n",
       "                                     review_headline  \\\n",
       "18  It does not copy CD-R s to USB as advertised ...   \n",
       "41  Great noise cancelling headphones for the price!   \n",
       "\n",
       "                                          review_body  helpful_score sentiment  \n",
       "18  It does not copy CD-R s to USB as advertised. ...       0.800000  Negative  \n",
       "41  Great pair of headphones for the price. If you...       0.826087  Positive  "
      ]
     },
     "execution_count": 5,
     "metadata": {},
     "output_type": "execute_result"
    }
   ],
   "source": [
    "df_reviews = df_reviews[df_reviews['total_votes'] >= 5]\n",
    "df_reviews['helpful_score'] = df_reviews['helpful_votes'] / df_reviews['total_votes']\n",
    "df_reviews['sentiment'] = pd.cut(df_reviews['star_rating'], bins=[0,2,3,6], labels=['Negative','Nuetral','Positive'])\n",
    "df_reviews.head(2)"
   ]
  },
  {
   "cell_type": "code",
   "execution_count": 6,
   "metadata": {},
   "outputs": [
    {
     "data": {
      "text/html": [
       "<div>\n",
       "<style scoped>\n",
       "    .dataframe tbody tr th:only-of-type {\n",
       "        vertical-align: middle;\n",
       "    }\n",
       "\n",
       "    .dataframe tbody tr th {\n",
       "        vertical-align: top;\n",
       "    }\n",
       "\n",
       "    .dataframe thead th {\n",
       "        text-align: right;\n",
       "    }\n",
       "</style>\n",
       "<table border=\"1\" class=\"dataframe\">\n",
       "  <thead>\n",
       "    <tr style=\"text-align: right;\">\n",
       "      <th></th>\n",
       "      <th>star_rating</th>\n",
       "      <th>helpful_votes</th>\n",
       "      <th>total_votes</th>\n",
       "      <th>helpful_score</th>\n",
       "    </tr>\n",
       "  </thead>\n",
       "  <tbody>\n",
       "    <tr>\n",
       "      <th>count</th>\n",
       "      <td>291168.000000</td>\n",
       "      <td>291168.000000</td>\n",
       "      <td>291168.000000</td>\n",
       "      <td>291168.000000</td>\n",
       "    </tr>\n",
       "    <tr>\n",
       "      <th>mean</th>\n",
       "      <td>3.391341</td>\n",
       "      <td>15.939169</td>\n",
       "      <td>19.677993</td>\n",
       "      <td>0.741840</td>\n",
       "    </tr>\n",
       "    <tr>\n",
       "      <th>std</th>\n",
       "      <td>1.644254</td>\n",
       "      <td>67.884014</td>\n",
       "      <td>70.942305</td>\n",
       "      <td>0.279288</td>\n",
       "    </tr>\n",
       "    <tr>\n",
       "      <th>min</th>\n",
       "      <td>1.000000</td>\n",
       "      <td>0.000000</td>\n",
       "      <td>5.000000</td>\n",
       "      <td>0.000000</td>\n",
       "    </tr>\n",
       "    <tr>\n",
       "      <th>25%</th>\n",
       "      <td>2.000000</td>\n",
       "      <td>4.000000</td>\n",
       "      <td>6.000000</td>\n",
       "      <td>0.600000</td>\n",
       "    </tr>\n",
       "    <tr>\n",
       "      <th>50%</th>\n",
       "      <td>4.000000</td>\n",
       "      <td>7.000000</td>\n",
       "      <td>9.000000</td>\n",
       "      <td>0.833333</td>\n",
       "    </tr>\n",
       "    <tr>\n",
       "      <th>75%</th>\n",
       "      <td>5.000000</td>\n",
       "      <td>13.000000</td>\n",
       "      <td>16.000000</td>\n",
       "      <td>0.968750</td>\n",
       "    </tr>\n",
       "    <tr>\n",
       "      <th>max</th>\n",
       "      <td>5.000000</td>\n",
       "      <td>12786.000000</td>\n",
       "      <td>12944.000000</td>\n",
       "      <td>1.000000</td>\n",
       "    </tr>\n",
       "  </tbody>\n",
       "</table>\n",
       "</div>"
      ],
      "text/plain": [
       "         star_rating  helpful_votes    total_votes  helpful_score\n",
       "count  291168.000000  291168.000000  291168.000000  291168.000000\n",
       "mean        3.391341      15.939169      19.677993       0.741840\n",
       "std         1.644254      67.884014      70.942305       0.279288\n",
       "min         1.000000       0.000000       5.000000       0.000000\n",
       "25%         2.000000       4.000000       6.000000       0.600000\n",
       "50%         4.000000       7.000000       9.000000       0.833333\n",
       "75%         5.000000      13.000000      16.000000       0.968750\n",
       "max         5.000000   12786.000000   12944.000000       1.000000"
      ]
     },
     "execution_count": 6,
     "metadata": {},
     "output_type": "execute_result"
    }
   ],
   "source": [
    "df_reviews.describe()"
   ]
  },
  {
   "cell_type": "markdown",
   "metadata": {},
   "source": [
    "## 2.4. Sentiment 별로 helpful_score 가시화\n",
    "\n",
    "- 감성별로 그룹화된 helpful_score 를 시각0화합니다. \n",
    "- 우리는 높은 helpful_score가 강력한 부정적 또는 긍정적 리뷰와 상관관계가 있음을 검증할 수 있습니다."
   ]
  },
  {
   "cell_type": "code",
   "execution_count": 7,
   "metadata": {},
   "outputs": [
    {
     "data": {
      "text/plain": [
       "<seaborn.axisgrid.FacetGrid at 0x7f1ffde2ba00>"
      ]
     },
     "execution_count": 7,
     "metadata": {},
     "output_type": "execute_result"
    },
    {
     "data": {
      "image/png": "[encoded data removed]",
      "text/plain": [
       "<Figure size 1142.12x360 with 3 Axes>"
      ]
     },
     "metadata": {},
     "output_type": "display_data"
    }
   ],
   "source": [
    "import seaborn as sns\n",
    "import matplotlib.pyplot as plt\n",
    "\n",
    "plt.style.use(\"dark_background\")\n",
    "sns.displot(df_reviews, x='helpful_score', col='sentiment', hue='star_rating', kind='kde', palette='icefire')"
   ]
  },
  {
   "cell_type": "markdown",
   "metadata": {},
   "source": [
    "## 2.5. 최종 데이터 생성\n",
    "### 리뷰 수, helpful votes, total_votes 제품별로 그룹화 합니다.\n"
   ]
  },
  {
   "cell_type": "code",
   "execution_count": 8,
   "metadata": {},
   "outputs": [
    {
     "data": {
      "text/html": [
       "<div>\n",
       "<style scoped>\n",
       "    .dataframe tbody tr th:only-of-type {\n",
       "        vertical-align: middle;\n",
       "    }\n",
       "\n",
       "    .dataframe tbody tr th {\n",
       "        vertical-align: top;\n",
       "    }\n",
       "\n",
       "    .dataframe thead th {\n",
       "        text-align: right;\n",
       "    }\n",
       "</style>\n",
       "<table border=\"1\" class=\"dataframe\">\n",
       "  <thead>\n",
       "    <tr style=\"text-align: right;\">\n",
       "      <th></th>\n",
       "      <th>product_id</th>\n",
       "      <th>helpful_votes</th>\n",
       "      <th>total_votes</th>\n",
       "    </tr>\n",
       "    <tr>\n",
       "      <th>product_id</th>\n",
       "      <th></th>\n",
       "      <th></th>\n",
       "      <th></th>\n",
       "    </tr>\n",
       "  </thead>\n",
       "  <tbody>\n",
       "    <tr>\n",
       "      <th>0141186178</th>\n",
       "      <td>1</td>\n",
       "      <td>15</td>\n",
       "      <td>16</td>\n",
       "    </tr>\n",
       "    <tr>\n",
       "      <th>043964383X</th>\n",
       "      <td>1</td>\n",
       "      <td>4</td>\n",
       "      <td>9</td>\n",
       "    </tr>\n",
       "    <tr>\n",
       "      <th>0511189877</th>\n",
       "      <td>3</td>\n",
       "      <td>29</td>\n",
       "      <td>31</td>\n",
       "    </tr>\n",
       "    <tr>\n",
       "      <th>0528881469</th>\n",
       "      <td>11</td>\n",
       "      <td>241</td>\n",
       "      <td>268</td>\n",
       "    </tr>\n",
       "    <tr>\n",
       "      <th>0594451647</th>\n",
       "      <td>4</td>\n",
       "      <td>11</td>\n",
       "      <td>22</td>\n",
       "    </tr>\n",
       "    <tr>\n",
       "      <th>...</th>\n",
       "      <td>...</td>\n",
       "      <td>...</td>\n",
       "      <td>...</td>\n",
       "    </tr>\n",
       "    <tr>\n",
       "      <th>B013UBL9M8</th>\n",
       "      <td>3</td>\n",
       "      <td>63</td>\n",
       "      <td>63</td>\n",
       "    </tr>\n",
       "    <tr>\n",
       "      <th>B013UNH0EM</th>\n",
       "      <td>1</td>\n",
       "      <td>4</td>\n",
       "      <td>7</td>\n",
       "    </tr>\n",
       "    <tr>\n",
       "      <th>B013Y156PU</th>\n",
       "      <td>2</td>\n",
       "      <td>11</td>\n",
       "      <td>13</td>\n",
       "    </tr>\n",
       "    <tr>\n",
       "      <th>B014399GTO</th>\n",
       "      <td>1</td>\n",
       "      <td>12</td>\n",
       "      <td>14</td>\n",
       "    </tr>\n",
       "    <tr>\n",
       "      <th>B0148NPHO8</th>\n",
       "      <td>1</td>\n",
       "      <td>2</td>\n",
       "      <td>15</td>\n",
       "    </tr>\n",
       "  </tbody>\n",
       "</table>\n",
       "<p>52376 rows × 3 columns</p>\n",
       "</div>"
      ],
      "text/plain": [
       "            product_id  helpful_votes  total_votes\n",
       "product_id                                        \n",
       "0141186178           1             15           16\n",
       "043964383X           1              4            9\n",
       "0511189877           3             29           31\n",
       "0528881469          11            241          268\n",
       "0594451647           4             11           22\n",
       "...                ...            ...          ...\n",
       "B013UBL9M8           3             63           63\n",
       "B013UNH0EM           1              4            7\n",
       "B013Y156PU           2             11           13\n",
       "B014399GTO           1             12           14\n",
       "B0148NPHO8           1              2           15\n",
       "\n",
       "[52376 rows x 3 columns]"
      ]
     },
     "execution_count": 8,
     "metadata": {},
     "output_type": "execute_result"
    }
   ],
   "source": [
    "df_votes =  df_reviews.groupby('product_id').agg({'product_id': 'count', 'helpful_votes': 'sum', 'total_votes': 'sum'})\n",
    "df_votes"
   ]
  },
  {
   "cell_type": "markdown",
   "metadata": {},
   "source": [
    "### 필터링\n",
    "- 최소 1개의 리뷰와 최소 5개의 helpful_votes 가 있는 제품을 필터링합니다."
   ]
  },
  {
   "cell_type": "code",
   "execution_count": 9,
   "metadata": {},
   "outputs": [],
   "source": [
    "min_reviews = 1\n",
    "min_helpful = 5\n",
    "df_votes = df_votes[(df_votes['product_id']>=min_reviews) & (df_votes['helpful_votes']>=min_helpful)]"
   ]
  },
  {
   "cell_type": "markdown",
   "metadata": {},
   "source": [
    "### 기존 리뷰와 머지하여 새로운 리뷰 데이터를 생성"
   ]
  },
  {
   "cell_type": "code",
   "execution_count": 10,
   "metadata": {},
   "outputs": [
    {
     "name": "stdout",
     "output_type": "stream",
     "text": [
      "<class 'pandas.core.frame.DataFrame'>\n",
      "Int64Index: 284509 entries, 18 to 3091057\n",
      "Data columns (total 12 columns):\n",
      " #   Column               Non-Null Count   Dtype   \n",
      "---  ------               --------------   -----   \n",
      " 0   product_id           284509 non-null  object  \n",
      " 1   product_title        284509 non-null  object  \n",
      " 2   star_rating          284509 non-null  int64   \n",
      " 3   helpful_votes        284509 non-null  int64   \n",
      " 4   total_votes          284509 non-null  int64   \n",
      " 5   review_headline      284509 non-null  object  \n",
      " 6   review_body          284509 non-null  object  \n",
      " 7   helpful_score        284509 non-null  float64 \n",
      " 8   sentiment            284509 non-null  category\n",
      " 9   product_id_total     284509 non-null  int64   \n",
      " 10  helpful_votes_total  284509 non-null  int64   \n",
      " 11  total_votes_total    284509 non-null  int64   \n",
      "dtypes: category(1), float64(1), int64(6), object(4)\n",
      "memory usage: 26.3+ MB\n"
     ]
    }
   ],
   "source": [
    "df_reviews = df_reviews.merge(df_votes, how='inner', left_on='product_id', right_index=True, suffixes=('','_total'))\n",
    "df_reviews.info()"
   ]
  },
  {
   "cell_type": "markdown",
   "metadata": {},
   "source": [
    "### is_helpful 50%가 되도록 helpful_score 컷오프(예: 0.80) 를 선택\n",
    "- 즉 is_helpful== True 인 것이 50% 이상이 되도록 helpful_score 조절 "
   ]
  },
  {
   "cell_type": "code",
   "execution_count": 11,
   "metadata": {},
   "outputs": [
    {
     "name": "stdout",
     "output_type": "stream",
     "text": [
      "is_helpful: True --> 157859 , total # of is_helpful:  284509\n",
      "is_helpful rate: 0.5548\n"
     ]
    }
   ],
   "source": [
    "df_reviews['is_helpful'] = (df_reviews['helpful_score'] > 0.80)\n",
    "print(f\"is_helpful: True --> {df_reviews['is_helpful'].sum()} , total # of is_helpful:  {df_reviews['is_helpful'].count()}\")\n",
    "print(f\"is_helpful rate: {round(df_reviews['is_helpful'].sum()/df_reviews['is_helpful'].count(),4)}\")"
   ]
  },
  {
   "cell_type": "markdown",
   "metadata": {},
   "source": [
    "### 최종 리뷰 테이터"
   ]
  },
  {
   "cell_type": "code",
   "execution_count": 12,
   "metadata": {},
   "outputs": [
    {
     "data": {
      "text/html": [
       "<div>\n",
       "<style scoped>\n",
       "    .dataframe tbody tr th:only-of-type {\n",
       "        vertical-align: middle;\n",
       "    }\n",
       "\n",
       "    .dataframe tbody tr th {\n",
       "        vertical-align: top;\n",
       "    }\n",
       "\n",
       "    .dataframe thead th {\n",
       "        text-align: right;\n",
       "    }\n",
       "</style>\n",
       "<table border=\"1\" class=\"dataframe\">\n",
       "  <thead>\n",
       "    <tr style=\"text-align: right;\">\n",
       "      <th></th>\n",
       "      <th>product_id</th>\n",
       "      <th>product_title</th>\n",
       "      <th>star_rating</th>\n",
       "      <th>helpful_votes</th>\n",
       "      <th>total_votes</th>\n",
       "      <th>review_headline</th>\n",
       "      <th>review_body</th>\n",
       "      <th>helpful_score</th>\n",
       "      <th>sentiment</th>\n",
       "      <th>product_id_total</th>\n",
       "      <th>helpful_votes_total</th>\n",
       "      <th>total_votes_total</th>\n",
       "      <th>is_helpful</th>\n",
       "    </tr>\n",
       "  </thead>\n",
       "  <tbody>\n",
       "    <tr>\n",
       "      <th>18</th>\n",
       "      <td>B0045EJY90</td>\n",
       "      <td>TEAC CD-P650-B Compact Disc Player with USB an...</td>\n",
       "      <td>2</td>\n",
       "      <td>4</td>\n",
       "      <td>5</td>\n",
       "      <td>It does not copy CD-R s to USB as advertised ...</td>\n",
       "      <td>It does not copy CD-R s to USB as advertised. ...</td>\n",
       "      <td>0.8</td>\n",
       "      <td>Negative</td>\n",
       "      <td>48</td>\n",
       "      <td>783</td>\n",
       "      <td>1088</td>\n",
       "      <td>False</td>\n",
       "    </tr>\n",
       "    <tr>\n",
       "      <th>43374</th>\n",
       "      <td>B0045EJY90</td>\n",
       "      <td>TEAC CD-P650-B Compact Disc Player with USB an...</td>\n",
       "      <td>5</td>\n",
       "      <td>8</td>\n",
       "      <td>8</td>\n",
       "      <td>this Unit (TEAC CD-P650-B) is excellent. It is...</td>\n",
       "      <td>For my purposes, this Unit (TEAC CD-P650-B) is...</td>\n",
       "      <td>1.0</td>\n",
       "      <td>Positive</td>\n",
       "      <td>48</td>\n",
       "      <td>783</td>\n",
       "      <td>1088</td>\n",
       "      <td>True</td>\n",
       "    </tr>\n",
       "  </tbody>\n",
       "</table>\n",
       "</div>"
      ],
      "text/plain": [
       "       product_id                                      product_title  \\\n",
       "18     B0045EJY90  TEAC CD-P650-B Compact Disc Player with USB an...   \n",
       "43374  B0045EJY90  TEAC CD-P650-B Compact Disc Player with USB an...   \n",
       "\n",
       "       star_rating  helpful_votes  total_votes  \\\n",
       "18               2              4            5   \n",
       "43374            5              8            8   \n",
       "\n",
       "                                         review_headline  \\\n",
       "18      It does not copy CD-R s to USB as advertised ...   \n",
       "43374  this Unit (TEAC CD-P650-B) is excellent. It is...   \n",
       "\n",
       "                                             review_body  helpful_score  \\\n",
       "18     It does not copy CD-R s to USB as advertised. ...            0.8   \n",
       "43374  For my purposes, this Unit (TEAC CD-P650-B) is...            1.0   \n",
       "\n",
       "      sentiment  product_id_total  helpful_votes_total  total_votes_total  \\\n",
       "18     Negative                48                  783               1088   \n",
       "43374  Positive                48                  783               1088   \n",
       "\n",
       "       is_helpful  \n",
       "18          False  \n",
       "43374        True  "
      ]
     },
     "execution_count": 12,
     "metadata": {},
     "output_type": "execute_result"
    }
   ],
   "source": [
    "df_reviews.head(2)"
   ]
  },
  {
   "cell_type": "markdown",
   "metadata": {},
   "source": [
    "## 2.6. Train/Test 분리\n",
    "\n",
    "데이터 세트를 훈련(90%) / 검증(5%) / 테스트(5%)로 분할하고 파일 로컬 파일에 저장합니다."
   ]
  },
  {
   "cell_type": "code",
   "execution_count": 13,
   "metadata": {},
   "outputs": [
    {
     "name": "stdout",
     "output_type": "stream",
     "text": [
      "split train: 256058, val: 14225, test: 14226 \n"
     ]
    }
   ],
   "source": [
    "from sklearn.model_selection import train_test_split\n",
    "\n",
    "train_df, val_df = train_test_split(df_reviews, test_size=0.1, random_state=42) \n",
    "val_df, test_df = train_test_split(val_df, test_size=0.5, random_state=42)\n",
    "print('split train: {}, val: {}, test: {} '.format(train_df.shape[0], val_df.shape[0], test_df.shape[0]))"
   ]
  },
  {
   "cell_type": "markdown",
   "metadata": {},
   "source": [
    "평가를 위해 테스트 데이터 세트 저장"
   ]
  },
  {
   "cell_type": "code",
   "execution_count": 14,
   "metadata": {},
   "outputs": [],
   "source": [
    "test_df.to_csv('test.csv', index=False, header=True)"
   ]
  },
  {
   "cell_type": "markdown",
   "metadata": {},
   "source": [
    "## 2.7. blazing text 알고리즘에 맞게 데이터 포맷 수정\n",
    "데이터 세트에서 blazing text 레이블 및 토큰화된 텍스트를 출력하는 함수 정의"
   ]
  },
  {
   "cell_type": "code",
   "execution_count": 15,
   "metadata": {},
   "outputs": [],
   "source": [
    "from spacy.lang.en import English\n",
    "\n",
    "index_to_label = {0: 'NotHelpful', 1: 'Helpful'} \n",
    "nlp = English()\n",
    "tokenizer = nlp.tokenizer\n",
    "\n",
    "def labelize_df(df):\n",
    "    return '__label__' + df['is_helpful'].apply(lambda is_helpful: index_to_label[is_helpful])\n",
    "\n",
    "def tokenize_sent(sent, max_length=1000):\n",
    "    return ' '.join([token.text for token in tokenizer(sent)])[:max_length]\n",
    "\n",
    "def tokenize_df(df):\n",
    "    return (df['review_headline'].apply(tokenize_sent) + ' ' + \n",
    "            df['review_body'].apply(tokenize_sent))"
   ]
  },
  {
   "cell_type": "markdown",
   "metadata": {},
   "source": [
    "레이블화 및 토큰화 출력 테스트"
   ]
  },
  {
   "cell_type": "code",
   "execution_count": 16,
   "metadata": {},
   "outputs": [
    {
     "data": {
      "text/plain": [
       "2939355    __label__NotHelpful Fantastic speakers ; easy ...\n",
       "2842286    __label__Helpful Handy Gadget , 3 Easy questio...\n",
       "3062835    __label__NotHelpful Good player , bad software...\n",
       "dtype: object"
      ]
     },
     "execution_count": 16,
     "metadata": {},
     "output_type": "execute_result"
    }
   ],
   "source": [
    "labelize_df(train_df.head(3)) + ' ' + tokenize_df(train_df.head(3))"
   ]
  },
  {
   "cell_type": "markdown",
   "metadata": {},
   "source": [
    "### 레이블 토큰 형태로 데이터 생성\n",
    "레이블과 토큰을 연결하여 판다 시리즈 데이터를 생성 합니다. (소요 시간: 2분 이내)\n"
   ]
  },
  {
   "cell_type": "code",
   "execution_count": 17,
   "metadata": {},
   "outputs": [
    {
     "name": "stdout",
     "output_type": "stream",
     "text": [
      "CPU times: user 2min 26s, sys: 496 ms, total: 2min 26s\n",
      "Wall time: 2min 26s\n"
     ]
    }
   ],
   "source": [
    "%%time\n",
    "train_text = labelize_df(train_df) + ' ' + tokenize_df(train_df)\n",
    "val_text = labelize_df(val_df) + ' ' + tokenize_df(val_df)"
   ]
  },
  {
   "cell_type": "markdown",
   "metadata": {},
   "source": [
    "### 로컬에 저장\n",
    "헤더나 인덱스 없이 토큰화된 팬더 시리즈를 텍스트로 저장"
   ]
  },
  {
   "cell_type": "code",
   "execution_count": 18,
   "metadata": {},
   "outputs": [
    {
     "name": "stdout",
     "output_type": "stream",
     "text": [
      "CPU times: user 3.36 s, sys: 148 ms, total: 3.51 s\n",
      "Wall time: 3.51 s\n"
     ]
    }
   ],
   "source": [
    "%%time\n",
    "train_text.to_csv('train.txt', index=False, header=False)\n",
    "val_text.to_csv('validation.txt', index=False, header=False)"
   ]
  },
  {
   "cell_type": "markdown",
   "metadata": {},
   "source": [
    "## 2.8. S3 에 업로드 \n",
    "\n"
   ]
  },
  {
   "cell_type": "code",
   "execution_count": 19,
   "metadata": {},
   "outputs": [],
   "source": [
    "import sagemaker\n",
    "\n",
    "# Get the session and default bucket\n",
    "role = sagemaker.get_execution_role()\n",
    "session = sagemaker.session.Session()\n",
    "bucket = session.default_bucket()\n",
    "\n",
    "# Set the prefix for this dataset\n",
    "prefix = 'mab-reviews-helpfulness'\n",
    "\n",
    "s3_train_uri = session.upload_data('train.txt', bucket, prefix + '/data/training')\n",
    "s3_val_uri = session.upload_data('validation.txt', bucket, prefix + '/data/validation')\n",
    "s3_output_location = 's3://{}/{}/output'.format(bucket, prefix)"
   ]
  },
  {
   "cell_type": "markdown",
   "metadata": {},
   "source": [
    "# 3. 모델 훈련 (Champion 모델 생성)"
   ]
  },
  {
   "cell_type": "code",
   "execution_count": 20,
   "metadata": {},
   "outputs": [],
   "source": [
    "training_instance_type = \"ml.c5.4xlarge\"\n",
    "training_instance_count = 1"
   ]
  },
  {
   "cell_type": "code",
   "execution_count": 21,
   "metadata": {},
   "outputs": [],
   "source": [
    "import boto3\n",
    "from sagemaker.estimator import Estimator\n",
    "\n",
    "region_name = boto3.Session().region_name\n",
    "image_uri = sagemaker.image_uris.retrieve(\"blazingtext\", region_name)\n",
    "\n",
    "estimator = Estimator(image_uri=image_uri,\n",
    "                      role=role, \n",
    "                      instance_count=training_instance_count, # Param\n",
    "                      instance_type=training_instance_type, # Param\n",
    "                      volume_size = 30,\n",
    "                      max_run = 360000,\n",
    "                      input_mode= 'File',\n",
    "                      output_path=s3_output_location,\n",
    "                      sagemaker_session=session)\n",
    "\n",
    "estimator.set_hyperparameters(mode=\"supervised\",\n",
    "                              epochs=10,\n",
    "                              min_epochs=5, # Min epochs before early stopping is introduced\n",
    "                              early_stopping=True,\n",
    "                              patience=2,\n",
    "                              learning_rate=0.01,\n",
    "                              min_count=2, # words that appear less than min_count are discarded \n",
    "                              word_ngrams=1, # the number of word n-gram features to use.\n",
    "                              vector_dim=16, # dimensions of embedding layer\n",
    "                              )"
   ]
  },
  {
   "cell_type": "code",
   "execution_count": 22,
   "metadata": {},
   "outputs": [],
   "source": [
    "inputs={\n",
    "    \"train\": s3_train_uri,\n",
    "    \"validation\": s3_val_uri\n",
    "}\n",
    "estimator.fit(inputs, wait=False)"
   ]
  },
  {
   "cell_type": "code",
   "execution_count": 23,
   "metadata": {
    "scrolled": true
   },
   "outputs": [
    {
     "name": "stdout",
     "output_type": "stream",
     "text": [
      "2022-04-17 12:00:31 Starting - Starting the training job...ProfilerReport-1650196831: InProgress\n",
      "...\n",
      "2022-04-17 12:01:12 Starting - Preparing the instances for training......\n",
      "2022-04-17 12:02:28 Downloading - Downloading input data...\n",
      "2022-04-17 12:03:01 Training - Training image download completed. Training in progress..\u001b[34mArguments: train\u001b[0m\n",
      "\u001b[34m[04/17/2022 12:03:03 WARNING 140191350990656] Loggers have already been setup.\u001b[0m\n",
      "\u001b[34m[04/17/2022 12:03:03 WARNING 140191350990656] Loggers have already been setup.\u001b[0m\n",
      "\u001b[34m[04/17/2022 12:03:03 INFO 140191350990656] nvidia-smi took: 0.025166988372802734 secs to identify 0 gpus\u001b[0m\n",
      "\u001b[34m[04/17/2022 12:03:03 INFO 140191350990656] Running single machine CPU BlazingText training using supervised mode.\u001b[0m\n",
      "\u001b[34mNumber of CPU sockets found in instance is  1\u001b[0m\n",
      "\u001b[34m[04/17/2022 12:03:03 INFO 140191350990656] Processing /opt/ml/input/data/train/train.txt . File size: 162.49529361724854 MB\u001b[0m\n",
      "\u001b[34m[04/17/2022 12:03:03 INFO 140191350990656] Processing /opt/ml/input/data/validation/validation.txt . File size: 9.079479217529297 MB\u001b[0m\n",
      "\u001b[34mRead 10M words\u001b[0m\n",
      "\u001b[34mRead 20M words\u001b[0m\n",
      "\u001b[34mRead 30M words\u001b[0m\n",
      "\u001b[34mRead 34M words\u001b[0m\n",
      "\u001b[34mNumber of words:  130567\u001b[0m\n",
      "\u001b[34mLoading validation data from /opt/ml/input/data/validation/validation.txt\u001b[0m\n",
      "\u001b[34mLoaded validation data.\u001b[0m\n",
      "\u001b[34m-------------- End of epoch: 1\u001b[0m\n",
      "\u001b[34m##### Alpha: 0.0082  Progress: 17.69%  Million Words/sec: 142.40 #####\u001b[0m\n",
      "\u001b[34m-------------- End of epoch: 2\u001b[0m\n",
      "\u001b[34m##### Alpha: 0.0074  Progress: 26.32%  Million Words/sec: 143.86 #####\u001b[0m\n",
      "\u001b[34m-------------- End of epoch: 3\u001b[0m\n",
      "\u001b[34m##### Alpha: 0.0065  Progress: 35.05%  Million Words/sec: 144.95 #####\u001b[0m\n",
      "\u001b[34m##### Alpha: 0.0056  Progress: 43.79%  Million Words/sec: 145.54 #####\u001b[0m\n",
      "\u001b[34m-------------- End of epoch: 4\u001b[0m\n",
      "\u001b[34m##### Alpha: 0.0047  Progress: 52.53%  Million Words/sec: 146.04 #####\u001b[0m\n",
      "\u001b[34m-------------- End of epoch: 5\u001b[0m\n",
      "\u001b[34mUsing 16 threads for prediction!\u001b[0m\n",
      "\u001b[34mValidation accuracy: 0.661322\u001b[0m\n",
      "\u001b[34mValidation accuracy improved! Storing best weights...\u001b[0m\n",
      "\u001b[34m##### Alpha: 0.0040  Progress: 59.84%  Million Words/sec: 132.64 #####\u001b[0m\n",
      "\u001b[34m-------------- End of epoch: 6\u001b[0m\n",
      "\u001b[34mUsing 16 threads for prediction!\u001b[0m\n",
      "\u001b[34mValidation accuracy: 0.661322\u001b[0m\n",
      "\u001b[34mValidation accuracy has not improved for last 1 epochs.\u001b[0m\n",
      "\u001b[34m##### Alpha: 0.0033  Progress: 67.17%  Million Words/sec: 123.66 #####\u001b[0m\n",
      "\u001b[34m-------------- End of epoch: 7\u001b[0m\n",
      "\u001b[34mUsing 16 threads for prediction!\u001b[0m\n",
      "\u001b[34mValidation accuracy: 0.663277\u001b[0m\n",
      "\u001b[34mValidation accuracy improved! Storing best weights...\u001b[0m\n",
      "\u001b[34m##### Alpha: 0.0026  Progress: 73.97%  Million Words/sec: 116.81 #####\u001b[0m\n",
      "\u001b[34m##### Alpha: 0.0017  Progress: 82.70%  Million Words/sec: 119.52 #####\u001b[0m\n",
      "\u001b[34m-------------- End of epoch: 8\u001b[0m\n",
      "\u001b[34mUsing 16 threads for prediction!\u001b[0m\n",
      "\u001b[34mValidation accuracy: 0.662104\u001b[0m\n",
      "\u001b[34mValidation accuracy has not improved for last 1 epochs.\u001b[0m\n",
      "\u001b[34m##### Alpha: 0.0010  Progress: 90.36%  Million Words/sec: 115.26 #####\u001b[0m\n",
      "\u001b[34m-------------- End of epoch: 9\u001b[0m\n",
      "\u001b[34mUsing 16 threads for prediction!\u001b[0m\n",
      "\u001b[34mValidation accuracy: 0.662104\u001b[0m\n",
      "\u001b[34mValidation accuracy has not improved for last 2 epochs.\u001b[0m\n",
      "\u001b[34mReached patience. Terminating training.\u001b[0m\n",
      "\u001b[34mBest epoch: 7\u001b[0m\n",
      "\u001b[34mBest validation accuracy: 0.663277\u001b[0m\n",
      "\u001b[34m##### Alpha: 0.0000  Progress: 100.00%  Million Words/sec: 122.89 #####\u001b[0m\n",
      "\u001b[34mTraining finished.\u001b[0m\n",
      "\u001b[34mAverage throughput in Million words/sec: 122.89\u001b[0m\n",
      "\u001b[34mTotal training time in seconds: 2.78\u001b[0m\n",
      "\u001b[34m#train_accuracy: 0.6879\u001b[0m\n",
      "\u001b[34mNumber of train examples: 46687\u001b[0m\n",
      "\u001b[34m#validation_accuracy: 0.6633\u001b[0m\n",
      "\u001b[34mNumber of validation examples: 14225\u001b[0m\n",
      "\n",
      "2022-04-17 12:03:32 Uploading - Uploading generated training model\n",
      "2022-04-17 12:03:32 Completed - Training job completed\n",
      "Training seconds: 73\n",
      "Billable seconds: 73\n",
      "CPU times: user 362 ms, sys: 20.4 ms, total: 382 ms\n",
      "Wall time: 3min 11s\n"
     ]
    }
   ],
   "source": [
    "%%time\n",
    "estimator.logs()"
   ]
  },
  {
   "cell_type": "code",
   "execution_count": 24,
   "metadata": {},
   "outputs": [],
   "source": [
    "# champion_train_job = estimator.latest_training_job.job_name\n",
    "# champion_train_job"
   ]
  },
  {
   "cell_type": "markdown",
   "metadata": {},
   "source": [
    "# 4. 모델 튜닝 (Challenger 모델 생성) \n",
    "\n",
    "튜닝 작업을 실행하여 정확도를 최대화하는 매개변수를 찾고 모델 성능을 높여 보겠습니다.\n",
    "\n",
    "### Setup Hyperparamter Tuning\n",
    "\n"
   ]
  },
  {
   "cell_type": "code",
   "execution_count": 25,
   "metadata": {},
   "outputs": [
    {
     "name": "stdout",
     "output_type": "stream",
     "text": [
      "Using container: 811284229777.dkr.ecr.us-east-1.amazonaws.com/blazingtext:1\n"
     ]
    }
   ],
   "source": [
    "import boto3\n",
    "from sagemaker.estimator import Estimator\n",
    "from sagemaker.inputs import TrainingInput\n",
    "from sagemaker.tuner import IntegerParameter, CategoricalParameter, ContinuousParameter, HyperparameterTuner\n",
    "\n",
    "region_name = boto3.Session().region_name\n",
    "image_uri = sagemaker.image_uris.retrieve(\"blazingtext\", region_name)\n",
    "print(f'Using container: {image_uri}')\n",
    "\n",
    "tune_estimator = Estimator(image_uri,\n",
    "                      role, \n",
    "                      instance_count=1, \n",
    "                      instance_type='ml.c5.4xlarge',\n",
    "                      volume_size = 30,\n",
    "                      max_run = 360000,\n",
    "                      input_mode= 'File',\n",
    "                      output_path=s3_output_location,\n",
    "                      sagemaker_session=session)\n",
    "\n",
    "tune_estimator.set_hyperparameters(mode=\"supervised\",\n",
    "                              epochs=10,\n",
    "                              min_epochs=5, # Min epochs before early stopping is introduced\n",
    "                              early_stopping=False,\n",
    "                              learning_rate=0.01,\n",
    "                              min_count=2, # words that appear less than min_count are discarded \n",
    "                              word_ngrams=1, # the number of word n-gram features to use.\n",
    "                              vector_dim=32, # dimensions of embedding layer\n",
    "                             )"
   ]
  },
  {
   "cell_type": "markdown",
   "metadata": {},
   "source": [
    "다음을 사용하여 Amazon SageMaker BlazingText 텍스트 분류 모델을 조정합니다. [hyperparameters](https://docs.aws.amazon.com/sagemaker/latest/dg/blazingtext-tuning.html).\n",
    "\n",
    "\n",
    "| Parameter Name | Parameter Type | Recommended Ranges or Values | \n",
    "| --- | --- | --- | \n",
    "| buckets |  `IntegerParameterRange`  |  \\[1000000\\-10000000\\]  | \n",
    "| epochs |  `IntegerParameterRange`  |  \\[5\\-15\\]  | \n",
    "| learning\\_rate |  `ContinuousParameterRange`  |  MinValue: 0\\.005, MaxValue: 0\\.01  | \n",
    "| min\\_count |  `IntegerParameterRange`  |  \\[0\\-100\\]  | \n",
    "| mode |  `CategoricalParameterRange`  |  \\[`'supervised'`\\]  | \n",
    "| vector\\_dim |  `IntegerParameterRange`  |  \\[32\\-300\\]  | \n",
    "| word\\_ngrams |  `IntegerParameterRange`  |  \\[1\\-3\\]  | "
   ]
  },
  {
   "cell_type": "code",
   "execution_count": 26,
   "metadata": {},
   "outputs": [],
   "source": [
    "hyperparameter_ranges = {'epochs': IntegerParameter(5, 50),\n",
    "                        'learning_rate': ContinuousParameter(0.005, 0.01),\n",
    "                        'min_count': IntegerParameter(0, 100),\n",
    "                        'vector_dim': ContinuousParameter(1, 10),\n",
    "                        'word_ngrams': IntegerParameter(1, 3),\n",
    "                        'vector_dim': IntegerParameter(32, 300)}"
   ]
  },
  {
   "cell_type": "markdown",
   "metadata": {},
   "source": [
    "이제 'HyperparameterTuner' 개체를 만들어 전달합니다.\n",
    "\n",
    "* 위에서 생성한 'BlazingText' estimator\n",
    "* 하이퍼파라미터 범위\n",
    "* 목표 메트릭 이름 및 정의\n",
    "\n",
    "총 실행할 학습 작업 수 및 병렬로 실행할 수 있는 학습 작업 수와 같은 리소스 구성을 조정합니다."
   ]
  },
  {
   "cell_type": "code",
   "execution_count": 27,
   "metadata": {},
   "outputs": [],
   "source": [
    "max_jobs = 12\n",
    "objective_name = 'validation:accuracy'\n",
    "tuner = HyperparameterTuner(tune_estimator, \n",
    "                            objective_name,\n",
    "                            hyperparameter_ranges,\n",
    "                            # tags=project_tags,\n",
    "                            max_jobs=max_jobs,\n",
    "                            max_parallel_jobs=3)"
   ]
  },
  {
   "cell_type": "markdown",
   "metadata": {},
   "source": [
    "### 튜닝 시작\n",
    "\n",
    "이제 `fit()` 함수를 호출하여 하이퍼파라미터 튜닝 작업을 시작할 수 있습니다. 하이퍼파라미터 조정 작업이 생성된 후 SageMaker 콘솔로 이동하여 완료될 때까지 초매개변수 조정 작업의 진행 상황을 추적할 수 있습니다(약 30분 소요)."
   ]
  },
  {
   "cell_type": "code",
   "execution_count": 28,
   "metadata": {},
   "outputs": [],
   "source": [
    "input_train = TrainingInput(s3_data=s3_train_uri, content_type=\"text/plain\")\n",
    "input_val = TrainingInput(s3_data=s3_val_uri, content_type=\"text/plain\")\n",
    "data_channels = {'train': input_train, 'validation': input_val}\n",
    "\n",
    "tuner.fit(inputs=data_channels, wait=False)"
   ]
  },
  {
   "cell_type": "code",
   "execution_count": 29,
   "metadata": {},
   "outputs": [
    {
     "name": "stdout",
     "output_type": "stream",
     "text": [
      "............................................................................................................................................................................................................................................................!\n",
      "CPU times: user 1.03 s, sys: 77.7 ms, total: 1.11 s\n",
      "Wall time: 21min 13s\n"
     ]
    }
   ],
   "source": [
    "%%time\n",
    "\n",
    "tuner.wait()"
   ]
  },
  {
   "cell_type": "markdown",
   "metadata": {},
   "source": [
    "하이퍼파라미터 조정 작업 상태를 빠르게 확인하여 성공적으로 시작되었는지 확인하겠습니다."
   ]
  },
  {
   "cell_type": "code",
   "execution_count": 30,
   "metadata": {},
   "outputs": [],
   "source": [
    "import boto3 \n",
    "from botocore.config import Config\n",
    "\n",
    "# Create SageMaker client with up to 10 retries\n",
    "config = Config(retries={\"max_attempts\": 10, \"mode\": \"standard\"})\n",
    "sm_client = boto3.client('sagemaker', config=config)"
   ]
  },
  {
   "cell_type": "code",
   "execution_count": 31,
   "metadata": {},
   "outputs": [],
   "source": [
    "job_name = tuner.latest_tuning_job.job_name\n",
    "tuning_job_status = sm_client.describe_hyper_parameter_tuning_job(\n",
    "    HyperParameterTuningJobName=job_name)['HyperParameterTuningJobStatus']\n",
    "if tuning_job_status != 'Completed':\n",
    "    raise Exception(f'Tuning Jobs status is {tuning_job_status}')"
   ]
  },
  {
   "cell_type": "markdown",
   "metadata": {},
   "source": [
    "## 튜닝 작업 분석\n",
    "\n",
    "목표 메트릭별로 정렬된 교육 작업의 상위 목록을 가져옵니다."
   ]
  },
  {
   "cell_type": "code",
   "execution_count": 32,
   "metadata": {},
   "outputs": [
    {
     "data": {
      "text/html": [
       "<div>\n",
       "<style scoped>\n",
       "    .dataframe tbody tr th:only-of-type {\n",
       "        vertical-align: middle;\n",
       "    }\n",
       "\n",
       "    .dataframe tbody tr th {\n",
       "        vertical-align: top;\n",
       "    }\n",
       "\n",
       "    .dataframe thead th {\n",
       "        text-align: right;\n",
       "    }\n",
       "</style>\n",
       "<table border=\"1\" class=\"dataframe\">\n",
       "  <thead>\n",
       "    <tr style=\"text-align: right;\">\n",
       "      <th></th>\n",
       "      <th>epochs</th>\n",
       "      <th>learning_rate</th>\n",
       "      <th>min_count</th>\n",
       "      <th>vector_dim</th>\n",
       "      <th>word_ngrams</th>\n",
       "      <th>TrainingJobName</th>\n",
       "      <th>TrainingJobStatus</th>\n",
       "      <th>FinalObjectiveValue</th>\n",
       "      <th>TrainingStartTime</th>\n",
       "      <th>TrainingEndTime</th>\n",
       "      <th>TrainingElapsedTimeSeconds</th>\n",
       "    </tr>\n",
       "  </thead>\n",
       "  <tbody>\n",
       "    <tr>\n",
       "      <th>0</th>\n",
       "      <td>49.0</td>\n",
       "      <td>0.009126</td>\n",
       "      <td>85.0</td>\n",
       "      <td>32.0</td>\n",
       "      <td>3.0</td>\n",
       "      <td>blazingtext-220417-1203-012-75bf6c21</td>\n",
       "      <td>Completed</td>\n",
       "      <td>0.6809</td>\n",
       "      <td>2022-04-17 12:22:49+00:00</td>\n",
       "      <td>2022-04-17 12:24:16+00:00</td>\n",
       "      <td>87.0</td>\n",
       "    </tr>\n",
       "    <tr>\n",
       "      <th>2</th>\n",
       "      <td>46.0</td>\n",
       "      <td>0.005377</td>\n",
       "      <td>93.0</td>\n",
       "      <td>259.0</td>\n",
       "      <td>1.0</td>\n",
       "      <td>blazingtext-220417-1203-010-837e4c77</td>\n",
       "      <td>Completed</td>\n",
       "      <td>0.6758</td>\n",
       "      <td>2022-04-17 12:19:37+00:00</td>\n",
       "      <td>2022-04-17 12:20:39+00:00</td>\n",
       "      <td>62.0</td>\n",
       "    </tr>\n",
       "    <tr>\n",
       "      <th>4</th>\n",
       "      <td>44.0</td>\n",
       "      <td>0.008167</td>\n",
       "      <td>47.0</td>\n",
       "      <td>239.0</td>\n",
       "      <td>3.0</td>\n",
       "      <td>blazingtext-220417-1203-008-81367c14</td>\n",
       "      <td>Completed</td>\n",
       "      <td>0.6758</td>\n",
       "      <td>2022-04-17 12:15:41+00:00</td>\n",
       "      <td>2022-04-17 12:20:08+00:00</td>\n",
       "      <td>267.0</td>\n",
       "    </tr>\n",
       "    <tr>\n",
       "      <th>5</th>\n",
       "      <td>34.0</td>\n",
       "      <td>0.005362</td>\n",
       "      <td>36.0</td>\n",
       "      <td>260.0</td>\n",
       "      <td>1.0</td>\n",
       "      <td>blazingtext-220417-1203-007-42193dda</td>\n",
       "      <td>Completed</td>\n",
       "      <td>0.6758</td>\n",
       "      <td>2022-04-17 12:15:43+00:00</td>\n",
       "      <td>2022-04-17 12:16:55+00:00</td>\n",
       "      <td>72.0</td>\n",
       "    </tr>\n",
       "    <tr>\n",
       "      <th>3</th>\n",
       "      <td>49.0</td>\n",
       "      <td>0.005000</td>\n",
       "      <td>66.0</td>\n",
       "      <td>269.0</td>\n",
       "      <td>1.0</td>\n",
       "      <td>blazingtext-220417-1203-009-89b01d8e</td>\n",
       "      <td>Completed</td>\n",
       "      <td>0.6742</td>\n",
       "      <td>2022-04-17 12:19:07+00:00</td>\n",
       "      <td>2022-04-17 12:20:54+00:00</td>\n",
       "      <td>107.0</td>\n",
       "    </tr>\n",
       "  </tbody>\n",
       "</table>\n",
       "</div>"
      ],
      "text/plain": [
       "   epochs  learning_rate  min_count  vector_dim  word_ngrams  \\\n",
       "0    49.0       0.009126       85.0        32.0          3.0   \n",
       "2    46.0       0.005377       93.0       259.0          1.0   \n",
       "4    44.0       0.008167       47.0       239.0          3.0   \n",
       "5    34.0       0.005362       36.0       260.0          1.0   \n",
       "3    49.0       0.005000       66.0       269.0          1.0   \n",
       "\n",
       "                        TrainingJobName TrainingJobStatus  \\\n",
       "0  blazingtext-220417-1203-012-75bf6c21         Completed   \n",
       "2  blazingtext-220417-1203-010-837e4c77         Completed   \n",
       "4  blazingtext-220417-1203-008-81367c14         Completed   \n",
       "5  blazingtext-220417-1203-007-42193dda         Completed   \n",
       "3  blazingtext-220417-1203-009-89b01d8e         Completed   \n",
       "\n",
       "   FinalObjectiveValue         TrainingStartTime           TrainingEndTime  \\\n",
       "0               0.6809 2022-04-17 12:22:49+00:00 2022-04-17 12:24:16+00:00   \n",
       "2               0.6758 2022-04-17 12:19:37+00:00 2022-04-17 12:20:39+00:00   \n",
       "4               0.6758 2022-04-17 12:15:41+00:00 2022-04-17 12:20:08+00:00   \n",
       "5               0.6758 2022-04-17 12:15:43+00:00 2022-04-17 12:16:55+00:00   \n",
       "3               0.6742 2022-04-17 12:19:07+00:00 2022-04-17 12:20:54+00:00   \n",
       "\n",
       "   TrainingElapsedTimeSeconds  \n",
       "0                        87.0  \n",
       "2                        62.0  \n",
       "4                       267.0  \n",
       "5                        72.0  \n",
       "3                       107.0  "
      ]
     },
     "execution_count": 32,
     "metadata": {},
     "output_type": "execute_result"
    }
   ],
   "source": [
    "tuner_analytics = sagemaker.HyperparameterTuningJobAnalytics(job_name)\n",
    "jobs_df = tuner_analytics.dataframe()\n",
    "jobs_df = jobs_df[jobs_df['TrainingJobStatus'] == 'Completed'].sort_values('FinalObjectiveValue', ascending=False)\n",
    "jobs_df.head()"
   ]
  },
  {
   "cell_type": "markdown",
   "metadata": {},
   "source": [
    "# 5. 변수 저장\n",
    "- champion, challenger 모델 아티펙트 저장\n",
    "- 모델 훈련 및 튜닝에 사용한 Blazing Text 도커 이미지 (학습, 추론 모두 사용)의 경로 저장"
   ]
  },
  {
   "cell_type": "code",
   "execution_count": 33,
   "metadata": {},
   "outputs": [
    {
     "name": "stdout",
     "output_type": "stream",
     "text": [
      "\n",
      "champion_model_artifact: \n",
      " s3://sagemaker-us-east-1-189546603447/mab-reviews-helpfulness/output/blazingtext-2022-04-17-12-00-31-572/output/model.tar.gz\n",
      "\n",
      "2022-04-17 12:24:16 Starting - Preparing the instances for training\n",
      "2022-04-17 12:24:16 Downloading - Downloading input data\n",
      "2022-04-17 12:24:16 Training - Training image download completed. Training in progress.\n",
      "2022-04-17 12:24:16 Uploading - Uploading generated training model\n",
      "2022-04-17 12:24:16 Completed - Training job completed\n",
      "\n",
      "challenger_model_artifact: \n",
      " s3://sagemaker-us-east-1-189546603447/mab-reviews-helpfulness/output/blazingtext-220417-1203-012-75bf6c21/output/model.tar.gz\n",
      "\n",
      "model_train_inference_docker_uri: \n",
      " 811284229777.dkr.ecr.us-east-1.amazonaws.com/blazingtext:1\n"
     ]
    }
   ],
   "source": [
    "champion_model_artifact = estimator.model_data\n",
    "print(\"\\nchampion_model_artifact: \\n\", champion_model_artifact)\n",
    "\n",
    "best_estimator = tuner.best_estimator()\n",
    "challenger_model_artifact = best_estimator.model_data\n",
    "print(\"\\nchallenger_model_artifact: \\n\", challenger_model_artifact)\n",
    "\n",
    "model_train_inference_docker_uri = estimator.image_uri\n",
    "print(\"\\nmodel_train_inference_docker_uri: \\n\", model_train_inference_docker_uri)\n",
    "\n"
   ]
  },
  {
   "cell_type": "code",
   "execution_count": 34,
   "metadata": {},
   "outputs": [
    {
     "name": "stdout",
     "output_type": "stream",
     "text": [
      "Stored 'model_train_inference_docker_uri' (str)\n",
      "Stored 'champion_model_artifact' (str)\n",
      "Stored 'challenger_model_artifact' (str)\n"
     ]
    }
   ],
   "source": [
    "%store model_train_inference_docker_uri\n",
    "%store champion_model_artifact\n",
    "%store challenger_model_artifact"
   ]
  },
  {
   "cell_type": "markdown",
   "metadata": {},
   "source": [
    "# 참고:  하이퍼 파라미터 연관 관계 분석"
   ]
  },
  {
   "cell_type": "markdown",
   "metadata": {},
   "source": [
    "목표 측정항목과 조정하기 위해 선택한 개별 하이퍼파라미터 간의 상관관계를 알고 싶을 수 있습니다."
   ]
  },
  {
   "cell_type": "code",
   "execution_count": 35,
   "metadata": {},
   "outputs": [
    {
     "data": {
      "text/html": [
       "\n",
       "    <div class=\"bk-root\">\n",
       "        <a href=\"https://bokeh.org\" target=\"_blank\" class=\"bk-logo bk-logo-small bk-logo-notebook\"></a>\n",
       "        <span id=\"1002\">Loading BokehJS ...</span>\n",
       "    </div>"
      ]
     },
     "metadata": {},
     "output_type": "display_data"
    },
    {
     "data": {
      "application/javascript": [
       "\n",
       "(function(root) {\n",
       "  function now() {\n",
       "    return new Date();\n",
       "  }\n",
       "\n",
       "  const force = true;\n",
       "\n",
       "  if (typeof root._bokeh_onload_callbacks === \"undefined\" || force === true) {\n",
       "    root._bokeh_onload_callbacks = [];\n",
       "    root._bokeh_is_loading = undefined;\n",
       "  }\n",
       "\n",
       "  const JS_MIME_TYPE = 'application/javascript';\n",
       "  const HTML_MIME_TYPE = 'text/html';\n",
       "  const EXEC_MIME_TYPE = 'application/vnd.bokehjs_exec.v0+json';\n",
       "  const CLASS_NAME = 'output_bokeh rendered_html';\n",
       "\n",
       "  /**\n",
       "   * Render data to the DOM node\n",
       "   */\n",
       "  function render(props, node) {\n",
       "    const script = document.createElement(\"script\");\n",
       "    node.appendChild(script);\n",
       "  }\n",
       "\n",
       "  /**\n",
       "   * Handle when an output is cleared or removed\n",
       "   */\n",
       "  function handleClearOutput(event, handle) {\n",
       "    const cell = handle.cell;\n",
       "\n",
       "    const id = cell.output_area._bokeh_element_id;\n",
       "    const server_id = cell.output_area._bokeh_server_id;\n",
       "    // Clean up Bokeh references\n",
       "    if (id != null && id in Bokeh.index) {\n",
       "      Bokeh.index[id].model.document.clear();\n",
       "      delete Bokeh.index[id];\n",
       "    }\n",
       "\n",
       "    if (server_id !== undefined) {\n",
       "      // Clean up Bokeh references\n",
       "      const cmd_clean = \"from bokeh.io.state import curstate; print(curstate().uuid_to_server['\" + server_id + \"'].get_sessions()[0].document.roots[0]._id)\";\n",
       "      cell.notebook.kernel.execute(cmd_clean, {\n",
       "        iopub: {\n",
       "          output: function(msg) {\n",
       "            const id = msg.content.text.trim();\n",
       "            if (id in Bokeh.index) {\n",
       "              Bokeh.index[id].model.document.clear();\n",
       "              delete Bokeh.index[id];\n",
       "            }\n",
       "          }\n",
       "        }\n",
       "      });\n",
       "      // Destroy server and session\n",
       "      const cmd_destroy = \"import bokeh.io.notebook as ion; ion.destroy_server('\" + server_id + \"')\";\n",
       "      cell.notebook.kernel.execute(cmd_destroy);\n",
       "    }\n",
       "  }\n",
       "\n",
       "  /**\n",
       "   * Handle when a new output is added\n",
       "   */\n",
       "  function handleAddOutput(event, handle) {\n",
       "    const output_area = handle.output_area;\n",
       "    const output = handle.output;\n",
       "\n",
       "    // limit handleAddOutput to display_data with EXEC_MIME_TYPE content only\n",
       "    if ((output.output_type != \"display_data\") || (!Object.prototype.hasOwnProperty.call(output.data, EXEC_MIME_TYPE))) {\n",
       "      return\n",
       "    }\n",
       "\n",
       "    const toinsert = output_area.element.find(\".\" + CLASS_NAME.split(' ')[0]);\n",
       "\n",
       "    if (output.metadata[EXEC_MIME_TYPE][\"id\"] !== undefined) {\n",
       "      toinsert[toinsert.length - 1].firstChild.textContent = output.data[JS_MIME_TYPE];\n",
       "      // store reference to embed id on output_area\n",
       "      output_area._bokeh_element_id = output.metadata[EXEC_MIME_TYPE][\"id\"];\n",
       "    }\n",
       "    if (output.metadata[EXEC_MIME_TYPE][\"server_id\"] !== undefined) {\n",
       "      const bk_div = document.createElement(\"div\");\n",
       "      bk_div.innerHTML = output.data[HTML_MIME_TYPE];\n",
       "      const script_attrs = bk_div.children[0].attributes;\n",
       "      for (let i = 0; i < script_attrs.length; i++) {\n",
       "        toinsert[toinsert.length - 1].firstChild.setAttribute(script_attrs[i].name, script_attrs[i].value);\n",
       "        toinsert[toinsert.length - 1].firstChild.textContent = bk_div.children[0].textContent\n",
       "      }\n",
       "      // store reference to server id on output_area\n",
       "      output_area._bokeh_server_id = output.metadata[EXEC_MIME_TYPE][\"server_id\"];\n",
       "    }\n",
       "  }\n",
       "\n",
       "  function register_renderer(events, OutputArea) {\n",
       "\n",
       "    function append_mime(data, metadata, element) {\n",
       "      // create a DOM node to render to\n",
       "      const toinsert = this.create_output_subarea(\n",
       "        metadata,\n",
       "        CLASS_NAME,\n",
       "        EXEC_MIME_TYPE\n",
       "      );\n",
       "      this.keyboard_manager.register_events(toinsert);\n",
       "      // Render to node\n",
       "      const props = {data: data, metadata: metadata[EXEC_MIME_TYPE]};\n",
       "      render(props, toinsert[toinsert.length - 1]);\n",
       "      element.append(toinsert);\n",
       "      return toinsert\n",
       "    }\n",
       "\n",
       "    /* Handle when an output is cleared or removed */\n",
       "    events.on('clear_output.CodeCell', handleClearOutput);\n",
       "    events.on('delete.Cell', handleClearOutput);\n",
       "\n",
       "    /* Handle when a new output is added */\n",
       "    events.on('output_added.OutputArea', handleAddOutput);\n",
       "\n",
       "    /**\n",
       "     * Register the mime type and append_mime function with output_area\n",
       "     */\n",
       "    OutputArea.prototype.register_mime_type(EXEC_MIME_TYPE, append_mime, {\n",
       "      /* Is output safe? */\n",
       "      safe: true,\n",
       "      /* Index of renderer in `output_area.display_order` */\n",
       "      index: 0\n",
       "    });\n",
       "  }\n",
       "\n",
       "  // register the mime type if in Jupyter Notebook environment and previously unregistered\n",
       "  if (root.Jupyter !== undefined) {\n",
       "    const events = require('base/js/events');\n",
       "    const OutputArea = require('notebook/js/outputarea').OutputArea;\n",
       "\n",
       "    if (OutputArea.prototype.mime_types().indexOf(EXEC_MIME_TYPE) == -1) {\n",
       "      register_renderer(events, OutputArea);\n",
       "    }\n",
       "  }\n",
       "\n",
       "  \n",
       "  if (typeof (root._bokeh_timeout) === \"undefined\" || force === true) {\n",
       "    root._bokeh_timeout = Date.now() + 5000;\n",
       "    root._bokeh_failed_load = false;\n",
       "  }\n",
       "\n",
       "  const NB_LOAD_WARNING = {'data': {'text/html':\n",
       "     \"<div style='background-color: #fdd'>\\n\"+\n",
       "     \"<p>\\n\"+\n",
       "     \"BokehJS does not appear to have successfully loaded. If loading BokehJS from CDN, this \\n\"+\n",
       "     \"may be due to a slow or bad network connection. Possible fixes:\\n\"+\n",
       "     \"</p>\\n\"+\n",
       "     \"<ul>\\n\"+\n",
       "     \"<li>re-rerun `output_notebook()` to attempt to load from CDN again, or</li>\\n\"+\n",
       "     \"<li>use INLINE resources instead, as so:</li>\\n\"+\n",
       "     \"</ul>\\n\"+\n",
       "     \"<code>\\n\"+\n",
       "     \"from bokeh.resources import INLINE\\n\"+\n",
       "     \"output_notebook(resources=INLINE)\\n\"+\n",
       "     \"</code>\\n\"+\n",
       "     \"</div>\"}};\n",
       "\n",
       "  function display_loaded() {\n",
       "    const el = document.getElementById(\"1002\");\n",
       "    if (el != null) {\n",
       "      el.textContent = \"BokehJS is loading...\";\n",
       "    }\n",
       "    if (root.Bokeh !== undefined) {\n",
       "      if (el != null) {\n",
       "        el.textContent = \"BokehJS \" + root.Bokeh.version + \" successfully loaded.\";\n",
       "      }\n",
       "    } else if (Date.now() < root._bokeh_timeout) {\n",
       "      setTimeout(display_loaded, 100)\n",
       "    }\n",
       "  }\n",
       "\n",
       "\n",
       "  function run_callbacks() {\n",
       "    try {\n",
       "      root._bokeh_onload_callbacks.forEach(function(callback) {\n",
       "        if (callback != null)\n",
       "          callback();\n",
       "      });\n",
       "    } finally {\n",
       "      delete root._bokeh_onload_callbacks\n",
       "    }\n",
       "    console.debug(\"Bokeh: all callbacks have finished\");\n",
       "  }\n",
       "\n",
       "  function load_libs(css_urls, js_urls, callback) {\n",
       "    if (css_urls == null) css_urls = [];\n",
       "    if (js_urls == null) js_urls = [];\n",
       "\n",
       "    root._bokeh_onload_callbacks.push(callback);\n",
       "    if (root._bokeh_is_loading > 0) {\n",
       "      console.debug(\"Bokeh: BokehJS is being loaded, scheduling callback at\", now());\n",
       "      return null;\n",
       "    }\n",
       "    if (js_urls == null || js_urls.length === 0) {\n",
       "      run_callbacks();\n",
       "      return null;\n",
       "    }\n",
       "    console.debug(\"Bokeh: BokehJS not loaded, scheduling load and callback at\", now());\n",
       "    root._bokeh_is_loading = css_urls.length + js_urls.length;\n",
       "\n",
       "    function on_load() {\n",
       "      root._bokeh_is_loading--;\n",
       "      if (root._bokeh_is_loading === 0) {\n",
       "        console.debug(\"Bokeh: all BokehJS libraries/stylesheets loaded\");\n",
       "        run_callbacks()\n",
       "      }\n",
       "    }\n",
       "\n",
       "    function on_error(url) {\n",
       "      console.error(\"failed to load \" + url);\n",
       "    }\n",
       "\n",
       "    for (let i = 0; i < css_urls.length; i++) {\n",
       "      const url = css_urls[i];\n",
       "      const element = document.createElement(\"link\");\n",
       "      element.onload = on_load;\n",
       "      element.onerror = on_error.bind(null, url);\n",
       "      element.rel = \"stylesheet\";\n",
       "      element.type = \"text/css\";\n",
       "      element.href = url;\n",
       "      console.debug(\"Bokeh: injecting link tag for BokehJS stylesheet: \", url);\n",
       "      document.body.appendChild(element);\n",
       "    }\n",
       "\n",
       "    for (let i = 0; i < js_urls.length; i++) {\n",
       "      const url = js_urls[i];\n",
       "      const element = document.createElement('script');\n",
       "      element.onload = on_load;\n",
       "      element.onerror = on_error.bind(null, url);\n",
       "      element.async = false;\n",
       "      element.src = url;\n",
       "      console.debug(\"Bokeh: injecting script tag for BokehJS library: \", url);\n",
       "      document.head.appendChild(element);\n",
       "    }\n",
       "  };\n",
       "\n",
       "  function inject_raw_css(css) {\n",
       "    const element = document.createElement(\"style\");\n",
       "    element.appendChild(document.createTextNode(css));\n",
       "    document.body.appendChild(element);\n",
       "  }\n",
       "\n",
       "  \n",
       "  const js_urls = [\"https://cdn.bokeh.org/bokeh/release/bokeh-2.4.2.min.js\", \"https://cdn.bokeh.org/bokeh/release/bokeh-gl-2.4.2.min.js\", \"https://cdn.bokeh.org/bokeh/release/bokeh-widgets-2.4.2.min.js\", \"https://cdn.bokeh.org/bokeh/release/bokeh-tables-2.4.2.min.js\", \"https://cdn.bokeh.org/bokeh/release/bokeh-mathjax-2.4.2.min.js\"];\n",
       "  const css_urls = [];\n",
       "  \n",
       "\n",
       "  const inline_js = [\n",
       "    function(Bokeh) {\n",
       "      Bokeh.set_log_level(\"info\");\n",
       "    },\n",
       "    function(Bokeh) {\n",
       "    \n",
       "    \n",
       "    }\n",
       "  ];\n",
       "\n",
       "  function run_inline_js() {\n",
       "    \n",
       "    if (root.Bokeh !== undefined || force === true) {\n",
       "      \n",
       "    for (let i = 0; i < inline_js.length; i++) {\n",
       "      inline_js[i].call(root, root.Bokeh);\n",
       "    }\n",
       "    if (force === true) {\n",
       "        display_loaded();\n",
       "      }} else if (Date.now() < root._bokeh_timeout) {\n",
       "      setTimeout(run_inline_js, 100);\n",
       "    } else if (!root._bokeh_failed_load) {\n",
       "      console.log(\"Bokeh: BokehJS failed to load within specified timeout.\");\n",
       "      root._bokeh_failed_load = true;\n",
       "    } else if (force !== true) {\n",
       "      const cell = $(document.getElementById(\"1002\")).parents('.cell').data().cell;\n",
       "      cell.output_area.append_execute_result(NB_LOAD_WARNING)\n",
       "    }\n",
       "\n",
       "  }\n",
       "\n",
       "  if (root._bokeh_is_loading === 0) {\n",
       "    console.debug(\"Bokeh: BokehJS loaded, going straight to plotting\");\n",
       "    run_inline_js();\n",
       "  } else {\n",
       "    load_libs(css_urls, js_urls, function() {\n",
       "      console.debug(\"Bokeh: BokehJS plotting callback run at\", now());\n",
       "      run_inline_js();\n",
       "    });\n",
       "  }\n",
       "}(window));"
      ],
      "application/vnd.bokehjs_load.v0+json": "\n(function(root) {\n  function now() {\n    return new Date();\n  }\n\n  const force = true;\n\n  if (typeof root._bokeh_onload_callbacks === \"undefined\" || force === true) {\n    root._bokeh_onload_callbacks = [];\n    root._bokeh_is_loading = undefined;\n  }\n\n  \n\n  \n  if (typeof (root._bokeh_timeout) === \"undefined\" || force === true) {\n    root._bokeh_timeout = Date.now() + 5000;\n    root._bokeh_failed_load = false;\n  }\n\n  const NB_LOAD_WARNING = {'data': {'text/html':\n     \"<div style='background-color: #fdd'>\\n\"+\n     \"<p>\\n\"+\n     \"BokehJS does not appear to have successfully loaded. If loading BokehJS from CDN, this \\n\"+\n     \"may be due to a slow or bad network connection. Possible fixes:\\n\"+\n     \"</p>\\n\"+\n     \"<ul>\\n\"+\n     \"<li>re-rerun `output_notebook()` to attempt to load from CDN again, or</li>\\n\"+\n     \"<li>use INLINE resources instead, as so:</li>\\n\"+\n     \"</ul>\\n\"+\n     \"<code>\\n\"+\n     \"from bokeh.resources import INLINE\\n\"+\n     \"output_notebook(resources=INLINE)\\n\"+\n     \"</code>\\n\"+\n     \"</div>\"}};\n\n  function display_loaded() {\n    const el = document.getElementById(\"1002\");\n    if (el != null) {\n      el.textContent = \"BokehJS is loading...\";\n    }\n    if (root.Bokeh !== undefined) {\n      if (el != null) {\n        el.textContent = \"BokehJS \" + root.Bokeh.version + \" successfully loaded.\";\n      }\n    } else if (Date.now() < root._bokeh_timeout) {\n      setTimeout(display_loaded, 100)\n    }\n  }\n\n\n  function run_callbacks() {\n    try {\n      root._bokeh_onload_callbacks.forEach(function(callback) {\n        if (callback != null)\n          callback();\n      });\n    } finally {\n      delete root._bokeh_onload_callbacks\n    }\n    console.debug(\"Bokeh: all callbacks have finished\");\n  }\n\n  function load_libs(css_urls, js_urls, callback) {\n    if (css_urls == null) css_urls = [];\n    if (js_urls == null) js_urls = [];\n\n    root._bokeh_onload_callbacks.push(callback);\n    if (root._bokeh_is_loading > 0) {\n      console.debug(\"Bokeh: BokehJS is being loaded, scheduling callback at\", now());\n      return null;\n    }\n    if (js_urls == null || js_urls.length === 0) {\n      run_callbacks();\n      return null;\n    }\n    console.debug(\"Bokeh: BokehJS not loaded, scheduling load and callback at\", now());\n    root._bokeh_is_loading = css_urls.length + js_urls.length;\n\n    function on_load() {\n      root._bokeh_is_loading--;\n      if (root._bokeh_is_loading === 0) {\n        console.debug(\"Bokeh: all BokehJS libraries/stylesheets loaded\");\n        run_callbacks()\n      }\n    }\n\n    function on_error(url) {\n      console.error(\"failed to load \" + url);\n    }\n\n    for (let i = 0; i < css_urls.length; i++) {\n      const url = css_urls[i];\n      const element = document.createElement(\"link\");\n      element.onload = on_load;\n      element.onerror = on_error.bind(null, url);\n      element.rel = \"stylesheet\";\n      element.type = \"text/css\";\n      element.href = url;\n      console.debug(\"Bokeh: injecting link tag for BokehJS stylesheet: \", url);\n      document.body.appendChild(element);\n    }\n\n    for (let i = 0; i < js_urls.length; i++) {\n      const url = js_urls[i];\n      const element = document.createElement('script');\n      element.onload = on_load;\n      element.onerror = on_error.bind(null, url);\n      element.async = false;\n      element.src = url;\n      console.debug(\"Bokeh: injecting script tag for BokehJS library: \", url);\n      document.head.appendChild(element);\n    }\n  };\n\n  function inject_raw_css(css) {\n    const element = document.createElement(\"style\");\n    element.appendChild(document.createTextNode(css));\n    document.body.appendChild(element);\n  }\n\n  \n  const js_urls = [\"https://cdn.bokeh.org/bokeh/release/bokeh-2.4.2.min.js\", \"https://cdn.bokeh.org/bokeh/release/bokeh-gl-2.4.2.min.js\", \"https://cdn.bokeh.org/bokeh/release/bokeh-widgets-2.4.2.min.js\", \"https://cdn.bokeh.org/bokeh/release/bokeh-tables-2.4.2.min.js\", \"https://cdn.bokeh.org/bokeh/release/bokeh-mathjax-2.4.2.min.js\"];\n  const css_urls = [];\n  \n\n  const inline_js = [\n    function(Bokeh) {\n      Bokeh.set_log_level(\"info\");\n    },\n    function(Bokeh) {\n    \n    \n    }\n  ];\n\n  function run_inline_js() {\n    \n    if (root.Bokeh !== undefined || force === true) {\n      \n    for (let i = 0; i < inline_js.length; i++) {\n      inline_js[i].call(root, root.Bokeh);\n    }\n    if (force === true) {\n        display_loaded();\n      }} else if (Date.now() < root._bokeh_timeout) {\n      setTimeout(run_inline_js, 100);\n    } else if (!root._bokeh_failed_load) {\n      console.log(\"Bokeh: BokehJS failed to load within specified timeout.\");\n      root._bokeh_failed_load = true;\n    } else if (force !== true) {\n      const cell = $(document.getElementById(\"1002\")).parents('.cell').data().cell;\n      cell.output_area.append_execute_result(NB_LOAD_WARNING)\n    }\n\n  }\n\n  if (root._bokeh_is_loading === 0) {\n    console.debug(\"Bokeh: BokehJS loaded, going straight to plotting\");\n    run_inline_js();\n  } else {\n    load_libs(css_urls, js_urls, function() {\n      console.debug(\"Bokeh: BokehJS plotting callback run at\", now());\n      run_inline_js();\n    });\n  }\n}(window));"
     },
     "metadata": {},
     "output_type": "display_data"
    },
    {
     "data": {
      "text/html": [
       "\n",
       "\n",
       "\n",
       "\n",
       "\n",
       "\n",
       "  <div class=\"bk-root\" id=\"bf5a524d-ad15-497d-a8d5-2a9f4edee0e5\" data-root-id=\"1218\"></div>\n"
      ]
     },
     "metadata": {},
     "output_type": "display_data"
    },
    {
     "data": {
      "application/javascript": [
       "(function(root) {\n",
       "  function embed_document(root) {\n",
       "    \n",
       "  const docs_json = {\"ca75e19e-6cce-484e-bbeb-e4794015a0b9\":{\"defs\":[],\"roots\":{\"references\":[{\"attributes\":{\"children\":[{\"id\":\"1004\"},{\"id\":\"1047\"},{\"id\":\"1090\"},{\"id\":\"1133\"},{\"id\":\"1176\"}]},\"id\":\"1218\",\"type\":\"Column\"},{\"attributes\":{},\"id\":\"1007\",\"type\":\"DataRange1d\"},{\"attributes\":{\"axis_label\":\"validation:accuracy\",\"coordinates\":null,\"formatter\":{\"id\":\"1249\"},\"group\":null,\"major_label_policy\":{\"id\":\"1250\"},\"ticker\":{\"id\":\"1192\"}},\"id\":\"1191\",\"type\":\"LinearAxis\"},{\"attributes\":{},\"id\":\"1196\",\"type\":\"CrosshairTool\"},{\"attributes\":{\"callback\":null,\"tooltips\":[[\"FinalObjectiveValue\",\"@FinalObjectiveValue\"],[\"TrainingJobName\",\"@TrainingJobName\"],[\"epochs\",\"@{epochs}\"],[\"min_count\",\"@{min_count}\"],[\"vector_dim\",\"@{vector_dim}\"],[\"word_ngrams\",\"@{word_ngrams}\"],[\"learning_rate\",\"@{learning_rate}\"]]},\"id\":\"1175\",\"type\":\"HoverTool\"},{\"attributes\":{\"source\":{\"id\":\"1211\"}},\"id\":\"1217\",\"type\":\"CDSView\"},{\"attributes\":{\"below\":[{\"id\":\"1015\"}],\"center\":[{\"id\":\"1018\"},{\"id\":\"1022\"}],\"height\":500,\"left\":[{\"id\":\"1019\"}],\"renderers\":[{\"id\":\"1044\"}],\"title\":{\"id\":\"1005\"},\"toolbar\":{\"id\":\"1030\"},\"width\":500,\"x_range\":{\"id\":\"1007\"},\"x_scale\":{\"id\":\"1011\"},\"y_range\":{\"id\":\"1009\"},\"y_scale\":{\"id\":\"1013\"}},\"id\":\"1004\",\"subtype\":\"Figure\",\"type\":\"Plot\"},{\"attributes\":{\"coordinates\":null,\"group\":null,\"text\":\"Objective vs learning_rate\"},\"id\":\"1177\",\"type\":\"Title\"},{\"attributes\":{\"data\":{\"FinalObjectiveValue\":{\"__ndarray__\":\"AAAAwO7J5T8AAABgJ6DlPwAAAGAnoOU/AAAAYCeg5T8AAADgC5PlPwAAACDChuU/AAAAwKZ55T8AAAAAGXPlPwAAACDSb+U/AAAAwGsJ5T8AAADg2azkPwAAAIAvTOI/\",\"dtype\":\"float64\",\"order\":\"little\",\"shape\":[12]},\"TrainingElapsedTimeSeconds\":{\"__ndarray__\":\"AAAAAADAVUAAAAAAAABPQAAAAAAAsHBAAAAAAAAAUkAAAAAAAMBaQAAAAAAAIHRAAAAAAAAAXEAAAAAAAABcQAAAAAAAgFNAAAAAAABQckAAAAAAANBzQAAAAAAAsHBA\",\"dtype\":\"float64\",\"order\":\"little\",\"shape\":[12]},\"TrainingEndTime\":{\"__ndarray__\":\"AACYsXcDeEIAgJ18dwN4QgAADHV3A3hCAIDtRXcDeEIAAEeAdwN4QgCAmVN3A3hCAAAnr3cDeEIAgIoXdwN4QgAAyK92A3hCAIDU4XYDeEIAgJwUdwN4QgAATu12A3hC\",\"dtype\":\"float64\",\"order\":\"little\",\"shape\":[12]},\"TrainingJobName\":[\"blazingtext-220417-1203-012-75bf6c21\",\"blazingtext-220417-1203-010-837e4c77\",\"blazingtext-220417-1203-008-81367c14\",\"blazingtext-220417-1203-007-42193dda\",\"blazingtext-220417-1203-009-89b01d8e\",\"blazingtext-220417-1203-006-5c63a47e\",\"blazingtext-220417-1203-011-f10e5a25\",\"blazingtext-220417-1203-005-a07c048c\",\"blazingtext-220417-1203-002-7cc6813b\",\"blazingtext-220417-1203-001-31bb1c79\",\"blazingtext-220417-1203-004-5a4248c2\",\"blazingtext-220417-1203-003-7375e333\"],\"TrainingJobStatus\":[\"Completed\",\"Completed\",\"Completed\",\"Completed\",\"Completed\",\"Completed\",\"Completed\",\"Completed\",\"Completed\",\"Completed\",\"Completed\",\"Completed\"],\"TrainingStartTime\":{\"__ndarray__\":\"AIBanHcDeEIAgHptdwN4QgCA3DN3A3hCAIBZNHcDeEIAgCdmdwN4QgCA/AR3A3hCAADPk3cDeEIAgDL8dgN4QgAAvZx2A3hCAABMmnYDeEIAADjHdgN4QgCAHqx2A3hC\",\"dtype\":\"float64\",\"order\":\"little\",\"shape\":[12]},\"epochs\":{\"__ndarray__\":\"AAAAAACASEAAAAAAAABHQAAAAAAAAEZAAAAAAAAAQUAAAAAAAIBIQAAAAAAAAEZAAAAAAAAARUAAAAAAAABIQAAAAAAAgENAAAAAAAAAOEAAAAAAAAA1QAAAAAAAABxA\",\"dtype\":\"float64\",\"order\":\"little\",\"shape\":[12]},\"index\":[0,2,4,5,3,6,1,7,10,11,8,9],\"learning_rate\":{\"__ndarray__\":\"1DaM2Z6wgj+j0w+YnwZ2PzhQbjK2uYA/W/KUg/H2dT97FK5H4Xp0P/WLLh2L1Hk/9YsuHYv4ez+pjXgJWlaBP61SNyPq638/Zha9AX54fD9GRE2idtp3P5wrc7t9KXk/\",\"dtype\":\"float64\",\"order\":\"little\",\"shape\":[12]},\"min_count\":{\"__ndarray__\":\"AAAAAABAVUAAAAAAAEBXQAAAAAAAgEdAAAAAAAAAQkAAAAAAAIBQQAAAAAAAADhAAAAAAAAAVkAAAAAAAABDQAAAAAAAgEBAAAAAAAAATUAAAAAAAAAmQAAAAAAAAFVA\",\"dtype\":\"float64\",\"order\":\"little\",\"shape\":[12]},\"vector_dim\":{\"__ndarray__\":\"AAAAAAAAQEAAAAAAADBwQAAAAAAA4G1AAAAAAABAcEAAAAAAANBwQAAAAAAAwHJAAAAAAAAASkAAAAAAAABLQAAAAAAAgGRAAAAAAABwcUAAAAAAAABxQAAAAAAAAG9A\",\"dtype\":\"float64\",\"order\":\"little\",\"shape\":[12]},\"word_ngrams\":{\"__ndarray__\":\"AAAAAAAACEAAAAAAAADwPwAAAAAAAAhAAAAAAAAA8D8AAAAAAADwPwAAAAAAAAhAAAAAAAAACEAAAAAAAADwPwAAAAAAAPA/AAAAAAAACEAAAAAAAAAIQAAAAAAAAABA\",\"dtype\":\"float64\",\"order\":\"little\",\"shape\":[12]}},\"selected\":{\"id\":\"1255\"},\"selection_policy\":{\"id\":\"1254\"}},\"id\":\"1039\",\"type\":\"ColumnDataSource\"},{\"attributes\":{},\"id\":\"1188\",\"type\":\"BasicTicker\"},{\"attributes\":{\"axis\":{\"id\":\"1191\"},\"coordinates\":null,\"dimension\":1,\"group\":null,\"ticker\":null},\"id\":\"1194\",\"type\":\"Grid\"},{\"attributes\":{},\"id\":\"1009\",\"type\":\"DataRange1d\"},{\"attributes\":{},\"id\":\"1199\",\"type\":\"ZoomOutTool\"},{\"attributes\":{},\"id\":\"1260\",\"type\":\"UnionRenderers\"},{\"attributes\":{\"callback\":null,\"tooltips\":[[\"FinalObjectiveValue\",\"@FinalObjectiveValue\"],[\"TrainingJobName\",\"@TrainingJobName\"],[\"epochs\",\"@{epochs}\"],[\"min_count\",\"@{min_count}\"],[\"vector_dim\",\"@{vector_dim}\"],[\"word_ngrams\",\"@{word_ngrams}\"],[\"learning_rate\",\"@{learning_rate}\"]]},\"id\":\"1046\",\"type\":\"HoverTool\"},{\"attributes\":{},\"id\":\"1261\",\"type\":\"Selection\"},{\"attributes\":{\"axis_label\":\"learning_rate\",\"coordinates\":null,\"formatter\":{\"id\":\"1252\"},\"group\":null,\"major_label_policy\":{\"id\":\"1253\"},\"ticker\":{\"id\":\"1188\"}},\"id\":\"1187\",\"type\":\"LinearAxis\"},{\"attributes\":{},\"id\":\"1200\",\"type\":\"UndoTool\"},{\"attributes\":{},\"id\":\"1197\",\"type\":\"WheelZoomTool\"},{\"attributes\":{},\"id\":\"1201\",\"type\":\"ResetTool\"},{\"attributes\":{},\"id\":\"1195\",\"type\":\"PanTool\"},{\"attributes\":{},\"id\":\"1192\",\"type\":\"BasicTicker\"},{\"attributes\":{},\"id\":\"1198\",\"type\":\"ZoomInTool\"},{\"attributes\":{\"coordinates\":null,\"data_source\":{\"id\":\"1211\"},\"glyph\":{\"id\":\"1213\"},\"group\":null,\"hover_glyph\":null,\"muted_glyph\":{\"id\":\"1215\"},\"nonselection_glyph\":{\"id\":\"1214\"},\"view\":{\"id\":\"1217\"}},\"id\":\"1216\",\"type\":\"GlyphRenderer\"},{\"attributes\":{},\"id\":\"1262\",\"type\":\"UnionRenderers\"},{\"attributes\":{},\"id\":\"1185\",\"type\":\"LinearScale\"},{\"attributes\":{\"axis\":{\"id\":\"1187\"},\"coordinates\":null,\"group\":null,\"ticker\":null},\"id\":\"1190\",\"type\":\"Grid\"},{\"attributes\":{},\"id\":\"1263\",\"type\":\"Selection\"},{\"attributes\":{},\"id\":\"1183\",\"type\":\"LinearScale\"},{\"attributes\":{\"fill_alpha\":{\"value\":0.2},\"fill_color\":{\"value\":\"#1f77b4\"},\"hatch_alpha\":{\"value\":0.2},\"line_alpha\":{\"value\":0.2},\"line_color\":{\"value\":\"#1f77b4\"},\"x\":{\"field\":\"learning_rate\"},\"y\":{\"field\":\"FinalObjectiveValue\"}},\"id\":\"1215\",\"type\":\"Circle\"},{\"attributes\":{\"fill_alpha\":{\"value\":0.1},\"fill_color\":{\"value\":\"#1f77b4\"},\"hatch_alpha\":{\"value\":0.1},\"line_alpha\":{\"value\":0.1},\"line_color\":{\"value\":\"#1f77b4\"},\"x\":{\"field\":\"learning_rate\"},\"y\":{\"field\":\"FinalObjectiveValue\"}},\"id\":\"1214\",\"type\":\"Circle\"},{\"attributes\":{\"tools\":[{\"id\":\"1175\"},{\"id\":\"1195\"},{\"id\":\"1196\"},{\"id\":\"1197\"},{\"id\":\"1198\"},{\"id\":\"1199\"},{\"id\":\"1200\"},{\"id\":\"1201\"}]},\"id\":\"1202\",\"type\":\"Toolbar\"},{\"attributes\":{\"fill_color\":{\"value\":\"#1f77b4\"},\"line_color\":{\"value\":\"#1f77b4\"},\"x\":{\"field\":\"learning_rate\"},\"y\":{\"field\":\"FinalObjectiveValue\"}},\"id\":\"1213\",\"type\":\"Circle\"},{\"attributes\":{\"data\":{\"FinalObjectiveValue\":{\"__ndarray__\":\"AAAAwO7J5T8AAABgJ6DlPwAAAGAnoOU/AAAAYCeg5T8AAADgC5PlPwAAACDChuU/AAAAwKZ55T8AAAAAGXPlPwAAACDSb+U/AAAAwGsJ5T8AAADg2azkPwAAAIAvTOI/\",\"dtype\":\"float64\",\"order\":\"little\",\"shape\":[12]},\"TrainingElapsedTimeSeconds\":{\"__ndarray__\":\"AAAAAADAVUAAAAAAAABPQAAAAAAAsHBAAAAAAAAAUkAAAAAAAMBaQAAAAAAAIHRAAAAAAAAAXEAAAAAAAABcQAAAAAAAgFNAAAAAAABQckAAAAAAANBzQAAAAAAAsHBA\",\"dtype\":\"float64\",\"order\":\"little\",\"shape\":[12]},\"TrainingEndTime\":{\"__ndarray__\":\"AACYsXcDeEIAgJ18dwN4QgAADHV3A3hCAIDtRXcDeEIAAEeAdwN4QgCAmVN3A3hCAAAnr3cDeEIAgIoXdwN4QgAAyK92A3hCAIDU4XYDeEIAgJwUdwN4QgAATu12A3hC\",\"dtype\":\"float64\",\"order\":\"little\",\"shape\":[12]},\"TrainingJobName\":[\"blazingtext-220417-1203-012-75bf6c21\",\"blazingtext-220417-1203-010-837e4c77\",\"blazingtext-220417-1203-008-81367c14\",\"blazingtext-220417-1203-007-42193dda\",\"blazingtext-220417-1203-009-89b01d8e\",\"blazingtext-220417-1203-006-5c63a47e\",\"blazingtext-220417-1203-011-f10e5a25\",\"blazingtext-220417-1203-005-a07c048c\",\"blazingtext-220417-1203-002-7cc6813b\",\"blazingtext-220417-1203-001-31bb1c79\",\"blazingtext-220417-1203-004-5a4248c2\",\"blazingtext-220417-1203-003-7375e333\"],\"TrainingJobStatus\":[\"Completed\",\"Completed\",\"Completed\",\"Completed\",\"Completed\",\"Completed\",\"Completed\",\"Completed\",\"Completed\",\"Completed\",\"Completed\",\"Completed\"],\"TrainingStartTime\":{\"__ndarray__\":\"AIBanHcDeEIAgHptdwN4QgCA3DN3A3hCAIBZNHcDeEIAgCdmdwN4QgCA/AR3A3hCAADPk3cDeEIAgDL8dgN4QgAAvZx2A3hCAABMmnYDeEIAADjHdgN4QgCAHqx2A3hC\",\"dtype\":\"float64\",\"order\":\"little\",\"shape\":[12]},\"epochs\":{\"__ndarray__\":\"AAAAAACASEAAAAAAAABHQAAAAAAAAEZAAAAAAAAAQUAAAAAAAIBIQAAAAAAAAEZAAAAAAAAARUAAAAAAAABIQAAAAAAAgENAAAAAAAAAOEAAAAAAAAA1QAAAAAAAABxA\",\"dtype\":\"float64\",\"order\":\"little\",\"shape\":[12]},\"index\":[0,2,4,5,3,6,1,7,10,11,8,9],\"learning_rate\":{\"__ndarray__\":\"1DaM2Z6wgj+j0w+YnwZ2PzhQbjK2uYA/W/KUg/H2dT97FK5H4Xp0P/WLLh2L1Hk/9YsuHYv4ez+pjXgJWlaBP61SNyPq638/Zha9AX54fD9GRE2idtp3P5wrc7t9KXk/\",\"dtype\":\"float64\",\"order\":\"little\",\"shape\":[12]},\"min_count\":{\"__ndarray__\":\"AAAAAABAVUAAAAAAAEBXQAAAAAAAgEdAAAAAAAAAQkAAAAAAAIBQQAAAAAAAADhAAAAAAAAAVkAAAAAAAABDQAAAAAAAgEBAAAAAAAAATUAAAAAAAAAmQAAAAAAAAFVA\",\"dtype\":\"float64\",\"order\":\"little\",\"shape\":[12]},\"vector_dim\":{\"__ndarray__\":\"AAAAAAAAQEAAAAAAADBwQAAAAAAA4G1AAAAAAABAcEAAAAAAANBwQAAAAAAAwHJAAAAAAAAASkAAAAAAAABLQAAAAAAAgGRAAAAAAABwcUAAAAAAAABxQAAAAAAAAG9A\",\"dtype\":\"float64\",\"order\":\"little\",\"shape\":[12]},\"word_ngrams\":{\"__ndarray__\":\"AAAAAAAACEAAAAAAAADwPwAAAAAAAAhAAAAAAAAA8D8AAAAAAADwPwAAAAAAAAhAAAAAAAAACEAAAAAAAADwPwAAAAAAAPA/AAAAAAAACEAAAAAAAAAIQAAAAAAAAABA\",\"dtype\":\"float64\",\"order\":\"little\",\"shape\":[12]}},\"selected\":{\"id\":\"1257\"},\"selection_policy\":{\"id\":\"1256\"}},\"id\":\"1082\",\"type\":\"ColumnDataSource\"},{\"attributes\":{\"data\":{\"FinalObjectiveValue\":{\"__ndarray__\":\"AAAAwO7J5T8AAABgJ6DlPwAAAGAnoOU/AAAAYCeg5T8AAADgC5PlPwAAACDChuU/AAAAwKZ55T8AAAAAGXPlPwAAACDSb+U/AAAAwGsJ5T8AAADg2azkPwAAAIAvTOI/\",\"dtype\":\"float64\",\"order\":\"little\",\"shape\":[12]},\"TrainingElapsedTimeSeconds\":{\"__ndarray__\":\"AAAAAADAVUAAAAAAAABPQAAAAAAAsHBAAAAAAAAAUkAAAAAAAMBaQAAAAAAAIHRAAAAAAAAAXEAAAAAAAABcQAAAAAAAgFNAAAAAAABQckAAAAAAANBzQAAAAAAAsHBA\",\"dtype\":\"float64\",\"order\":\"little\",\"shape\":[12]},\"TrainingEndTime\":{\"__ndarray__\":\"AACYsXcDeEIAgJ18dwN4QgAADHV3A3hCAIDtRXcDeEIAAEeAdwN4QgCAmVN3A3hCAAAnr3cDeEIAgIoXdwN4QgAAyK92A3hCAIDU4XYDeEIAgJwUdwN4QgAATu12A3hC\",\"dtype\":\"float64\",\"order\":\"little\",\"shape\":[12]},\"TrainingJobName\":[\"blazingtext-220417-1203-012-75bf6c21\",\"blazingtext-220417-1203-010-837e4c77\",\"blazingtext-220417-1203-008-81367c14\",\"blazingtext-220417-1203-007-42193dda\",\"blazingtext-220417-1203-009-89b01d8e\",\"blazingtext-220417-1203-006-5c63a47e\",\"blazingtext-220417-1203-011-f10e5a25\",\"blazingtext-220417-1203-005-a07c048c\",\"blazingtext-220417-1203-002-7cc6813b\",\"blazingtext-220417-1203-001-31bb1c79\",\"blazingtext-220417-1203-004-5a4248c2\",\"blazingtext-220417-1203-003-7375e333\"],\"TrainingJobStatus\":[\"Completed\",\"Completed\",\"Completed\",\"Completed\",\"Completed\",\"Completed\",\"Completed\",\"Completed\",\"Completed\",\"Completed\",\"Completed\",\"Completed\"],\"TrainingStartTime\":{\"__ndarray__\":\"AIBanHcDeEIAgHptdwN4QgCA3DN3A3hCAIBZNHcDeEIAgCdmdwN4QgCA/AR3A3hCAADPk3cDeEIAgDL8dgN4QgAAvZx2A3hCAABMmnYDeEIAADjHdgN4QgCAHqx2A3hC\",\"dtype\":\"float64\",\"order\":\"little\",\"shape\":[12]},\"epochs\":{\"__ndarray__\":\"AAAAAACASEAAAAAAAABHQAAAAAAAAEZAAAAAAAAAQUAAAAAAAIBIQAAAAAAAAEZAAAAAAAAARUAAAAAAAABIQAAAAAAAgENAAAAAAAAAOEAAAAAAAAA1QAAAAAAAABxA\",\"dtype\":\"float64\",\"order\":\"little\",\"shape\":[12]},\"index\":[0,2,4,5,3,6,1,7,10,11,8,9],\"learning_rate\":{\"__ndarray__\":\"1DaM2Z6wgj+j0w+YnwZ2PzhQbjK2uYA/W/KUg/H2dT97FK5H4Xp0P/WLLh2L1Hk/9YsuHYv4ez+pjXgJWlaBP61SNyPq638/Zha9AX54fD9GRE2idtp3P5wrc7t9KXk/\",\"dtype\":\"float64\",\"order\":\"little\",\"shape\":[12]},\"min_count\":{\"__ndarray__\":\"AAAAAABAVUAAAAAAAEBXQAAAAAAAgEdAAAAAAAAAQkAAAAAAAIBQQAAAAAAAADhAAAAAAAAAVkAAAAAAAABDQAAAAAAAgEBAAAAAAAAATUAAAAAAAAAmQAAAAAAAAFVA\",\"dtype\":\"float64\",\"order\":\"little\",\"shape\":[12]},\"vector_dim\":{\"__ndarray__\":\"AAAAAAAAQEAAAAAAADBwQAAAAAAA4G1AAAAAAABAcEAAAAAAANBwQAAAAAAAwHJAAAAAAAAASkAAAAAAAABLQAAAAAAAgGRAAAAAAABwcUAAAAAAAABxQAAAAAAAAG9A\",\"dtype\":\"float64\",\"order\":\"little\",\"shape\":[12]},\"word_ngrams\":{\"__ndarray__\":\"AAAAAAAACEAAAAAAAADwPwAAAAAAAAhAAAAAAAAA8D8AAAAAAADwPwAAAAAAAAhAAAAAAAAACEAAAAAAAADwPwAAAAAAAPA/AAAAAAAACEAAAAAAAAAIQAAAAAAAAABA\",\"dtype\":\"float64\",\"order\":\"little\",\"shape\":[12]}},\"selected\":{\"id\":\"1259\"},\"selection_policy\":{\"id\":\"1258\"}},\"id\":\"1125\",\"type\":\"ColumnDataSource\"},{\"attributes\":{\"fill_alpha\":{\"value\":0.2},\"fill_color\":{\"value\":\"#1f77b4\"},\"hatch_alpha\":{\"value\":0.2},\"line_alpha\":{\"value\":0.2},\"line_color\":{\"value\":\"#1f77b4\"},\"x\":{\"field\":\"min_count\"},\"y\":{\"field\":\"FinalObjectiveValue\"}},\"id\":\"1086\",\"type\":\"Circle\"},{\"attributes\":{\"coordinates\":null,\"data_source\":{\"id\":\"1082\"},\"glyph\":{\"id\":\"1084\"},\"group\":null,\"hover_glyph\":null,\"muted_glyph\":{\"id\":\"1086\"},\"nonselection_glyph\":{\"id\":\"1085\"},\"view\":{\"id\":\"1088\"}},\"id\":\"1087\",\"type\":\"GlyphRenderer\"},{\"attributes\":{\"fill_alpha\":{\"value\":0.2},\"fill_color\":{\"value\":\"#1f77b4\"},\"hatch_alpha\":{\"value\":0.2},\"line_alpha\":{\"value\":0.2},\"line_color\":{\"value\":\"#1f77b4\"},\"x\":{\"field\":\"vector_dim\"},\"y\":{\"field\":\"FinalObjectiveValue\"}},\"id\":\"1129\",\"type\":\"Circle\"},{\"attributes\":{},\"id\":\"1243\",\"type\":\"BasicTickFormatter\"},{\"attributes\":{\"tools\":[{\"id\":\"1132\"},{\"id\":\"1152\"},{\"id\":\"1153\"},{\"id\":\"1154\"},{\"id\":\"1155\"},{\"id\":\"1156\"},{\"id\":\"1157\"},{\"id\":\"1158\"}]},\"id\":\"1159\",\"type\":\"Toolbar\"},{\"attributes\":{},\"id\":\"1020\",\"type\":\"BasicTicker\"},{\"attributes\":{},\"id\":\"1231\",\"type\":\"BasicTickFormatter\"},{\"attributes\":{},\"id\":\"1244\",\"type\":\"AllLabels\"},{\"attributes\":{},\"id\":\"1025\",\"type\":\"WheelZoomTool\"},{\"attributes\":{},\"id\":\"1232\",\"type\":\"AllLabels\"},{\"attributes\":{\"axis\":{\"id\":\"1019\"},\"coordinates\":null,\"dimension\":1,\"group\":null,\"ticker\":null},\"id\":\"1022\",\"type\":\"Grid\"},{\"attributes\":{},\"id\":\"1246\",\"type\":\"BasicTickFormatter\"},{\"attributes\":{},\"id\":\"1023\",\"type\":\"PanTool\"},{\"attributes\":{},\"id\":\"1234\",\"type\":\"BasicTickFormatter\"},{\"attributes\":{},\"id\":\"1247\",\"type\":\"AllLabels\"},{\"attributes\":{\"fill_alpha\":{\"value\":0.1},\"fill_color\":{\"value\":\"#1f77b4\"},\"hatch_alpha\":{\"value\":0.1},\"line_alpha\":{\"value\":0.1},\"line_color\":{\"value\":\"#1f77b4\"},\"x\":{\"field\":\"vector_dim\"},\"y\":{\"field\":\"FinalObjectiveValue\"}},\"id\":\"1128\",\"type\":\"Circle\"},{\"attributes\":{},\"id\":\"1235\",\"type\":\"AllLabels\"},{\"attributes\":{},\"id\":\"1027\",\"type\":\"ZoomOutTool\"},{\"attributes\":{},\"id\":\"1024\",\"type\":\"CrosshairTool\"},{\"attributes\":{\"coordinates\":null,\"data_source\":{\"id\":\"1125\"},\"glyph\":{\"id\":\"1127\"},\"group\":null,\"hover_glyph\":null,\"muted_glyph\":{\"id\":\"1129\"},\"nonselection_glyph\":{\"id\":\"1128\"},\"view\":{\"id\":\"1131\"}},\"id\":\"1130\",\"type\":\"GlyphRenderer\"},{\"attributes\":{},\"id\":\"1028\",\"type\":\"UndoTool\"},{\"attributes\":{\"source\":{\"id\":\"1125\"}},\"id\":\"1131\",\"type\":\"CDSView\"},{\"attributes\":{\"callback\":null,\"tooltips\":[[\"FinalObjectiveValue\",\"@FinalObjectiveValue\"],[\"TrainingJobName\",\"@TrainingJobName\"],[\"epochs\",\"@{epochs}\"],[\"min_count\",\"@{min_count}\"],[\"vector_dim\",\"@{vector_dim}\"],[\"word_ngrams\",\"@{word_ngrams}\"],[\"learning_rate\",\"@{learning_rate}\"]]},\"id\":\"1089\",\"type\":\"HoverTool\"},{\"attributes\":{\"tools\":[{\"id\":\"1003\"},{\"id\":\"1023\"},{\"id\":\"1024\"},{\"id\":\"1025\"},{\"id\":\"1026\"},{\"id\":\"1027\"},{\"id\":\"1028\"},{\"id\":\"1029\"}]},\"id\":\"1030\",\"type\":\"Toolbar\"},{\"attributes\":{\"axis_label\":\"validation:accuracy\",\"coordinates\":null,\"formatter\":{\"id\":\"1243\"},\"group\":null,\"major_label_policy\":{\"id\":\"1244\"},\"ticker\":{\"id\":\"1149\"}},\"id\":\"1148\",\"type\":\"LinearAxis\"},{\"attributes\":{},\"id\":\"1152\",\"type\":\"PanTool\"},{\"attributes\":{},\"id\":\"1256\",\"type\":\"UnionRenderers\"},{\"attributes\":{},\"id\":\"1155\",\"type\":\"ZoomInTool\"},{\"attributes\":{},\"id\":\"1029\",\"type\":\"ResetTool\"},{\"attributes\":{},\"id\":\"1257\",\"type\":\"Selection\"},{\"attributes\":{\"axis_label\":\"validation:accuracy\",\"coordinates\":null,\"formatter\":{\"id\":\"1225\"},\"group\":null,\"major_label_policy\":{\"id\":\"1226\"},\"ticker\":{\"id\":\"1020\"}},\"id\":\"1019\",\"type\":\"LinearAxis\"},{\"attributes\":{},\"id\":\"1153\",\"type\":\"CrosshairTool\"},{\"attributes\":{\"coordinates\":null,\"group\":null,\"text\":\"Objective vs vector_dim\"},\"id\":\"1091\",\"type\":\"Title\"},{\"attributes\":{\"callback\":null,\"tooltips\":[[\"FinalObjectiveValue\",\"@FinalObjectiveValue\"],[\"TrainingJobName\",\"@TrainingJobName\"],[\"epochs\",\"@{epochs}\"],[\"min_count\",\"@{min_count}\"],[\"vector_dim\",\"@{vector_dim}\"],[\"word_ngrams\",\"@{word_ngrams}\"],[\"learning_rate\",\"@{learning_rate}\"]]},\"id\":\"1132\",\"type\":\"HoverTool\"},{\"attributes\":{\"data\":{\"FinalObjectiveValue\":{\"__ndarray__\":\"AAAAwO7J5T8AAABgJ6DlPwAAAGAnoOU/AAAAYCeg5T8AAADgC5PlPwAAACDChuU/AAAAwKZ55T8AAAAAGXPlPwAAACDSb+U/AAAAwGsJ5T8AAADg2azkPwAAAIAvTOI/\",\"dtype\":\"float64\",\"order\":\"little\",\"shape\":[12]},\"TrainingElapsedTimeSeconds\":{\"__ndarray__\":\"AAAAAADAVUAAAAAAAABPQAAAAAAAsHBAAAAAAAAAUkAAAAAAAMBaQAAAAAAAIHRAAAAAAAAAXEAAAAAAAABcQAAAAAAAgFNAAAAAAABQckAAAAAAANBzQAAAAAAAsHBA\",\"dtype\":\"float64\",\"order\":\"little\",\"shape\":[12]},\"TrainingEndTime\":{\"__ndarray__\":\"AACYsXcDeEIAgJ18dwN4QgAADHV3A3hCAIDtRXcDeEIAAEeAdwN4QgCAmVN3A3hCAAAnr3cDeEIAgIoXdwN4QgAAyK92A3hCAIDU4XYDeEIAgJwUdwN4QgAATu12A3hC\",\"dtype\":\"float64\",\"order\":\"little\",\"shape\":[12]},\"TrainingJobName\":[\"blazingtext-220417-1203-012-75bf6c21\",\"blazingtext-220417-1203-010-837e4c77\",\"blazingtext-220417-1203-008-81367c14\",\"blazingtext-220417-1203-007-42193dda\",\"blazingtext-220417-1203-009-89b01d8e\",\"blazingtext-220417-1203-006-5c63a47e\",\"blazingtext-220417-1203-011-f10e5a25\",\"blazingtext-220417-1203-005-a07c048c\",\"blazingtext-220417-1203-002-7cc6813b\",\"blazingtext-220417-1203-001-31bb1c79\",\"blazingtext-220417-1203-004-5a4248c2\",\"blazingtext-220417-1203-003-7375e333\"],\"TrainingJobStatus\":[\"Completed\",\"Completed\",\"Completed\",\"Completed\",\"Completed\",\"Completed\",\"Completed\",\"Completed\",\"Completed\",\"Completed\",\"Completed\",\"Completed\"],\"TrainingStartTime\":{\"__ndarray__\":\"AIBanHcDeEIAgHptdwN4QgCA3DN3A3hCAIBZNHcDeEIAgCdmdwN4QgCA/AR3A3hCAADPk3cDeEIAgDL8dgN4QgAAvZx2A3hCAABMmnYDeEIAADjHdgN4QgCAHqx2A3hC\",\"dtype\":\"float64\",\"order\":\"little\",\"shape\":[12]},\"epochs\":{\"__ndarray__\":\"AAAAAACASEAAAAAAAABHQAAAAAAAAEZAAAAAAAAAQUAAAAAAAIBIQAAAAAAAAEZAAAAAAAAARUAAAAAAAABIQAAAAAAAgENAAAAAAAAAOEAAAAAAAAA1QAAAAAAAABxA\",\"dtype\":\"float64\",\"order\":\"little\",\"shape\":[12]},\"index\":[0,2,4,5,3,6,1,7,10,11,8,9],\"learning_rate\":{\"__ndarray__\":\"1DaM2Z6wgj+j0w+YnwZ2PzhQbjK2uYA/W/KUg/H2dT97FK5H4Xp0P/WLLh2L1Hk/9YsuHYv4ez+pjXgJWlaBP61SNyPq638/Zha9AX54fD9GRE2idtp3P5wrc7t9KXk/\",\"dtype\":\"float64\",\"order\":\"little\",\"shape\":[12]},\"min_count\":{\"__ndarray__\":\"AAAAAABAVUAAAAAAAEBXQAAAAAAAgEdAAAAAAAAAQkAAAAAAAIBQQAAAAAAAADhAAAAAAAAAVkAAAAAAAABDQAAAAAAAgEBAAAAAAAAATUAAAAAAAAAmQAAAAAAAAFVA\",\"dtype\":\"float64\",\"order\":\"little\",\"shape\":[12]},\"vector_dim\":{\"__ndarray__\":\"AAAAAAAAQEAAAAAAADBwQAAAAAAA4G1AAAAAAABAcEAAAAAAANBwQAAAAAAAwHJAAAAAAAAASkAAAAAAAABLQAAAAAAAgGRAAAAAAABwcUAAAAAAAABxQAAAAAAAAG9A\",\"dtype\":\"float64\",\"order\":\"little\",\"shape\":[12]},\"word_ngrams\":{\"__ndarray__\":\"AAAAAAAACEAAAAAAAADwPwAAAAAAAAhAAAAAAAAA8D8AAAAAAADwPwAAAAAAAAhAAAAAAAAACEAAAAAAAADwPwAAAAAAAPA/AAAAAAAACEAAAAAAAAAIQAAAAAAAAABA\",\"dtype\":\"float64\",\"order\":\"little\",\"shape\":[12]}},\"selected\":{\"id\":\"1263\"},\"selection_policy\":{\"id\":\"1262\"}},\"id\":\"1211\",\"type\":\"ColumnDataSource\"},{\"attributes\":{\"below\":[{\"id\":\"1101\"}],\"center\":[{\"id\":\"1104\"},{\"id\":\"1108\"}],\"height\":500,\"left\":[{\"id\":\"1105\"}],\"renderers\":[{\"id\":\"1130\"}],\"title\":{\"id\":\"1091\"},\"toolbar\":{\"id\":\"1116\"},\"width\":500,\"x_range\":{\"id\":\"1093\"},\"x_scale\":{\"id\":\"1097\"},\"y_range\":{\"id\":\"1095\"},\"y_scale\":{\"id\":\"1099\"}},\"id\":\"1090\",\"subtype\":\"Figure\",\"type\":\"Plot\"},{\"attributes\":{\"fill_alpha\":{\"value\":0.1},\"fill_color\":{\"value\":\"#1f77b4\"},\"hatch_alpha\":{\"value\":0.1},\"line_alpha\":{\"value\":0.1},\"line_color\":{\"value\":\"#1f77b4\"},\"x\":{\"field\":\"min_count\"},\"y\":{\"field\":\"FinalObjectiveValue\"}},\"id\":\"1085\",\"type\":\"Circle\"},{\"attributes\":{\"fill_color\":{\"value\":\"#1f77b4\"},\"line_color\":{\"value\":\"#1f77b4\"},\"x\":{\"field\":\"epochs\"},\"y\":{\"field\":\"FinalObjectiveValue\"}},\"id\":\"1041\",\"type\":\"Circle\"},{\"attributes\":{\"coordinates\":null,\"data_source\":{\"id\":\"1039\"},\"glyph\":{\"id\":\"1041\"},\"group\":null,\"hover_glyph\":null,\"muted_glyph\":{\"id\":\"1043\"},\"nonselection_glyph\":{\"id\":\"1042\"},\"view\":{\"id\":\"1045\"}},\"id\":\"1044\",\"type\":\"GlyphRenderer\"},{\"attributes\":{\"below\":[{\"id\":\"1187\"}],\"center\":[{\"id\":\"1190\"},{\"id\":\"1194\"}],\"height\":500,\"left\":[{\"id\":\"1191\"}],\"renderers\":[{\"id\":\"1216\"}],\"title\":{\"id\":\"1177\"},\"toolbar\":{\"id\":\"1202\"},\"width\":500,\"x_range\":{\"id\":\"1179\"},\"x_scale\":{\"id\":\"1183\"},\"y_range\":{\"id\":\"1181\"},\"y_scale\":{\"id\":\"1185\"}},\"id\":\"1176\",\"subtype\":\"Figure\",\"type\":\"Plot\"},{\"attributes\":{\"source\":{\"id\":\"1082\"}},\"id\":\"1088\",\"type\":\"CDSView\"},{\"attributes\":{},\"id\":\"1110\",\"type\":\"CrosshairTool\"},{\"attributes\":{\"fill_alpha\":{\"value\":0.1},\"fill_color\":{\"value\":\"#1f77b4\"},\"hatch_alpha\":{\"value\":0.1},\"line_alpha\":{\"value\":0.1},\"line_color\":{\"value\":\"#1f77b4\"},\"x\":{\"field\":\"epochs\"},\"y\":{\"field\":\"FinalObjectiveValue\"}},\"id\":\"1042\",\"type\":\"Circle\"},{\"attributes\":{\"axis\":{\"id\":\"1015\"},\"coordinates\":null,\"group\":null,\"ticker\":null},\"id\":\"1018\",\"type\":\"Grid\"},{\"attributes\":{\"coordinates\":null,\"group\":null,\"text\":\"Objective vs epochs\"},\"id\":\"1005\",\"type\":\"Title\"},{\"attributes\":{\"axis_label\":\"epochs\",\"coordinates\":null,\"formatter\":{\"id\":\"1228\"},\"group\":null,\"major_label_policy\":{\"id\":\"1229\"},\"ticker\":{\"id\":\"1016\"}},\"id\":\"1015\",\"type\":\"LinearAxis\"},{\"attributes\":{},\"id\":\"1093\",\"type\":\"DataRange1d\"},{\"attributes\":{},\"id\":\"1013\",\"type\":\"LinearScale\"},{\"attributes\":{\"fill_color\":{\"value\":\"#1f77b4\"},\"line_color\":{\"value\":\"#1f77b4\"},\"x\":{\"field\":\"word_ngrams\"},\"y\":{\"field\":\"FinalObjectiveValue\"}},\"id\":\"1170\",\"type\":\"Circle\"},{\"attributes\":{},\"id\":\"1249\",\"type\":\"BasicTickFormatter\"},{\"attributes\":{\"fill_alpha\":{\"value\":0.2},\"fill_color\":{\"value\":\"#1f77b4\"},\"hatch_alpha\":{\"value\":0.2},\"line_alpha\":{\"value\":0.2},\"line_color\":{\"value\":\"#1f77b4\"},\"x\":{\"field\":\"epochs\"},\"y\":{\"field\":\"FinalObjectiveValue\"}},\"id\":\"1043\",\"type\":\"Circle\"},{\"attributes\":{},\"id\":\"1026\",\"type\":\"ZoomInTool\"},{\"attributes\":{},\"id\":\"1115\",\"type\":\"ResetTool\"},{\"attributes\":{},\"id\":\"1011\",\"type\":\"LinearScale\"},{\"attributes\":{\"tools\":[{\"id\":\"1046\"},{\"id\":\"1066\"},{\"id\":\"1067\"},{\"id\":\"1068\"},{\"id\":\"1069\"},{\"id\":\"1070\"},{\"id\":\"1071\"},{\"id\":\"1072\"}]},\"id\":\"1073\",\"type\":\"Toolbar\"},{\"attributes\":{\"coordinates\":null,\"data_source\":{\"id\":\"1168\"},\"glyph\":{\"id\":\"1170\"},\"group\":null,\"hover_glyph\":null,\"muted_glyph\":{\"id\":\"1172\"},\"nonselection_glyph\":{\"id\":\"1171\"},\"view\":{\"id\":\"1174\"}},\"id\":\"1173\",\"type\":\"GlyphRenderer\"},{\"attributes\":{},\"id\":\"1181\",\"type\":\"DataRange1d\"},{\"attributes\":{},\"id\":\"1016\",\"type\":\"BasicTicker\"},{\"attributes\":{},\"id\":\"1237\",\"type\":\"BasicTickFormatter\"},{\"attributes\":{\"coordinates\":null,\"group\":null,\"text\":\"Objective vs min_count\"},\"id\":\"1048\",\"type\":\"Title\"},{\"attributes\":{},\"id\":\"1102\",\"type\":\"BasicTicker\"},{\"attributes\":{\"fill_alpha\":{\"value\":0.2},\"fill_color\":{\"value\":\"#1f77b4\"},\"hatch_alpha\":{\"value\":0.2},\"line_alpha\":{\"value\":0.2},\"line_color\":{\"value\":\"#1f77b4\"},\"x\":{\"field\":\"word_ngrams\"},\"y\":{\"field\":\"FinalObjectiveValue\"}},\"id\":\"1172\",\"type\":\"Circle\"},{\"attributes\":{\"source\":{\"id\":\"1039\"}},\"id\":\"1045\",\"type\":\"CDSView\"},{\"attributes\":{},\"id\":\"1238\",\"type\":\"AllLabels\"},{\"attributes\":{},\"id\":\"1250\",\"type\":\"AllLabels\"},{\"attributes\":{},\"id\":\"1252\",\"type\":\"BasicTickFormatter\"},{\"attributes\":{},\"id\":\"1071\",\"type\":\"UndoTool\"},{\"attributes\":{},\"id\":\"1240\",\"type\":\"BasicTickFormatter\"},{\"attributes\":{},\"id\":\"1072\",\"type\":\"ResetTool\"},{\"attributes\":{\"fill_alpha\":{\"value\":0.1},\"fill_color\":{\"value\":\"#1f77b4\"},\"hatch_alpha\":{\"value\":0.1},\"line_alpha\":{\"value\":0.1},\"line_color\":{\"value\":\"#1f77b4\"},\"x\":{\"field\":\"word_ngrams\"},\"y\":{\"field\":\"FinalObjectiveValue\"}},\"id\":\"1171\",\"type\":\"Circle\"},{\"attributes\":{},\"id\":\"1157\",\"type\":\"UndoTool\"},{\"attributes\":{},\"id\":\"1158\",\"type\":\"ResetTool\"},{\"attributes\":{},\"id\":\"1253\",\"type\":\"AllLabels\"},{\"attributes\":{\"tools\":[{\"id\":\"1089\"},{\"id\":\"1109\"},{\"id\":\"1110\"},{\"id\":\"1111\"},{\"id\":\"1112\"},{\"id\":\"1113\"},{\"id\":\"1114\"},{\"id\":\"1115\"}]},\"id\":\"1116\",\"type\":\"Toolbar\"},{\"attributes\":{},\"id\":\"1068\",\"type\":\"WheelZoomTool\"},{\"attributes\":{},\"id\":\"1241\",\"type\":\"AllLabels\"},{\"attributes\":{},\"id\":\"1059\",\"type\":\"BasicTicker\"},{\"attributes\":{},\"id\":\"1154\",\"type\":\"WheelZoomTool\"},{\"attributes\":{},\"id\":\"1156\",\"type\":\"ZoomOutTool\"},{\"attributes\":{},\"id\":\"1225\",\"type\":\"BasicTickFormatter\"},{\"attributes\":{\"axis\":{\"id\":\"1058\"},\"coordinates\":null,\"group\":null,\"ticker\":null},\"id\":\"1061\",\"type\":\"Grid\"},{\"attributes\":{},\"id\":\"1149\",\"type\":\"BasicTicker\"},{\"attributes\":{},\"id\":\"1070\",\"type\":\"ZoomOutTool\"},{\"attributes\":{\"axis\":{\"id\":\"1148\"},\"coordinates\":null,\"dimension\":1,\"group\":null,\"ticker\":null},\"id\":\"1151\",\"type\":\"Grid\"},{\"attributes\":{},\"id\":\"1226\",\"type\":\"AllLabels\"},{\"attributes\":{},\"id\":\"1069\",\"type\":\"ZoomInTool\"},{\"attributes\":{},\"id\":\"1066\",\"type\":\"PanTool\"},{\"attributes\":{},\"id\":\"1113\",\"type\":\"ZoomOutTool\"},{\"attributes\":{},\"id\":\"1114\",\"type\":\"UndoTool\"},{\"attributes\":{},\"id\":\"1063\",\"type\":\"BasicTicker\"},{\"attributes\":{\"source\":{\"id\":\"1168\"}},\"id\":\"1174\",\"type\":\"CDSView\"},{\"attributes\":{},\"id\":\"1259\",\"type\":\"Selection\"},{\"attributes\":{\"coordinates\":null,\"group\":null,\"text\":\"Objective vs word_ngrams\"},\"id\":\"1134\",\"type\":\"Title\"},{\"attributes\":{},\"id\":\"1228\",\"type\":\"BasicTickFormatter\"},{\"attributes\":{},\"id\":\"1112\",\"type\":\"ZoomInTool\"},{\"attributes\":{},\"id\":\"1109\",\"type\":\"PanTool\"},{\"attributes\":{},\"id\":\"1254\",\"type\":\"UnionRenderers\"},{\"attributes\":{},\"id\":\"1258\",\"type\":\"UnionRenderers\"},{\"attributes\":{\"axis_label\":\"validation:accuracy\",\"coordinates\":null,\"formatter\":{\"id\":\"1231\"},\"group\":null,\"major_label_policy\":{\"id\":\"1232\"},\"ticker\":{\"id\":\"1063\"}},\"id\":\"1062\",\"type\":\"LinearAxis\"},{\"attributes\":{},\"id\":\"1111\",\"type\":\"WheelZoomTool\"},{\"attributes\":{\"axis\":{\"id\":\"1062\"},\"coordinates\":null,\"dimension\":1,\"group\":null,\"ticker\":null},\"id\":\"1065\",\"type\":\"Grid\"},{\"attributes\":{\"axis_label\":\"word_ngrams\",\"coordinates\":null,\"formatter\":{\"id\":\"1246\"},\"group\":null,\"major_label_policy\":{\"id\":\"1247\"},\"ticker\":{\"id\":\"1145\"}},\"id\":\"1144\",\"type\":\"LinearAxis\"},{\"attributes\":{},\"id\":\"1229\",\"type\":\"AllLabels\"},{\"attributes\":{\"axis\":{\"id\":\"1144\"},\"coordinates\":null,\"group\":null,\"ticker\":null},\"id\":\"1147\",\"type\":\"Grid\"},{\"attributes\":{\"fill_color\":{\"value\":\"#1f77b4\"},\"line_color\":{\"value\":\"#1f77b4\"},\"x\":{\"field\":\"min_count\"},\"y\":{\"field\":\"FinalObjectiveValue\"}},\"id\":\"1084\",\"type\":\"Circle\"},{\"attributes\":{},\"id\":\"1255\",\"type\":\"Selection\"},{\"attributes\":{\"axis_label\":\"validation:accuracy\",\"coordinates\":null,\"formatter\":{\"id\":\"1237\"},\"group\":null,\"major_label_policy\":{\"id\":\"1238\"},\"ticker\":{\"id\":\"1106\"}},\"id\":\"1105\",\"type\":\"LinearAxis\"},{\"attributes\":{},\"id\":\"1140\",\"type\":\"LinearScale\"},{\"attributes\":{},\"id\":\"1067\",\"type\":\"CrosshairTool\"},{\"attributes\":{},\"id\":\"1138\",\"type\":\"DataRange1d\"},{\"attributes\":{},\"id\":\"1106\",\"type\":\"BasicTicker\"},{\"attributes\":{},\"id\":\"1054\",\"type\":\"LinearScale\"},{\"attributes\":{\"axis\":{\"id\":\"1105\"},\"coordinates\":null,\"dimension\":1,\"group\":null,\"ticker\":null},\"id\":\"1108\",\"type\":\"Grid\"},{\"attributes\":{},\"id\":\"1145\",\"type\":\"BasicTicker\"},{\"attributes\":{},\"id\":\"1050\",\"type\":\"DataRange1d\"},{\"attributes\":{},\"id\":\"1097\",\"type\":\"LinearScale\"},{\"attributes\":{\"axis_label\":\"min_count\",\"coordinates\":null,\"formatter\":{\"id\":\"1234\"},\"group\":null,\"major_label_policy\":{\"id\":\"1235\"},\"ticker\":{\"id\":\"1059\"}},\"id\":\"1058\",\"type\":\"LinearAxis\"},{\"attributes\":{\"axis_label\":\"vector_dim\",\"coordinates\":null,\"formatter\":{\"id\":\"1240\"},\"group\":null,\"major_label_policy\":{\"id\":\"1241\"},\"ticker\":{\"id\":\"1102\"}},\"id\":\"1101\",\"type\":\"LinearAxis\"},{\"attributes\":{},\"id\":\"1142\",\"type\":\"LinearScale\"},{\"attributes\":{},\"id\":\"1056\",\"type\":\"LinearScale\"},{\"attributes\":{},\"id\":\"1099\",\"type\":\"LinearScale\"},{\"attributes\":{},\"id\":\"1136\",\"type\":\"DataRange1d\"},{\"attributes\":{},\"id\":\"1052\",\"type\":\"DataRange1d\"},{\"attributes\":{\"fill_color\":{\"value\":\"#1f77b4\"},\"line_color\":{\"value\":\"#1f77b4\"},\"x\":{\"field\":\"vector_dim\"},\"y\":{\"field\":\"FinalObjectiveValue\"}},\"id\":\"1127\",\"type\":\"Circle\"},{\"attributes\":{\"data\":{\"FinalObjectiveValue\":{\"__ndarray__\":\"AAAAwO7J5T8AAABgJ6DlPwAAAGAnoOU/AAAAYCeg5T8AAADgC5PlPwAAACDChuU/AAAAwKZ55T8AAAAAGXPlPwAAACDSb+U/AAAAwGsJ5T8AAADg2azkPwAAAIAvTOI/\",\"dtype\":\"float64\",\"order\":\"little\",\"shape\":[12]},\"TrainingElapsedTimeSeconds\":{\"__ndarray__\":\"AAAAAADAVUAAAAAAAABPQAAAAAAAsHBAAAAAAAAAUkAAAAAAAMBaQAAAAAAAIHRAAAAAAAAAXEAAAAAAAABcQAAAAAAAgFNAAAAAAABQckAAAAAAANBzQAAAAAAAsHBA\",\"dtype\":\"float64\",\"order\":\"little\",\"shape\":[12]},\"TrainingEndTime\":{\"__ndarray__\":\"AACYsXcDeEIAgJ18dwN4QgAADHV3A3hCAIDtRXcDeEIAAEeAdwN4QgCAmVN3A3hCAAAnr3cDeEIAgIoXdwN4QgAAyK92A3hCAIDU4XYDeEIAgJwUdwN4QgAATu12A3hC\",\"dtype\":\"float64\",\"order\":\"little\",\"shape\":[12]},\"TrainingJobName\":[\"blazingtext-220417-1203-012-75bf6c21\",\"blazingtext-220417-1203-010-837e4c77\",\"blazingtext-220417-1203-008-81367c14\",\"blazingtext-220417-1203-007-42193dda\",\"blazingtext-220417-1203-009-89b01d8e\",\"blazingtext-220417-1203-006-5c63a47e\",\"blazingtext-220417-1203-011-f10e5a25\",\"blazingtext-220417-1203-005-a07c048c\",\"blazingtext-220417-1203-002-7cc6813b\",\"blazingtext-220417-1203-001-31bb1c79\",\"blazingtext-220417-1203-004-5a4248c2\",\"blazingtext-220417-1203-003-7375e333\"],\"TrainingJobStatus\":[\"Completed\",\"Completed\",\"Completed\",\"Completed\",\"Completed\",\"Completed\",\"Completed\",\"Completed\",\"Completed\",\"Completed\",\"Completed\",\"Completed\"],\"TrainingStartTime\":{\"__ndarray__\":\"AIBanHcDeEIAgHptdwN4QgCA3DN3A3hCAIBZNHcDeEIAgCdmdwN4QgCA/AR3A3hCAADPk3cDeEIAgDL8dgN4QgAAvZx2A3hCAABMmnYDeEIAADjHdgN4QgCAHqx2A3hC\",\"dtype\":\"float64\",\"order\":\"little\",\"shape\":[12]},\"epochs\":{\"__ndarray__\":\"AAAAAACASEAAAAAAAABHQAAAAAAAAEZAAAAAAAAAQUAAAAAAAIBIQAAAAAAAAEZAAAAAAAAARUAAAAAAAABIQAAAAAAAgENAAAAAAAAAOEAAAAAAAAA1QAAAAAAAABxA\",\"dtype\":\"float64\",\"order\":\"little\",\"shape\":[12]},\"index\":[0,2,4,5,3,6,1,7,10,11,8,9],\"learning_rate\":{\"__ndarray__\":\"1DaM2Z6wgj+j0w+YnwZ2PzhQbjK2uYA/W/KUg/H2dT97FK5H4Xp0P/WLLh2L1Hk/9YsuHYv4ez+pjXgJWlaBP61SNyPq638/Zha9AX54fD9GRE2idtp3P5wrc7t9KXk/\",\"dtype\":\"float64\",\"order\":\"little\",\"shape\":[12]},\"min_count\":{\"__ndarray__\":\"AAAAAABAVUAAAAAAAEBXQAAAAAAAgEdAAAAAAAAAQkAAAAAAAIBQQAAAAAAAADhAAAAAAAAAVkAAAAAAAABDQAAAAAAAgEBAAAAAAAAATUAAAAAAAAAmQAAAAAAAAFVA\",\"dtype\":\"float64\",\"order\":\"little\",\"shape\":[12]},\"vector_dim\":{\"__ndarray__\":\"AAAAAAAAQEAAAAAAADBwQAAAAAAA4G1AAAAAAABAcEAAAAAAANBwQAAAAAAAwHJAAAAAAAAASkAAAAAAAABLQAAAAAAAgGRAAAAAAABwcUAAAAAAAABxQAAAAAAAAG9A\",\"dtype\":\"float64\",\"order\":\"little\",\"shape\":[12]},\"word_ngrams\":{\"__ndarray__\":\"AAAAAAAACEAAAAAAAADwPwAAAAAAAAhAAAAAAAAA8D8AAAAAAADwPwAAAAAAAAhAAAAAAAAACEAAAAAAAADwPwAAAAAAAPA/AAAAAAAACEAAAAAAAAAIQAAAAAAAAABA\",\"dtype\":\"float64\",\"order\":\"little\",\"shape\":[12]}},\"selected\":{\"id\":\"1261\"},\"selection_policy\":{\"id\":\"1260\"}},\"id\":\"1168\",\"type\":\"ColumnDataSource\"},{\"attributes\":{\"below\":[{\"id\":\"1058\"}],\"center\":[{\"id\":\"1061\"},{\"id\":\"1065\"}],\"height\":500,\"left\":[{\"id\":\"1062\"}],\"renderers\":[{\"id\":\"1087\"}],\"title\":{\"id\":\"1048\"},\"toolbar\":{\"id\":\"1073\"},\"width\":500,\"x_range\":{\"id\":\"1050\"},\"x_scale\":{\"id\":\"1054\"},\"y_range\":{\"id\":\"1052\"},\"y_scale\":{\"id\":\"1056\"}},\"id\":\"1047\",\"subtype\":\"Figure\",\"type\":\"Plot\"},{\"attributes\":{\"axis\":{\"id\":\"1101\"},\"coordinates\":null,\"group\":null,\"ticker\":null},\"id\":\"1104\",\"type\":\"Grid\"},{\"attributes\":{},\"id\":\"1179\",\"type\":\"DataRange1d\"},{\"attributes\":{\"callback\":null,\"tooltips\":[[\"FinalObjectiveValue\",\"@FinalObjectiveValue\"],[\"TrainingJobName\",\"@TrainingJobName\"],[\"epochs\",\"@{epochs}\"],[\"min_count\",\"@{min_count}\"],[\"vector_dim\",\"@{vector_dim}\"],[\"word_ngrams\",\"@{word_ngrams}\"],[\"learning_rate\",\"@{learning_rate}\"]]},\"id\":\"1003\",\"type\":\"HoverTool\"},{\"attributes\":{},\"id\":\"1095\",\"type\":\"DataRange1d\"},{\"attributes\":{\"below\":[{\"id\":\"1144\"}],\"center\":[{\"id\":\"1147\"},{\"id\":\"1151\"}],\"height\":500,\"left\":[{\"id\":\"1148\"}],\"renderers\":[{\"id\":\"1173\"}],\"title\":{\"id\":\"1134\"},\"toolbar\":{\"id\":\"1159\"},\"width\":500,\"x_range\":{\"id\":\"1136\"},\"x_scale\":{\"id\":\"1140\"},\"y_range\":{\"id\":\"1138\"},\"y_scale\":{\"id\":\"1142\"}},\"id\":\"1133\",\"subtype\":\"Figure\",\"type\":\"Plot\"}],\"root_ids\":[\"1218\"]},\"title\":\"Bokeh Application\",\"version\":\"2.4.2\"}};\n",
       "  const render_items = [{\"docid\":\"ca75e19e-6cce-484e-bbeb-e4794015a0b9\",\"root_ids\":[\"1218\"],\"roots\":{\"1218\":\"bf5a524d-ad15-497d-a8d5-2a9f4edee0e5\"}}];\n",
       "  root.Bokeh.embed.embed_items_notebook(docs_json, render_items);\n",
       "\n",
       "  }\n",
       "  if (root.Bokeh !== undefined) {\n",
       "    embed_document(root);\n",
       "  } else {\n",
       "    let attempts = 0;\n",
       "    const timer = setInterval(function(root) {\n",
       "      if (root.Bokeh !== undefined) {\n",
       "        clearInterval(timer);\n",
       "        embed_document(root);\n",
       "      } else {\n",
       "        attempts++;\n",
       "        if (attempts > 100) {\n",
       "          clearInterval(timer);\n",
       "          console.log(\"Bokeh: ERROR: Unable to run BokehJS code because BokehJS library is missing\");\n",
       "        }\n",
       "      }\n",
       "    }, 10, root)\n",
       "  }\n",
       "})(window);"
      ],
      "application/vnd.bokehjs_exec.v0+json": ""
     },
     "metadata": {
      "application/vnd.bokehjs_exec.v0+json": {
       "id": "1218"
      }
     },
     "output_type": "display_data"
    }
   ],
   "source": [
    "import bokeh\n",
    "from bokeh.io import output_notebook\n",
    "from bokeh.plotting import figure, show\n",
    "from bokeh.models import HoverTool\n",
    "\n",
    "output_notebook()\n",
    "\n",
    "class HoverHelper():\n",
    "    def __init__(self, tuning_analytics):\n",
    "        self.tuner = tuning_analytics\n",
    "\n",
    "    def hovertool(self):\n",
    "        tooltips = [\n",
    "            (\"FinalObjectiveValue\", \"@FinalObjectiveValue\"),\n",
    "            (\"TrainingJobName\", \"@TrainingJobName\"),\n",
    "        ]\n",
    "        for k in self.tuner.tuning_ranges.keys():\n",
    "            tooltips.append( (k, \"@{%s}\" % k) )\n",
    "        ht = HoverTool(tooltips=tooltips)\n",
    "        return ht\n",
    "\n",
    "    def tools(self, standard_tools='pan,crosshair,wheel_zoom,zoom_in,zoom_out,undo,reset'):\n",
    "        return [self.hovertool(), standard_tools]\n",
    "\n",
    "def compare_metrics(tuner_analytics, jobs_df):\n",
    "    hover = HoverHelper(tuner_analytics)\n",
    "    figures = []\n",
    "    for hp_name, hp_range in tuner_analytics.tuning_ranges.items():\n",
    "        categorical_args = {}\n",
    "        if hp_range.get('Values'):\n",
    "            # This is marked as categorical.  Check if all options are actually numbers.\n",
    "            def is_num(x):\n",
    "                try:\n",
    "                    float(x)\n",
    "                    return 1\n",
    "                except:\n",
    "                    return 0           \n",
    "            vals = hp_range['Values']\n",
    "            if sum([is_num(x) for x in vals]) == len(vals):\n",
    "                # Bokeh has issues plotting a \"categorical\" range that's actually numeric, so plot as numeric\n",
    "                print(f\"Hyperparameter {hp_name} is tuned as categorical, but all values are numeric\")\n",
    "            else:\n",
    "                # Set up extra options for plotting categoricals.  A bit tricky when they're actually numbers.\n",
    "                categorical_args['x_range'] = vals\n",
    "\n",
    "        # Now plot it\n",
    "        p = figure(plot_width=500, plot_height=500, \n",
    "                   title=f\"Objective vs {hp_name}\",\n",
    "                   tools=hover.tools(),\n",
    "                   x_axis_label=hp_name, y_axis_label=objective_name,\n",
    "                   **categorical_args)\n",
    "        p.circle(source=jobs_df, x=hp_name, y='FinalObjectiveValue')\n",
    "        figures.append(p)\n",
    "    show(bokeh.layouts.Column(*figures))\n",
    "    \n",
    "compare_metrics(tuner_analytics, jobs_df)"
   ]
  },
  {
   "cell_type": "code",
   "execution_count": null,
   "metadata": {},
   "outputs": [],
   "source": []
  }
 ],
 "metadata": {
  "instance_type": "ml.t3.medium",
  "kernelspec": {
   "display_name": "conda_python3",
   "language": "python",
   "name": "conda_python3"
  },
  "language_info": {
   "codemirror_mode": {
    "name": "ipython",
    "version": 3
   },
   "file_extension": ".py",
   "mimetype": "text/x-python",
   "name": "python",
   "nbconvert_exporter": "python",
   "pygments_lexer": "ipython3",
   "version": "3.8.12"
  }
 },
 "nbformat": 4,
 "nbformat_minor": 4
}
